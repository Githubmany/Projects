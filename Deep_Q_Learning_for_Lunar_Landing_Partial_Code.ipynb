{
  "cells": [
    {
      "cell_type": "markdown",
      "metadata": {
        "id": "view-in-github",
        "colab_type": "text"
      },
      "source": [
        "<a href=\"https://colab.research.google.com/github/Githubmany/Projects/blob/master/Deep_Q_Learning_for_Lunar_Landing_Partial_Code.ipynb\" target=\"_parent\"><img src=\"https://colab.research.google.com/assets/colab-badge.svg\" alt=\"Open In Colab\"/></a>"
      ]
    },
    {
      "cell_type": "markdown",
      "metadata": {
        "id": "LbZcI9ZXHl3a"
      },
      "source": [
        "# Deep Q-Learning for Lunar Landing"
      ]
    },
    {
      "cell_type": "markdown",
      "metadata": {
        "id": "E8yPRjteXgPb"
      },
      "source": [
        "## Part 0 - Installing the required packages and importing the libraries"
      ]
    },
    {
      "cell_type": "markdown",
      "metadata": {
        "id": "slEm5teGWjWU"
      },
      "source": [
        "### Installing Gymnasium"
      ]
    },
    {
      "cell_type": "code",
      "execution_count": 18,
      "metadata": {
        "id": "dbnq3XpoKa_7",
        "colab": {
          "base_uri": "https://localhost:8080/"
        },
        "outputId": "b6de3aa8-990d-424f-b298-ac4135cf05ad"
      },
      "outputs": [
        {
          "output_type": "stream",
          "name": "stdout",
          "text": [
            "Requirement already satisfied: gymnasium in /usr/local/lib/python3.10/dist-packages (0.29.1)\n",
            "Requirement already satisfied: numpy>=1.21.0 in /usr/local/lib/python3.10/dist-packages (from gymnasium) (1.23.5)\n",
            "Requirement already satisfied: cloudpickle>=1.2.0 in /usr/local/lib/python3.10/dist-packages (from gymnasium) (2.2.1)\n",
            "Requirement already satisfied: typing-extensions>=4.3.0 in /usr/local/lib/python3.10/dist-packages (from gymnasium) (4.5.0)\n",
            "Requirement already satisfied: farama-notifications>=0.0.1 in /usr/local/lib/python3.10/dist-packages (from gymnasium) (0.0.4)\n",
            "Requirement already satisfied: gymnasium[accept-rom-license,atari] in /usr/local/lib/python3.10/dist-packages (0.29.1)\n",
            "Requirement already satisfied: numpy>=1.21.0 in /usr/local/lib/python3.10/dist-packages (from gymnasium[accept-rom-license,atari]) (1.23.5)\n",
            "Requirement already satisfied: cloudpickle>=1.2.0 in /usr/local/lib/python3.10/dist-packages (from gymnasium[accept-rom-license,atari]) (2.2.1)\n",
            "Requirement already satisfied: typing-extensions>=4.3.0 in /usr/local/lib/python3.10/dist-packages (from gymnasium[accept-rom-license,atari]) (4.5.0)\n",
            "Requirement already satisfied: farama-notifications>=0.0.1 in /usr/local/lib/python3.10/dist-packages (from gymnasium[accept-rom-license,atari]) (0.0.4)\n",
            "Requirement already satisfied: shimmy[atari]<1.0,>=0.1.0 in /usr/local/lib/python3.10/dist-packages (from gymnasium[accept-rom-license,atari]) (0.2.1)\n",
            "Requirement already satisfied: autorom[accept-rom-license]~=0.4.2 in /usr/local/lib/python3.10/dist-packages (from gymnasium[accept-rom-license,atari]) (0.4.2)\n",
            "Requirement already satisfied: click in /usr/local/lib/python3.10/dist-packages (from autorom[accept-rom-license]~=0.4.2->gymnasium[accept-rom-license,atari]) (8.1.7)\n",
            "Requirement already satisfied: requests in /usr/local/lib/python3.10/dist-packages (from autorom[accept-rom-license]~=0.4.2->gymnasium[accept-rom-license,atari]) (2.31.0)\n",
            "Requirement already satisfied: tqdm in /usr/local/lib/python3.10/dist-packages (from autorom[accept-rom-license]~=0.4.2->gymnasium[accept-rom-license,atari]) (4.66.1)\n",
            "Requirement already satisfied: AutoROM.accept-rom-license in /usr/local/lib/python3.10/dist-packages (from autorom[accept-rom-license]~=0.4.2->gymnasium[accept-rom-license,atari]) (0.6.1)\n",
            "Requirement already satisfied: ale-py~=0.8.1 in /usr/local/lib/python3.10/dist-packages (from shimmy[atari]<1.0,>=0.1.0->gymnasium[accept-rom-license,atari]) (0.8.1)\n",
            "Requirement already satisfied: importlib-resources in /usr/local/lib/python3.10/dist-packages (from ale-py~=0.8.1->shimmy[atari]<1.0,>=0.1.0->gymnasium[accept-rom-license,atari]) (6.1.1)\n",
            "Requirement already satisfied: charset-normalizer<4,>=2 in /usr/local/lib/python3.10/dist-packages (from requests->autorom[accept-rom-license]~=0.4.2->gymnasium[accept-rom-license,atari]) (3.3.2)\n",
            "Requirement already satisfied: idna<4,>=2.5 in /usr/local/lib/python3.10/dist-packages (from requests->autorom[accept-rom-license]~=0.4.2->gymnasium[accept-rom-license,atari]) (3.6)\n",
            "Requirement already satisfied: urllib3<3,>=1.21.1 in /usr/local/lib/python3.10/dist-packages (from requests->autorom[accept-rom-license]~=0.4.2->gymnasium[accept-rom-license,atari]) (2.0.7)\n",
            "Requirement already satisfied: certifi>=2017.4.17 in /usr/local/lib/python3.10/dist-packages (from requests->autorom[accept-rom-license]~=0.4.2->gymnasium[accept-rom-license,atari]) (2023.11.17)\n",
            "Reading package lists... Done\n",
            "Building dependency tree... Done\n",
            "Reading state information... Done\n",
            "swig is already the newest version (4.0.2-1ubuntu1).\n",
            "0 upgraded, 0 newly installed, 0 to remove and 15 not upgraded.\n",
            "Requirement already satisfied: gymnasium[box2d] in /usr/local/lib/python3.10/dist-packages (0.29.1)\n",
            "Requirement already satisfied: numpy>=1.21.0 in /usr/local/lib/python3.10/dist-packages (from gymnasium[box2d]) (1.23.5)\n",
            "Requirement already satisfied: cloudpickle>=1.2.0 in /usr/local/lib/python3.10/dist-packages (from gymnasium[box2d]) (2.2.1)\n",
            "Requirement already satisfied: typing-extensions>=4.3.0 in /usr/local/lib/python3.10/dist-packages (from gymnasium[box2d]) (4.5.0)\n",
            "Requirement already satisfied: farama-notifications>=0.0.1 in /usr/local/lib/python3.10/dist-packages (from gymnasium[box2d]) (0.0.4)\n",
            "Requirement already satisfied: box2d-py==2.3.5 in /usr/local/lib/python3.10/dist-packages (from gymnasium[box2d]) (2.3.5)\n",
            "Requirement already satisfied: pygame>=2.1.3 in /usr/local/lib/python3.10/dist-packages (from gymnasium[box2d]) (2.5.2)\n",
            "Requirement already satisfied: swig==4.* in /usr/local/lib/python3.10/dist-packages (from gymnasium[box2d]) (4.1.1.post1)\n"
          ]
        }
      ],
      "source": [
        "!pip install gymnasium\n",
        "!pip install \"gymnasium[atari, accept-rom-license]\"\n",
        "!apt-get install -y swig\n",
        "!pip install gymnasium[box2d]"
      ]
    },
    {
      "cell_type": "markdown",
      "metadata": {
        "id": "brqiMN3UW9T9"
      },
      "source": [
        "### Importing the libraries"
      ]
    },
    {
      "cell_type": "code",
      "execution_count": 19,
      "metadata": {
        "id": "mZaKXP_aMl9O"
      },
      "outputs": [],
      "source": [
        "import os\n",
        "import random\n",
        "import numpy as np\n",
        "import torch\n",
        "import torch.nn as nn\n",
        "import torch.optim as optim\n",
        "import torch.nn.functional as F\n",
        "import torch.autograd as autograd\n",
        "from torch.autograd import Variable\n",
        "from collections import deque, namedtuple"
      ]
    },
    {
      "cell_type": "markdown",
      "metadata": {
        "id": "EzlDKXvkXzGI"
      },
      "source": [
        "## Part 1 - Building the AI"
      ]
    },
    {
      "cell_type": "code",
      "source": [],
      "metadata": {
        "id": "BYTCp5NH7LV1"
      },
      "execution_count": 2,
      "outputs": []
    },
    {
      "cell_type": "markdown",
      "metadata": {
        "id": "UtG6Zc83YYy3"
      },
      "source": [
        "### Creating the architecture of the Neural Network"
      ]
    },
    {
      "cell_type": "code",
      "source": [
        "class Network(nn.Module):\n",
        "\n",
        "  def __init__(self, state_size, action_size, seed = 42):\n",
        "    super(Network, self).__init__()\n",
        "    self.seed = torch.manual_seed(seed)\n",
        "    self.fc1 = nn.Linear(state_size, 64)\n",
        "    self.fc2 = nn.Linear(64, 64)\n",
        "    self.fc3 = nn.Linear(64, action_size)\n",
        "\n",
        "  def forward(self, state):\n",
        "    x = self.fc1(state)\n",
        "    x = F.relu(x)\n",
        "    x = self.fc2(x)\n",
        "    x = F.relu(x)\n",
        "    return self.fc3(x)\n"
      ],
      "metadata": {
        "id": "ST4D9kTBB6qF"
      },
      "execution_count": 20,
      "outputs": []
    },
    {
      "cell_type": "markdown",
      "metadata": {
        "id": "UxVrBnFWZKb1"
      },
      "source": [
        "## Part 2 - Training the AI"
      ]
    },
    {
      "cell_type": "markdown",
      "metadata": {
        "id": "T364fz9qZb2j"
      },
      "source": [
        "### Setting up the environment"
      ]
    },
    {
      "cell_type": "code",
      "source": [],
      "metadata": {
        "id": "ai29QN2Mw-ky"
      },
      "execution_count": null,
      "outputs": []
    },
    {
      "cell_type": "code",
      "source": [],
      "metadata": {
        "id": "pqo4rujo0_rd"
      },
      "execution_count": null,
      "outputs": []
    },
    {
      "cell_type": "code",
      "source": [
        "import gymnasium as gym\n",
        "env = gym.make(\"LunarLander-v2\")\n",
        "state_shape = env.observation_space.shape\n",
        "state_size = env.observation_space.shape[0]\n",
        "number_actions = env.action_space.n\n",
        "print(\"State_shape: \", state_shape)\n",
        "print(\"State_size: \", state_size)\n",
        "print(\"Number of actions: \", number_actions)"
      ],
      "metadata": {
        "colab": {
          "base_uri": "https://localhost:8080/"
        },
        "id": "OZi7dqO1ymJ_",
        "outputId": "16257690-ddd9-49a2-bf32-3558f7f5b57c"
      },
      "execution_count": 21,
      "outputs": [
        {
          "output_type": "stream",
          "name": "stdout",
          "text": [
            "State_shape:  (8,)\n",
            "State_size:  8\n",
            "Number of actions:  4\n"
          ]
        }
      ]
    },
    {
      "cell_type": "code",
      "source": [
        "\n",
        "\n"
      ],
      "metadata": {
        "colab": {
          "base_uri": "https://localhost:8080/"
        },
        "id": "U7SeZZzzLFVD",
        "outputId": "20cd4362-2a4e-4a9a-f18c-e7e91fe12e35"
      },
      "execution_count": null,
      "outputs": [
        {
          "output_type": "stream",
          "name": "stderr",
          "text": [
            "/usr/local/lib/python3.10/dist-packages/ipykernel/ipkernel.py:283: DeprecationWarning: `should_run_async` will not call `transform_cell` automatically in the future. Please pass the result to `transformed_cell` argument and any exception that happen during thetransform in `preprocessing_exc_tuple` in IPython 7.17 and above.\n",
            "  and should_run_async(code)\n"
          ]
        }
      ]
    },
    {
      "cell_type": "markdown",
      "metadata": {
        "id": "c_dZmOIvZgj-"
      },
      "source": [
        "### Initializing the hyperparameters"
      ]
    },
    {
      "cell_type": "code",
      "source": [
        "learning_rate = 5e-4\n",
        "minibatch_size = 100\n",
        "discount_factor = 0.99\n",
        "replay_buffer_size = int(1e5)\n",
        "interpolation_parameter = 1e-3\n"
      ],
      "metadata": {
        "id": "PzlMxUbgOF_S"
      },
      "execution_count": 22,
      "outputs": []
    },
    {
      "cell_type": "markdown",
      "metadata": {
        "id": "8hD_Vs-bYnip"
      },
      "source": [
        "### Implementing Experience Replay"
      ]
    },
    {
      "cell_type": "code",
      "source": [
        "class ReplayMemory(object):\n",
        "  def __init__(self, capacity):\n",
        "    self.device = torch.device(\"cuda:0\" if torch.cuda.is_available() else \"cpu\")\n",
        "    self.capacity = capacity\n",
        "    self.memory = []\n",
        "\n",
        "  def push(self, event):\n",
        "    self.memory.append(event)\n",
        "    if len(self.memory) > self.capacity:\n",
        "      del self.memory[0]\n",
        "\n",
        "  def sample(self, batch_size):\n",
        "    experiences = random.sample(self.memory, k = batch_size)\n",
        "    states = torch.from_numpy(np.vstack([e[0] for e in experiences if e is not None])).float().to(self.device)\n",
        "    actions = torch.from_numpy(np.vstack([e[1] for e in experiences if e is not None])).long().to(self.device)\n",
        "    rewards = torch.from_numpy(np.vstack([e[2] for e in experiences if e is not None])).float().to(self.device)\n",
        "    next_state = torch.from_numpy(np.vstack([e[3] for e in experiences if e is not None])).float().to(self.device)\n",
        "    dones = torch.from_numpy(np.vstack([e[4] for e in experiences if e is not None]).astype(np.uint8)).float().to(self.device)\n",
        "    return states, next_state, actions, rewards, dones\n"
      ],
      "metadata": {
        "id": "uuTeKhFXPyqQ"
      },
      "execution_count": 23,
      "outputs": []
    },
    {
      "cell_type": "markdown",
      "metadata": {
        "id": "JmEkbFbUY6Jt"
      },
      "source": [
        "### Implementing the DQN class"
      ]
    },
    {
      "cell_type": "code",
      "source": [
        "class Agent():\n",
        "\n",
        "  def __init__(self, state_size, action_size):\n",
        "    self.device = torch.device(\"cuda:0\" if torch.cuda.is_available() else \"cpu\")\n",
        "    self.state_size = state_size\n",
        "    self.action_size = action_size\n",
        "    self.local_qnetwork = Network(state_size, action_size).to(self.device)\n",
        "    self.target_qnetwork = Network(state_size, action_size).to(self.device)\n",
        "    self.optimizer = optim.Adam(self.local_qnetwork.parameters(), lr = learning_rate)\n",
        "    self.memory = ReplayMemory(replay_buffer_size)\n",
        "    self.t_step = 0\n",
        "\n",
        "  def step(self, state, action, reward, next_state, done):\n",
        "    self.memory.push((state, action, reward, next_state, done))\n",
        "    self.t_step = (self.t_step + 1) % 4\n",
        "    if self.t_step == 0:\n",
        "      if len(self.memory.memory) > minibatch_size:\n",
        "        experiences = self.memory.sample(100)\n",
        "        self.learn(experiences, discount_factor)\n",
        "\n",
        "  def act(self, state, epsilon = 0.):\n",
        "    state = torch.from_numpy(state).float().unsqueeze(0).to(self.device)\n",
        "    self.local_qnetwork.eval()\n",
        "    with torch.no_grad():\n",
        "      action_values = self.local_qnetwork(state)\n",
        "    self.local_qnetwork.train()\n",
        "    if random.random() > epsilon:\n",
        "      return np.argmax(action_values.cpu().data.numpy())\n",
        "    else:\n",
        "      return random.choice(np.arange(self.action_size))\n",
        "\n",
        "  def learn(self, experiences, discount_factor):\n",
        "    states, next_states, actions, rewards, dones = experiences\n",
        "    next_q_targets = self.target_qnetwork(next_states).detach().max(1)[0].unsqueeze(1)\n",
        "    q_targets = rewards + discount_factor * next_q_targets * (1 - dones)\n",
        "    q_expected = self.local_qnetwork(states).gather(1, actions)\n",
        "    loss = F.mse_loss(q_expected, q_targets)\n",
        "    self.optimizer.zero_grad()\n",
        "    loss.backward()\n",
        "    self.optimizer.step()\n",
        "    self.soft_update(self.local_qnetwork, self.target_qnetwork, interpolation_parameter)\n",
        "\n",
        "  def soft_update(self, local_model, target_model, interpolation_parameter):\n",
        "    for target_param, local_param in zip(target_model.parameters(), local_model.parameters()):\n",
        "      target_param.data.copy_(interpolation_parameter * local_param.data + (1.0 - interpolation_parameter) * target_param.data)\n"
      ],
      "metadata": {
        "id": "OPl1u54cbp7k"
      },
      "execution_count": 24,
      "outputs": []
    },
    {
      "cell_type": "markdown",
      "metadata": {
        "id": "o1tZElccZmf6"
      },
      "source": [
        "### Initializing the DQN agent"
      ]
    },
    {
      "cell_type": "code",
      "source": [
        "agent = Agent(state_size, number_actions)"
      ],
      "metadata": {
        "id": "1WgHU8aYty9k"
      },
      "execution_count": 26,
      "outputs": []
    },
    {
      "cell_type": "markdown",
      "metadata": {
        "id": "E8v0PtUfaVQp"
      },
      "source": [
        "### Training the DQN agent"
      ]
    },
    {
      "cell_type": "code",
      "source": [
        "number_episodes = 2000\n",
        "maximum_number_timesteps_per_episode = 1000\n",
        "epsilon_starting_value  = 1.0\n",
        "epsilon_ending_value  = 0.01\n",
        "epsilon_decay_value  = 0.995\n",
        "epsilon = epsilon_starting_value\n",
        "scores_on_100_episodes = deque(maxlen = 100)\n",
        "\n",
        "for episode in range(1, number_episodes + 1):\n",
        "  state, _ = env.reset()\n",
        "  score = 0\n",
        "  for t in range(maximum_number_timesteps_per_episode):\n",
        "    action = agent.act(state, epsilon)\n",
        "    next_state, reward, done, _, _ = env.step(action)\n",
        "    agent.step(state, action, reward, next_state, done)\n",
        "    state = next_state\n",
        "    score += reward\n",
        "    if done:\n",
        "      break\n",
        "  scores_on_100_episodes.append(score)\n",
        "  epsilon = max(epsilon_ending_value, epsilon_decay_value * epsilon)\n",
        "  print('\\rEpisode {}\\tAverage Score: {:.2f}'.format(episode, np.mean(scores_on_100_episodes)), end = \"\")\n",
        "  if episode % 100 == 0:\n",
        "    print('\\rEpisode {}\\tAverage Score: {:.2f}'.format(episode, np.mean(scores_on_100_episodes)))\n",
        "  if np.mean(scores_on_100_episodes) >= 200.0:\n",
        "    print('\\nEnvironment solved in {:d} episodes!\\tAverage Score: {:.2f}'.format(episode - 100, np.mean(scores_on_100_episodes)))\n",
        "    torch.save(agent.local_qnetwork.state_dict(), 'checkpoint.pth')\n",
        "    break"
      ],
      "metadata": {
        "colab": {
          "base_uri": "https://localhost:8080/"
        },
        "id": "N3I3cQXGufUb",
        "outputId": "c704165e-3887-408e-eb67-e1b5557314c9"
      },
      "execution_count": 27,
      "outputs": [
        {
          "output_type": "stream",
          "name": "stdout",
          "text": [
            "Episode 100\tAverage Score: -162.26\n",
            "Episode 200\tAverage Score: -86.32\n",
            "Episode 300\tAverage Score: -37.48\n",
            "Episode 400\tAverage Score: 25.91\n",
            "Episode 500\tAverage Score: 176.11\n",
            "Episode 600\tAverage Score: 156.33\n",
            "Episode 700\tAverage Score: 196.30\n",
            "Episode 706\tAverage Score: 201.79\n",
            "Environment solved in 606 episodes!\tAverage Score: 201.79\n"
          ]
        }
      ]
    },
    {
      "cell_type": "markdown",
      "metadata": {
        "id": "O8CNwdOTcCoP"
      },
      "source": [
        "## Part 3 - Visualizing the results"
      ]
    },
    {
      "cell_type": "code",
      "execution_count": 28,
      "metadata": {
        "id": "cb9nVvU2Okhk",
        "colab": {
          "base_uri": "https://localhost:8080/",
          "height": 458
        },
        "outputId": "13a152fd-2dd2-45ad-9286-3d6587068db4"
      },
      "outputs": [
        {
          "output_type": "stream",
          "name": "stderr",
          "text": [
            "WARNING:imageio_ffmpeg:IMAGEIO FFMPEG_WRITER WARNING: input image is not divisible by macro_block_size=16, resizing from (600, 400) to (608, 400) to ensure video compatibility with most codecs and players. To prevent resizing, make your input image divisible by the macro_block_size or set the macro_block_size to 1 (risking incompatibility).\n"
          ]
        },
        {
          "output_type": "display_data",
          "data": {
            "text/plain": [
              "<IPython.core.display.HTML object>"
            ],
            "text/html": [
              "<video alt=\"test\" autoplay\n",
              "                loop controls style=\"height: 400px;\">\n",
              "                <source src=\"data:video/mp4;base64,AAAAIGZ0eXBpc29tAAACAGlzb21pc28yYXZjMW1wNDEAAAAIZnJlZQAAv3xtZGF0AAACrgYF//+q3EXpvebZSLeWLNgg2SPu73gyNjQgLSBjb3JlIDE1OSByMjk5MSAxNzcxYjU1IC0gSC4yNjQvTVBFRy00IEFWQyBjb2RlYyAtIENvcHlsZWZ0IDIwMDMtMjAxOSAtIGh0dHA6Ly93d3cudmlkZW9sYW4ub3JnL3gyNjQuaHRtbCAtIG9wdGlvbnM6IGNhYmFjPTEgcmVmPTMgZGVibG9jaz0xOjA6MCBhbmFseXNlPTB4MzoweDExMyBtZT1oZXggc3VibWU9NyBwc3k9MSBwc3lfcmQ9MS4wMDowLjAwIG1peGVkX3JlZj0xIG1lX3JhbmdlPTE2IGNocm9tYV9tZT0xIHRyZWxsaXM9MSA4eDhkY3Q9MSBjcW09MCBkZWFkem9uZT0yMSwxMSBmYXN0X3Bza2lwPTEgY2hyb21hX3FwX29mZnNldD0tMiB0aHJlYWRzPTMgbG9va2FoZWFkX3RocmVhZHM9MSBzbGljZWRfdGhyZWFkcz0wIG5yPTAgZGVjaW1hdGU9MSBpbnRlcmxhY2VkPTAgYmx1cmF5X2NvbXBhdD0wIGNvbnN0cmFpbmVkX2ludHJhPTAgYmZyYW1lcz0zIGJfcHlyYW1pZD0yIGJfYWRhcHQ9MSBiX2JpYXM9MCBkaXJlY3Q9MSB3ZWlnaHRiPTEgb3Blbl9nb3A9MCB3ZWlnaHRwPTIga2V5aW50PTI1MCBrZXlpbnRfbWluPTI1IHNjZW5lY3V0PTQwIGludHJhX3JlZnJlc2g9MCByY19sb29rYWhlYWQ9NDAgcmM9Y3JmIG1idHJlZT0xIGNyZj0yMy4wIHFjb21wPTAuNjAgcXBtaW49MCBxcG1heD02OSBxcHN0ZXA9NCBpcF9yYXRpbz0xLjQwIGFxPTE6MS4wMACAAAAHI2WIhAA3//728P4FNlYEUJcRzeidMx+/Fbi6NDe92RHgU0XUBmDSqxLqxgGx1Etj/ljkwxkU+EYW3mjM9y4Gk0EBs1mRMyV9nqG5FvmsuSsosnBbh32SEW2HLrW9HcsOavhV3yCDl/+5Gn5R5rgJK7doMX2QzS821PTOyrE4s4bXjjSAYK5QZGR2wOM73vGxac2oks7T2kWagoXygMRYXat8dP74YRcKLdQ7zhAnmnvB8/BEgk+L8Ddvwq9nn6e2bLf/gTKvPPHnrnPz4uR8vMDiIbopM/1pEO7c05eij2pAoAAAAwAAMkBuVDgTLWdKNk6Wv/Bb2AwRkYX7DAwPFoSpDAAANWB3yY0MqKCK0OYRwew3hyjdIcXQF40pcdLxm8+CvKeihormjVuP17QBamBC9XDIogJb2rP1bksOkT9/erkyfm8BiYf70CEQrvNnAIPUnfQeQLRcjY4zGPI7LqXZOOXRAkiRtNga/vOdkU57X+IuY07+7sm2PUOFAcPcTddcfxPPZeg8On+17eCrWWcXeBRiq2tyvBXP6yRJkZ8GcaJRw0Qt1YR3EDlmsBLdZq0WIWOQ9W/qtD2xAfRiTV3dQVGgvFBIK0++f3Ur91yV2qpzsy60aLBRI4yImJD9SXF3XF9qddU3Tx8YfrHLrDzvOVbVgqjsNCeAWH3aV3y7hsEQEKj3AAydKcC8kkriAud+6qDsJAYWWw+yoOo93s1Wg9UTxHGIey8GfF/I1XlRNgomOK+s1dJdrOCuSJ6BFvsvkjCPYXKKjr5EsWG7SMa0+lg/u0pQEIPQTTPDTj/PvncVakuOr6MM2ZvGWSovbcScUaIDcJcJutoTaRtJKqQRE91QyGx+tqQTsltIg2lsZK7yK9NWQonmRNa9DAngp5Ef437Hp2gGraIJwOAxpxscmYn3XZq27+nH0uZiGEIFAdK/51p0DMLrCvAsIKG8cDJ9QRhABhcorYnE/vewtsXM2gYJ4VTdLCd+kVrxCzbM1hdOF0qwoFl/F7u0bu7u3M44KfvnvRRCzBXmVeyV/J+EnncvPrKK56Xhcj6Vf8YISOwIp4Ay7Bl8HGizMSdJux1dbssfZ+ejlPJyoCd+iiZRjSRVcb5ey9RsqztU6QwvWAhBQw6RR1cWEJAFt7SO1Haqhr/RQwpW/bIedOhHu4qPlAdt8YgJup6XyVUeGnSJnJXr1Q0zuc+T9u5baWQ3NMTlPR91ONhT/WHBf1iiafLfZ5X8cpJgDbaoCRWiscdBKtqAfuvoxG1SKIgCBT3osSTmpdm74oqWhs2m8KUB35/S+usW9PSFOo4EKRURzfEhv6Z72t6oJE8cz3VkCpJiyGla3MMqXzvKvh3JbmT6b0jcOmhYQ4KxQUWxX/pnDi4k8FAZ67jppvENNAtgVQ3prTIo7+y8TzeHn+MK3AamkA3cCFJP5omINwAhtXHAfDkNe9z2o+sJef6hK/884WuKmpzSmwZeuA73hJ/Q10Aku+fpcSFm8NF044y6m9QgdOirkqFgcor39qQ03xWsPsvyzXsEbFY7LmA4D86ALiFmPagG8KqTiuUzSL+J55wgYN/MsNZf5H/uzJpeZbTeUQYUFQVqTTM9Pb//t8Pp2Bf6+OBu1wA/Pu6q5vd9eM2sKtlGWYmkpEI9Bta1HI6D7ckHN6lVKRZkAKntyxg5AeGq/0nozy9KXj4hW9vwoT5NZ0TQ8ulmP8NCNjvJniyudZeySFBSLKZYPwoRChXZPEuKiMEy3yLFbgnG8JITsvNjSnoEq3NmfOzPESRpvBl5BYDLc2vCLFnmUEgdKDSo5LXMiJfzDqZ72r/DsHzRThLOzcjEI6TbuJ6p8gYnffseLyA00Q2xS6w28GQCsxd0BGVNhndU7ZX/d29bXCH0ce3ttwSJMo0CvS9SoGK/15dmy2AFf88yuxINLmv6SeMqUjsYjnFTv5gedQx2txb99s3jDFCUpOw6o2f/GUR/Dtlv1kXN/roiiC7fFU7gJJBttXr9p8jVwC2cvdSWs99blaxAdQRRuCzXnuM7aFaRL5cpkTcgbK73hWShHJtTxAuNLfNVeKpoQKybC8MqQgSxRZ0um9WwT2KjAKoUbWJSPyqw47AN3nugkHnr8T16kzTdy7a0XDWkxObpwpskj3jTfgOsVxujDbPTlrZUJXdbt8Hhlicfl838+K2o5EM88uUvxPq0NWSztCOgAAyly7yuPlvzrNpvZs6nIRIy4t/Fv7dgt7czXug+Qfs63rwqhW4lCPi/p5Qsd7X+IGoXxX/+F7CDV0ds9OzheiFJPxfLTtkWGD4TC3A4QF7GdleOQILdwAbKwhNdBBmDX2qkSS5dF+2Pe1268oACgdx4jQm3hwHJp59VS8MCmMR+YbUyQbidE6PabJvFkQe+HdRdRG2O8/qOwgM91V9jSga1qtQBDvmltAAAAwABNQAAAWJBmiRsQ3/+p49wn/A3s0cfTtQQAljGi7TJ6wirlrZtlqPyZAsELpyhxhZeANpyVQOdrftrRhCpSbFLfFHvJDFXGaQFH5ogRsBrSA1+2zpLinGx09spDAb1BM2ikv1l5mFMSZ19Lix0wZRyUxOw8fPTBDTrUdvOYRm9RLn1FSdRvh1m1aiwyIRbMCSvo3xZGUaBgYAAAEDvUQMvl3nSo3LESTAK1Udh1hjUmElRqQnCKOu5pZ5URT1FJ9XQv6jgVEdktClw/3u21KxM9sTRwIDKXREpgMr7OYJLWgG3r1jTRVEA5j8jk8P7A7w77FjmL7h2EK+i0pPWtM1R0dW5dT+yahswoIo0RonXHanhhkN81LWkK/K6OJxrJPmocfhzZpAK98v1hT4klkLSdaO3hd3mR9ojI3X/v7qYT6a0Og/0qAKLH8kWrW9/NbZB/83drsCG+N2eaME4kGFV5rj3PYZwmigAAABfQZ5CeIV/C+q0YEMRoABLJtpnTHApijvNsv6r7lpFZhVLEkVVspe00usMfXZuo+dLNl6TayoubjNpII9gWkAD351U1nd1oElFUWTgx/VOhNk9IY4ZiOVP0sbepbW0tXsAAABLAZ5hdEJ/DgbKk77fdcvudpOawAltYFoUdUqT2JNUUp6iqFC9FtZB/Q5rk82bgY/XlAA+gnS6YW6IB6egniEUP3DynygUzNHlPAtoAAAANAGeY2pCfww+5sjtmk3lEnj6D0d1IeyyLd5ey2ABzoG2uuF9LWoYGrKuQKDgLBg6YL9jtwMAAADQQZpoSahBaJlMCG///qeKkZV6l0JAqN40XWlQ/gBS0WYyrP6y+OBoXDXoFBziB7v9nFBHF96O/lKvrOmixuUd33IfkdktTUDPekPf0WNc6kcoqLV8AAADAAcedwc4dtRMpUOjerD7qTGVeWlzngSJ2j47sZSvr/mnfKRxaNCx0kgRbHhhiOmH2Z5kHvu1qV9dRNqtDzcqZWdVfCK3TKZZeqrY9q0vIxINssP7Mljfko9xXOpwaGMMZCeTnLO/IIyQffZhhA0zX3hQtJwVI0AI+QAAAG9BnoZFESwr/wnQoUCTxCw0VcRMA/oiAFQIpWXJuTH0q217anUwdK3mKHoil5wn3bWKIe9DFed3m4FuhMFDJ42TbkAKoR7evPAFHjSn+ED7c7QyfQ6uP+lmldwhsNUXJXWXNxSGmsYJ1Xjtn/6dJOEAAAAzAZ6ldEJ/DFmAs2PdpDhHPxKADy+OlSvTeP8Hy+GyfoAS1byi5oV92CJ9Tor1dCUG3Ak5AAAAVQGep2pCfwx5V4s4AFTMxmD2vZkmGYNth6x9xbw9u7zI8E6+xo5rcIIIUv+oLvoIhgWlX2q2HFkniOAEwa5FxavqJ6QXZuBDtOtXiPOCOVABiy8MbMAAAAEAQZqsSahBbJlMCG///qeWZBrtZdhFgANro+n4/P/H59Vj7utsVeWNzGUrJRI40PY3yPr9E0DyT1140tSOBJOJXemXCiBLrHbObcLJqH5XD0cNBaglblf9UkwpfL1jr+8DtrNyw4yh2HB7+lZZrOsgAAAru731hA48OdESlXmohSLLwncEuFSPPXcerBjNa8xdd1Mr/ogMgfNPULdxFJIz1WC9FVqchf/Qhe21Sqk7I5qlfpKFxjJcxU7YYClD7wh7OjvexE7MKzwZnGuHfkWFFBhgDSzfltEaOgxlkyi4gb7g8iGtrCINjFMTu+Z3eHRc/y/hqQNDdy2We5rjnbCWEAAAAIlBnspFFSwr/w11X8shsgBuYUZx6hTiSIa9ZGZ7OlyVRRCnHNKrqOgyA0+LOVeNXn1shov75pAZ6e/lK52eZkTzMW2TiAqQPZgXbWcGJv3Gq/BJF3aNtumJ6fGg9tpzl63PIz37LSD94semXuLd3aywwAktNhKxEIavBJlshm/KZcbppjibgNgXcQAAAEQBnul0Qn8MdTuXdFGov6WenBMpfshY7uTFoQAeYl1gwuqY3tAUkHrOXgdCeSH45rlr7Tnpu0jABFycMgWB70tDIgAj4AAAAGIBnutqQn8PmfCueZ6g+8AAttvaPAcHmX3tNW+6O7AgmI6rvKjhOrI8umxY8b7cEoD6A5DsUmbawmoGrjORZDCNz/W6od1H0b+0WsvISc4wBlUefeZ5xJdVbUj45zU9O1IDegAAARRBmu9JqEFsmUwIb//+p9/oCQALpEHN96dyA182+BP7u45vg5/hZpsFUOLDYvQ2wtsDq4AgnuTs7ouhx4BLq7HzHMbAAAADABrxZHAe6qSm+FfpCUpOu/4dFMU28wTj4cZQKoLEqJ/P9iUWpvRn87Q/SUWY+8KZGNColUbHQeqcwPBSO0avuvHCIpf+04Q8Q0PC7Tl637tqeE4WiXuFaCUy8UL/s8lwtxdDBVGwJ5lDfwVHdmZiK0KyVCW/6OSRfip8DPoqwgUFW4cxq80SQtqAHotT0CiFvE1f+jjjC9lMC39MwglGB5it2P2jIWsd2DDUxaZbkIFo0xO+njzA08INX9pMnboeCmex1Rg7DQiNR5G4A4MAAABmQZ8NRRUsK/8UOr7Udxgy8fo8AOC1BTko6OTsyj/MUbFgIQIuyYGeNnq5bBsMp59vXN7eO/lI+rxzCe8l36Vb8c1NIMalwBk+mWLdPYXIuiLAJ7z0o4pEAg7up6DzrTUp2IeWAAiZAAAAeAGfLmpCfxd0Cg0qAIP9HN2uvungQexiG6c+6/vGsir/FWwKhFtJRjQtE3SzJb43LII+KlTt8grcweQ1up8fPRh31GysalE6EOEUu5fQxLeYCEGWSb/uE6duESneFlEAQLvLRoLBaP+AhDWmMXiJjVh4ADyzjIgDuwAAANNBmzJJqEFsmUwIb//+p+C+Syta5m2aFcAWgMQATjozquOBnof/N7EAisy67L2w+hRX+J7oIWxd+peSiu8wsF4ovqfPV78YzkcjDNZJ+sapfMbiDny38kUbs2K0YfbrFx9veyQA5ig3cxw7MSePnfIO48ImBUN4YhCWQWNtRqU/DcDXQ4gNRBgeHuHYTjouuLimaE/J8cNvXrJVmVORe/L+1SiAumhkIGKo6BF2WAGjpZ2HStbU69T++VhzGW3QnAANpInKDWc/LxtbUh/UDDgMwUFJAAAAckGfUEUVLCv/FCWNa7owyukrbLUAHFbeO/lEA98D/RkdlCAHRcL6OBfrqcdqVu9jL+7nqpMdsw8w11VWT3zrxEnYN9l/9bFOt8TD2gUNELBle4F5LxYB16xZTyHj3oFJcWyy5oHceeubEz5v/f16w+SCpgAAAFwBn3FqQn8PmhYKjBUQ9pwAWAcOjE95gGYQ/VYIFd25cFm87WRHQa/5hI7qofmnfOpd5cbMrRk5nxbOwbtOiDYU2m2ZRq0ZoPgC+qBng+sLOoeoMAZTI6yZbRkFVQAAAJtBm3ZJqEFsmUwIb//+p4QDJcjZ1V3oVz+ZSx6tQiK1pGjS108GlMnMH/Vn2cIjdTb0qAeIDcHIJhVfgESje4k6pJ5nxVGG60v/TJZ9jGS2Jb6APejQZqRcZBMB3dzj4MLq/68naSSNW/F5GzMzNj23Gg9He2RQWETW7IdUeU+U1iP23h+kjnbo2LBV6BbUmRkOuXBx5JL0sIFBwAAAAGNBn5RFFSwr/w19hNYQ+bJd8ZxWkTCyLrh02ulVa7EWd2mDeVlCAFuUpWhxojMuEdfFv543B25PQNsVlkjz2kJi4u9jBWe7zfMCOLftUrf2ej7AhueFwjTgpeufQ5as5z0HikgAAABNAZ+zdEJ/D33EOLiNAFd+jO5oqE6ZXOhcg+iap2G2iX7MvSWypDl/bGaaD5zBSSpcSpGHqUT9fRlMlZLYzjrtVI9MSFqQATAARlq0HdEAAABHAZ+1akJ/D5oL/s3rNQ8sbI6B9lJ5nY5djiNwiu5BN7tIAPwrcTeF0J7OptyDwF6lad2Nk6x/O8qlPlPTsCtL6NAXWgFDhjQAAAEiQZu4SahBbJlMFEw3//6nhACs/0fQYNrGlqGp/GDQ9cwAjflNPS5QhWXnjiVjtwrmkusBDpqV+pOA+Nr4zOShd79hIkr3l5wuOqALs9C4JD/H27uze2b6IqwR+Q0MjmpthJ72P2rzU+IDGnVU0trS6SQDak85pWqdG+79W+cI4MEp0IuX8c3xFO3tUhGpqbMRhRRFDQRmsxSTJmuXdpONjbcxgft5c3J5xOfkKo0FldKr17CKHwr8x7B3tqPay9LkJY7QQOYOTtW2I14sKR5y8N3YvkupOpPi0S673DtQoj+6QsHRoyTtTysqUmfqvh9g9HJWKhRc+cviMYOZtQhv+XujQ/sIWhjvwpEeDQIq+YIMWi7ZNOYLwPMg53OHFNelApMAAABwAZ/XakJ/ALVaKeRz5+sf5UA9jJdh/7Nh6eQCipqjkUACXZzuAxA+7IlvtoK5GSCH6+XurUEqy3rPkpUbs6j/ELsbWilRZ+3gfm7Lx6drHoEMa4z/DCNQT8J9DWTXdxZuwSumwk6wtaFW1k+kuHwpIQAAAVtBm9tJ4QpSZTAhv/6nhACoe8JbwSSGMWHuZ112qAHIBJ4DetBGvDCd1xALZxuXBC0/D4lrkEJcpbD/SNdkttbTdrmT8cbDjfGizJ5B27wcu0oCTv+RoB+cI+DKl+LoYsC3epiSa8DOtcs1XuQx+24+dH1Y1l8L6N8TrQfXdJxn6l4RDgx6xfltYyz5Z2AOY/QLu7H6QimS8UwsCgxZdMAuq+LZjRp7pJmexImpdydKuLcklyDU6+CuIHlxS+nIZXWXdTRukeUIvBe2Panbw598qofOofaVUwiYXkwX3P4UvxUe2Ns9ZM7113RIKoqrRLZCgfjDdsMO4RgEHV8zTqlyiNQN7WawC8uz/LbjBxL2cDedzlyeJIGE4Q2tQUpz4Eycx0/z9SvFvcWFRoZFL8DkftH4DCV69G1xtUT7lmqUZ9ch3g4c2tzm3HOmPQJuQWUYsYY/WumZdTgr4AAAAKhBn/lFNEwr/w15KOeUQUjpj1Qv3MbeZGNXRnOHgrvAC109Ju2YNFC8W+0+oOBfDulSEslSQ9skrTziSsk31TWDhZ5YGOAeJ+Cgm1IAsOZCdtE4pZ4s/BjzL/GAzP3GgRl914nuooYWR8iVFdRQ+f+SFzKbghC58pBz+IAeTcWms8k7KqQvf4QcndQKnDMopChUCiZSpFMABrCGkS71zztCTmj10VEA+YEAAAC8AZ4aakJ/D5oL9BOdis8D1+gckrBovFWYNOAG6eUE815cE+RMKusC56q2GmlONg6mZrZuohg2jeiEplU8XuGhg//TvUnmhLMI7mY9LsP0gS1d6MnYzO4BcEINBz+/Yuc6D66AibS/b3T78dm2h9SkFIF7KgQ17PQz9Yxmy8MgQMhZ5hh9M3jWA7ecLM3UtybXDYpG5465YjwLwUajwW5oIRwFZFqc3TjLrff+28y3YX2TtmRgFINgCmTgKSAAAAEXQZofSahBaJlMCG///qeEAD++yn4LDOOPCFtWCVF5cFAARiXAD/RAJ+/XioZOHzQHXJi3h2HtEi78Y9N5GbcbwD9fEmu4dxnj0foYyubwNjQ8UrP6mNHdVYWwMC9Od78D+db/m4+nv6XZZP7J3ebVyOJ2OKHiiw/wzCIYqv5o3VlVVen+G8Eif2+6n7XNnfJC0LRD+SrM8nBN83Ux6reyLiqoTn0cwRB/mPPy0S56OBJM6HVZ4uJhV6e6ykEDoI+kmUeRNrBTLYEYkQCnQ3wox2FWhorwXSyUwJVUAeTLMFrjASSp8gEYPjebcca0FCkuv67e3C66gck2pYD8ua7Zaz5g2KnhQaGledlJVVXU/7o4RuoLkYJvAAAAjUGePUURLCv/DX2DlHL9kNgH9fUK4xf6+kIATUbJJydacoDm8P1sod4GuKmo8GloVcsLRWN6dLc1n+8pT4LeVLxOliz6O+n6kDt0SvbhjxM5g7HJFrVHgcDG4GsAnAM4fvWhgjv5zlWKdDsPJgc1O44EDTDA1zfgvNxinbgsje11Qv0EpFgavuuL7kWDewAAALIBnlx0Qn8PfcP0Gzqz50KSZVbDEpmFXAtCF+jBNaLswNCeGrzg9Cp0N8Hdw5SMVkAYILG1aMtrczgtntIbug1pSjQpRnW9GUBPcF+ZntQF3lKcwosuTlQvIrVEWjzN3sciRcjrIcHh+fj7oFYGTi05h6WO1VC5+p9tR5/3CQ5CFKFK0HFARnUyNtY1NDRg/h7xVQN2XyH1mTt9MvlplNdVaivX079vbI13z+cPD5+9ABSQAAAAxQGeXmpCfw+aC/PHypZeywvpa0MZrJ9g2NbfEebkj8t3AJvGLP1cGABNU9RGS2BharjDhoS1WXuNkZrqlIITgTUGzWm23k2xnDuMTYQ82q+uWMOllnUwjM9IE3C2brdlcWGQNxavkYXK4YTPjKakfyT+QQP83hJWcpoOlGHNXuv0vjssVfzP3O+Avr+dnJiH0RzYihGPecYlG76P/OP2uxdDk01SWHGKHl0M9HBO9wRvxsoV8tDFbjyqotnBkX2ORlXcwAGfAAABV0GaQ0moQWyZTAhv//6nhAAYnhPMliA2Lcag8Z8VKIzAAOKYKDm4bizPc35fr3SDK8AQDVVcBtoTFKb+b7LsLu6y9xvA/6Q1wCxN3+qrO/6XWsGvyS7GeoygfxtlvD8lpgorYWwqTB5p+qZs6kiWWNUDkyekJ3TPIvhloLs5jQfxH4SHiSv6J5oLngzQygowzEa4aAD7n4nTvVOdCpZ/dMtzr0oG5CTKnjnpmbXIuttptp4ubl9VUCmPXaZUHlDaKV5RPlvTDHsu/P6MjU1muBSEv03aKQfKuspXhn5qSSMlSupbYVeH5iWG0e9hjwOKnQdRPn7twzpKvU7kkUGIhoymBSNcFMh1Jxx4QA1PXUWuIrGlFvXWyY4cf65yUVLlj3VF9ElE3R5Gj8kzONQUzKPAKP7QuRFmNwgVbH1iybAXP6Lsk044wVtFMDXbmdOPMC7E+Ur+ImEAAADBQZ5hRRUsK/8NfYOT763v3TogWm7mAeW8yMPuKHc8igAF1Kv3fuu/KMzF4AcMnoq+ptSSizOTAaai088/UKznJEtmPQUN8gO3TquJ8nuz4BecOD8vJg0sUPIjryiez6z2py6WEUB3O0JLXQn6OPr9++xrhBJsI6BoH0dM9V7xUSUDNElUWfS847hANkyukv4xNcypCXSIBzvoAkxfDoSJXbzAGdyDWVnboTEskbRPTR3JGD7Dg6X3gCcHp2dLYvkDPgAAAIgBnoB0Qn8PfcPv/f0PvihaWmpVCHH8osXEnB462WEDl0OaDARybEp/rnPrrN0d34YiSO/gAtlUmfeUpxYAbVDL8p5LzQwXM1Dm0C5nJxzHTyScxTrhql6wI9iRkAw9g9y07NugzDaJPXMWC5D7CeOsjDkTK5GM/dJMO+aYIkLhux/IJaP2ABlRAAAAlQGegmpCfw+aC+/8Pg+bdxF4KAwdYeRn6yDJD+c+AA2HyHFaQkrPkzHSV+MNtZAneP1wrZunGLMqmWltc1eanIpf6Fd/xnVla8exDHIti8bVeQt2taCNqZ89EPPM4tl7NrnlBHZSvLylMso3YUfpEiEWpBRDiI0Xu2xqMzx10E9t34n9fNgY3sT1WrXKYiowl//bTgGzAAABAUGah0moQWyZTAhv//6nhAAJKQZsSS3CbnkZkzbp91gxBU2YZzGouMg3n/WU5/2bOye5dTg2Ppvbr8sSECK8vIfl3WLltfpaOxQY11liL63VfUI1Bfq8mFg2MFH0QQvo5Bxv9vprz3B40c9DwmzhZ3BOMKidlaxQWNLd3tNNGAsj9T1WxGSjEJ2gm5CjyrQEqkEsDWIaxzBol6K2GY+WgY9UV2trNt3LKj/efWifRtn/vg8eZrvgYm94KomPlSiUKCJUnStjk6iO/pOhSgCDqMn8ZyKNzOCSybqJ/nKUkszvs6PZ7PoRgfmkDWYN+gWhtF6CDpL7Mx0WQJ7j1/OkQK2BAAAAvkGepUUVLCv/DX2Dk71W2fXnoqCcSiofLkFe/0t6vhRgKSFfJclUTdNTnKhPQA1ySS+h3/KstzDzcNvRbkTqgTwIOS77/LWUqgXvHf5QDwXfcaYl3U7Aq+m4g+NivwvwSfIa7AEnkxFtm0tv3E1oLA56AHKSEvmkQ9BOagTM8DTXxvpTZFxn7ZhU6qEM7BN1Noe0Hlyv60e+M2ELrX+C2500mvBHf7UuC7+OE+fDFT0CJwvNpn1r4Hlf22mAEnEAAAC0AZ7EdEJ/D33D7m3nRoqAD9QOfCInGjc/tqw4I3La4aDHG5Jx5varb7RnI4eAQQ6wy9VsZ2G4frvJU+197kjUBltdqveUBkGVQE/f7aqDjA8j/cmtj5iQJkY3MR27/bsEpXZw1lYFDeCjl4h8hrsb3VVNuu5SphWDL0fbsC2osHJGR7eV4RGg/ePa5H4dA2KEyyTiecIsPFgYtvCgfL+legoArVQStcurHnt4zFfMRhsDCAHTAAAAjwGexmpCfw+aC+5ty70Z1l2CqAYisbNo8Kia+0GginiYG2Xf0iEFOe9jpr/s4ALPUOmu7+5bpoA+hrHuYKAKmPHtq/H8/0ECqxvqcZ9J6hy8O/ebnPFQ2NSSYp6p+YY34Ck+1Arpv4oE7BDR4pGrk9G6lHtgE88Rcje6GdY2zYQ3y3K++6SlYEE+GtNQNy2hAAABAkGay0moQWyZTAhv//6nhAAJN8jVu/i6dwQvhwAEQIMnPXUK3urTIvelLbC/1nG9VY77J5yn5/L0gMuIXYA47YEehUSydXG96SG3S1lM9HVEHUpPaB8+Vb0NKJBDwu9TN7ogXkZY7egR7CqQLOVTr51CsBKO4CeO5YSVMYq/5wbK42fmG+9KOenMD3eNK+lTYtBfY+L/O9/4QLtpgXeHGcbZccCj7Qp/pnolvtcCVQumegpQdQ1Se5wxyIIUdZMhPSsSZ3d6DwHa3ov6A8phI3+oDAK5kRDzhEvip82Zbv1PGxFl3U21E0fr4mihnmQbfbTbgEqJEy/J8iTMro0jjAAHNAAAAKhBnulFFSwr/w19g5O9rQPZX4ZlFRQpSckRB3Z4Baz6TPWeWPuYEDOSroeTbJ/CxVRf13XJK18ha/vqYG97KXvIu4AGqHna5bK2MS5pmbEC19pxqYD1/zvnQava8BGAizVZz/iBVpeWfb/kD/3l/0128iB6G9AcvQG6a5pyoTbvIGmLPuE3b9eel/dH+6bvVFwN6ztT1HuO/0irOGFTg1K1K4zEvP7SC4gAAACOAZ8IdEJ/D33D7m1XaWjSVMHngiR4yYSnDJOY5OO4xUwKJCTqagvGBlmR51pEAOLObD9jueooEeJIZQMaWqNe6r6hEtKZoLFGtvrMtO/+3Gz5yUgvpapKKVnFpPw6ox+oCFDNVbsjIsiNWR9fUS3v306Susjx7S6bZnBb/RONVa666LXZJzz5g6+DMHAXcQAAAG4BnwpqQn8Pmgvt2vHeikroPd5KvxHjYjc5kd0lmRcovZO8+gMPkw+VQRJULsi071S0E7HhNYFsSQ/WL9rET3SYldfDGznWmCOQ7UU0tFCyTg5Zt9uQ/wYBdq8I4Mzl2HkYOXZC+q3/ajhaMFJFwAAAANBBmw9JqEFsmUwIb//+p4QAA3fCeZLEBsW41CdChFhA8hHhcp1JUJxTlfXxcLRSWFgANX9QrVv1DNm7PssJLEg5IDHUDylYJFTSY7CHWuMQVV4+MnMtQ4TtkXVITNaMaNNLITPJRs/TmaRHxynTCvWd8lysEV9I66MIBKNVIUBugLOiPam2pFlerOGt2y0vO8P2Id5lqynta/gGlgSpImc6RIZ/FqYwz7MriXMybdfN6DIBaCnos127lUiH9YSx6PbFlrrOd2kJebzWOZQvgQKaAAAAo0GfLUUVLCv/DX2Dk6taEWyDQV/AK725P4rvBHV07uTxFDnZ0R3ZvFTbaqeLS71CwBf8qoMePnDL8Swh11iqlSuPuM25ks0i30Fi6X+XhsNjB8tucV6Q7z6qpmeJQzm8mjIbFFwMrq4anNHtVHMeLulkGQnFfiXs6VE2aW99dZN0H5gA+x1HhPLypkyhBLY6HSezrcJTwIw0O4jgFTI5kpnAakEAAACfAZ9MdEJ/D33D7dr/mHE6ZdkOUtsutZxcRhICzWqS5pQB+4ACa2bhsmD7D64pwTI7vWiH6xftL0x5/RrSVyiWoQXSKX7qSp7yihFVIt8e51eaOv9NNa5H8MUqYyydBZBlIhYrv+2+SYxa0wW9L9I9nHCCs2wYEv7G84RYlKUyoxEQZqc5v1325dGqB0wteRjbZUa+60Q0ctncU3F9AMWBAAAAowGfTmpCfw+aC+3ax8HzLi813VLo6Dyt9SR5Rt4fLe4maXNfD0xzBa0bxZGwQmOyADg5340ftWT+keU0roxCVWF70NjFNKw9Kg+OjNJjY4JuGkAzACWVbxL78WUaw59gbF0dHaxEkUSErfj3Wk6PMj3u7McXXNZtT110ESoH2XldNUR087M6TtozwxR+V3rZKx8/DpofvR7X1AzRXrTC5bAkgXcAAADzQZtTSahBbJlMCG///qeEAAFP0hf7lcq7kBJU/4jReuDvRzSb6HUx39x75RIRwwYSpgtJtMpsfr0zzvP8Zdc2519foPx0JkUxbF4b3HVobDwmr4T/AcQke8a7mXgTE9VuCrz1IngejodlkEyZ9OXGzUQMMxW7GwWGxD/4YPVy29+XcvKaIjox8PQ/qyqDWn/AWWdqr9OWSiDK5/XH1LI2Gae31hBKYnRU0fE8ggxh2VN05jsdDssqGBYrCvzhiKhZOfX2ylN/LwsJIntTW3n9m88ryg+YvcHnPeXEOJPiBNVXYDR2QhsBtI47vW/UjgzZwGVAAAAAoEGfcUUVLCv/DX2Dk6Q2XSxKfqxTKVsLBbr8vVs2SQvkc3KE0rDGnOMQiYAXUdDRfTK2GvKfG977Z78M0yvPoTWvMxJPeU3buuKjVgv7D7SP60ngTr/cl76tiXD16LsY7NaYSFHR/vGIjOn0+8gkcqOvUujcBTVY5YdzRSHjJywqn4Y03eFWX5OufmstjGGxj9evnj0jEhzktdOmrhzyAdMAAACjAZ+QdEJ/D33D7aGahYULoAShwG4hJLnYLOfjk5++PilBQGSXGfT9BAMkmXC+/Pp/nptxkfFuOfAJi6TiHOpNDTFHEOQCeabh+t79rBsdxSlQt1fIzR3dRr/G//Xa6tHAAi//+IYWoc3df0ysKgAvpBJa9baKk6G7gFAxAxxvL7AzvkKazc+6ufod+3n3Dj7MpPiAGTXSUmmO6xhNYAoY5EBZQQAAAJsBn5JqQn8PmgvtocTIa/4YDyWZtZ57B38gS4tbg6SnU9P8YQAcVr5udmty/9kJjUN/s7+AHTWBU/A7Tnx1VOYQkVw+FQje+qyeYkggrrAmwTqXOFxn5alkin9a/o3VmgG5eIBa/Jla9c06VzpCvY8GwWSGg9g5/ALz0WJmCjwrDu8t3MA70M5BsAr56ixZ+ikNIn99v5mXMKoqTgAAANRBm5dJqEFsmUwIb//+p4QAAVH3hLd/IJ6PBZqSB1mPwMJyiTzQrFuQCdL2EpM8AXCMrZFD5Ph5zZh+iFJTPwgGR3J8VEBfEzqOwYsaDyqhaKzyVlWS8ZUgUlZKNA7s3MiemVelFEK1ieRD2vkJQ8Cbtv4b9hIuifVEU/a3qdgpVHTXTTjS2a3HeVWwwZF/4uzlARyXvpBLqC/H37cU8OjJAtZ5+tW8rCj1ZfJzgAcA+jimlLAh4ChiVTzD8mi6am7xwVOFCqvQtrSqF+7o9kvVkEiRPgAAALVBn7VFFSwr/w19g5OkNZUIs2aujI4tMlRxC2hsB84Rc3PJyxthsMB3wiBWkfnAyeSyeGYRmdQKQEXGim8F8drf80V2CVa23VFmIFqpqA8nv78LI1Aw8if867dHQ0/7umHJz1MLwaWsJgC6uwbjaWIA1qfgRUBIDWQ3rjLPq9AcnIies81nyo317lZQ2fI2Q8Az6+Ne5xFU1RthFRGknRMmiZPMgF7LAWkWybqkvTOytHkfb4OPAAAAkgGf1HRCfw99w+2hqO0Hcn7pVi7PTvFu3y3blBcFrg1T/TkIAOCkh+sX7S9h9LcHKgWranWmBuZk6D4YCwGs38jF5BBRaHNg4FNVNyG582pH9sqEzjqn//7UbJ96Pey3cuotseg3uwmJotLGK+3xH7muYKhCUeUk1X8cHjvDk+hXhqemRleAUg6r+HehhGIVEPUkAAAAmQGf1mpCfw+aC+2M2i15iqJO/ZUZ7OXfLCEB0Acz3Fn5xefquOQAK60PwHuptj9iVISFvlLqZsheGvzeSyK6azMXFgFbqKULEMmwsXnB8o2FCgzSxQFYFJqD8021b70s9hHLB+mxHSVUeQYpgFbnIMgbE4+bXdwBuRoEV/7IFFOlYN0Ppyi9JLK9ymB8nZvWyj6NsArIPmJ+YQAAARFBm9tJqEFsmUwIb//+p4QAAHy4TzNYF3cPhJePQAc2Hqpj5vtqc6SgFaMmgb2X/noibBF2i5G2+4YKOYu8daON1lCx/14dORlns5VsYDDfvXUq1r0JPefgnaJQTFzyzq/iRnmdqLy0O+w7K+9lVR009E5Gq9ISCzpu+hzFfQq1X+/rzPk70jrx6hMz6A+CvzhsSgKIzCI2n7Kim/qof0/G4XI2vhAUv/Glx0rff/qcyTmb+gCqCn8sGrk7kHWyN/UQH23oY98bGtttC6vNjIyRUM7GOT6PNRh7kVf6/S0HxlpS9UfvimB8M0bG7sCZyoienIAzbnlkGPhv5lTdFpvFqLy+onhJnxpek9Erw5Xxld0AAAC1QZ/5RRUsK/8NfYOToZuI028vRq6n4TbB1LBBehMTpA9PAMviTGmXztrFG/GmepwA0xObzsHBQ3SlE1vza7LpT4Z6AonGVO7rLawHzU+hW35lpLTVIIg8QV1ktIjnQ1GecJO5JDPt0g6EADnub7YpGKfrv2Ihse7IJV97HhTjqm0aXM00IVmLprfmQiuPcm1OEWSzZPARCMTp8SgwdMd5DDPlkPHCXIf3S8zxgN3o15Wxlkgi4AAAAIwBnhh0Qn8PfcPtjN/vkOHxNC4hACzd6Cl38K67hrv8FtWv1aP5q9g7zQR+4FORmCawyRjMfhAhyfNn3zNLoeZwGc7wK7H5U5RueHrfsCsGud80h4JxYnYcPbLHrDAQR7e6ewfk86J7ZZ7Xiqp2zeMQylH5rGNu0lvYj+85gMEVrYuSZBP6wrLOmpEYsQAAAIsBnhpqQn8PmgvtjN94YhuXcl0tL0F3tAF6zaPxjcWPHsbdwADjXSuWTjyGtv2FpJKSs3BahV/nF4sm8kT0sldR5mU5bMMIiFWL0g0YOge3sCBCSaafYQzkL/UNVr0v2iPoIlRoUUEqaU6kCVb8ZZJpnwvj8FFYDiyDL1i+00ht5T59jgWRUkZ3NQ/wAAABJUGaH0moQWyZTAhv//6nhAAANjr34i2yPgBNNVmkQiolqxzhuBxY9/CR/16j+RXLAz7WbJ6MHMCY3i3S/RR0Njr7EVzsWB2CkcUb4+GKO9xMEQxxchZCvEeiVjWgq6bVKHBknBAU+TTIvQ7Pyc1NYAR6Ck0LWRoiBkgSwkYislaUhiVyui096b3Hr876z80Wi/zyeVDYKjrbIznha5MaDE6BpVKd6XYg0iw9FSv0qPdDFqnsipdsyOC1hwgUfSyefpzebpRL9GVazZiWsXJECtZrkXJKDN4Pu6nrCOkfpC/Po+CGuaxwKZtAHxyOYEqWMxqSbS/E3udWN9Svvy46nMvFO+spVyP8UP5jGiN1OGrAreccin/4GBWmge1Qv5gHnhYel4H5AAAAzkGePUUVLCv/DX2Dk6F+ueAMwV3qADizPQY/PQFaEFv4rzhEqqtL/DsRMxW1AyOhuMONNuUXgf4hqBOS/woNWeJpMSlVxjb2j8Z0ziLB9Vlu/thnrU8Rau9BV5ggIb/8q0tADCktLjRvedCb8jflMStTfDGyq9f10Bpms5vhtHa3cHbS5b30WyaeA0IlDmX1WGLpbjXKG6jG4aENDN4fk3/Me9LLkGcq5P0Ll+mUcr88XvFvL7Cdvjxxij6SKH27dZg3L8BBRfAt5eW6kCvhAAAApAGeXHRCfw99w+2FQ0CZBABxWvmxkg7V1oSmo3wA6hB7vcto8YFUNq4K4Uh1hW5KHyqUBU8EeqmA3OuNu1lZxGRTy7E11tGnInULodl3VN8/zGE16ofrimRBS7ph2HHJpUYa9EkWUGbrdUyBkU6L/g4g8H+8tRMXtRFqh2o4PhCZgCbcICKzMHENmS/WBHntFVB2TGllCms/W5xLWqu9bXtOiMk4AAAArgGeXmpCfw+aC+2FiotixACwDh0lgvMAzCNKPueT5uZMhjK51EAF8Ij7dqq8NFNcrYBiK4rbM3hEGJs7mXJPNnzAWVX9UZm2cAb8HtIqC+BeL/OjxJ7yWl/J079vfPdLRkD578j7Sd8nRaW3nhw8u9Rk1CfIlId0XDou7BOz58CWAcF7T9dGDIF5TeoaaORPMCo0MNBiZvWxGWXwZUtuOjfBnPq76E9CRgnzxuTlQAAAAOBBmkNJqEFsmUwIb//+p4QAADY+ypcmHMyDWKEc7Q0lE8ALYZFzMJg1BX4urBbRTh5DYQHZyPz3qh2Gsu8+KRxCeIRjAiS7UXT6jgFXqovfzXozkw7Bv3Halsqf7pTpaxqRKdXUZuz1q/Mo+YaZSjFuXlfdZqqAY+9xzpz16b9PJWxwtj4yuI+8dWCAbS2mxWD/RX70gtzlI61AFHtpTsYNodhMrw21UX2vmCreTlIHA/d8B3HiCGrFtp1YrZn0XxKP4AF0SfVaNQzf3ANq3i5bj256z5Ukr5VI6Yv4YLO5uQAAAJpBnmFFFSwr/w19g5Ohfrnf+5z5/MJT4IAhjquABX1Vh3tD4D4uslgpBBvCI6WvbDQkqR/E3MRX0irfDCU4e/VhvLhVg7ADKDB9d0gYw6Qxf4uvZYRhAa79bcIm9lafDr/Om7WQrTC2lSJzhKm7sU60Dh7xS4+96AWGqPWniHO9IJoqS2eQ1GtM/jPb58HSm8SRAnGunM4eNgNSAAAAdwGegHRCfw99w+2Fn2lih7KuAA5WAZw4rEkjSKU86F8dVkWRU+8e4LBI+bF9+rTEG5EbVCLXWvqTVu0yuyqFepkr/mHWIhX64A8oG9/rq6Xghkwqihm3iwa3n/o5sHtAKbm229Mc2dDpAk2S7F0LNNx7PqUrPg+rAAAAeAGegmpCfw+aC+2E1ad/Req+fMgBEVtaHzzN71nWI1oa8KbL+LfT+gPFLB5FsYsZs2mU+JzvIp8WhMaZCmKj1k0GHsV0b6FMvAVXaIA8c36PeaQ2n/WfTUPujckLNksxu52eOiIiQuPeU/iM821fRVImk6CTtSA/wAAAAOFBmoRJqEFsmUwIb//+p4QAAC6/zWpobbg6cR5F6/UgiZgkg8F9qt/DwL4t3rDlzqYJW8U6ke5LsEJthuydyY20msTIlnDo2Q2+z0vZlZhF3T1+vAkdfcSAgKOOlHx7mI/it0WupLjDpMSwfe2J249f046nm79nyJ/niE/ZFB/dymZJpjw3V/dp0cuiZIOF1FPen36vkOhO90vTmS9zmr27E5DAcntkWjQsipzJejIoUDp//khBD8Pb8VJblHsYIZL8sInL9jMRjghx9SLckwf/GGqMlLv3hn1BwuqyCSbw2oEAAAD7QZqoSeEKUmUwIb/+p4QAABLS6ogAhu142MLqIYXSL5kBtkB7AOLeGijfsJlUA7WceRvrtRDqXOqmNfgxqRUO19J4iUNZNgBBHB3UQKcLe1GV+TLgCbmel0/Hse1d7RfARFvYwz+ztxhLtjKYSMn+nUqcAxSUXVvnKLddDMOi2KOCs9v+7IaJ0Reb9n+zuj5REkQLfO3tEx3/6tJwQDt+wrR6u77p8rE6mwkm0dkP6t1cW6pAEsK9zPwEKW2efpnmfeNH3EeoxVZALH98YMptMLM9UN+r/r2oE6IQN5c+OQpwozmvcvFhlskxoa0llXpa6DsiRZl4VCcs6ykAAADDQZ7GRTRMK/8NeSjmIP5JaiPK2bc8hX5EAE44rXySeD+L9ngczdbNd+TJYR1If5hRdQ44Dc9ej23EhFjrKb9ffS5TautkdIIunKWOB6l3zxTNlqK+P6WypdNpXiwMNUng9O3Hm4Dg8bu8L+KSrPrMeSl9L50pdXlmis2pC6mUptf2cUOp46v1jB30zgYh+Bij4IuMIvJfvleyov/RTnowsn3OqIuCEpvo++/ytcGjMrqWWEWpMCePggF27CpLCRNKAO6BAAAAjAGe5XRCfw99w+2CCpUkVwTFQgAuL2wnmTLC5W42jE+a3OSlRFu7zcToreGiKhbg+8DWeBMSShSNQqp9MLtPY5pRKxD0a19DyNJ3pWNcQZSfo1BpuVfgxJbIkDLmmQ32C3fhwNU9ZffsQhTUEvkRLLM013S9m2daDRHF080yfgJa9BLvoSFplR+QVaGVAAAAmQGe52pCfw+aC+2CC6dj8K3CI/5cwALBA+zdFhcbGd5KEGCN1FU15049eq+I7Tt0UAi7IU7q6grjveQ9rxRU5auzApBK8pK5AzsPYPD34/2EAEpJcgrmXjKF2XxEkaGVE9ABYYSC1yDeIAlGny1MyJk69QdSfPQhCxPft578W0DoB4uztNCk/giK+CZHcPL1uwCUHN76WODggAAAAS5BmuxJqEFomUwIb//+p4QAABLvkat3sWS9buwXPkBeAG7HaFoQjt7Y6CdgNXzVVL7spta1T5irRHEV4Jzm0nOUvmTZZ65A1q2JNNOdPw3mbNBD9Na0pkSh/WcxCuRLGOM4y9lHyKZ7Tqxf5GpLAd03FDxXEBQDGRFHAgdwQO7Gf0XLbtrhqWqDWBndQnCaJccof5YUAdN5JQhcIlgMb1vjTUhic2hWoxG9X12gl4zPO24VdjxD/nK1pjFMAIO9vNWClxBzkdnNd/uBEcTPBB+LnzE7/18kVzHlipGwJzwG53guWQls/47Vuwtmf55mrcF0d0zO4Vaf0vWyeMvkAxceG4n+BJYLMtNvQYm2aYZu9iuuE7TvGPLsEh37I+fwgp3pgVk998ykVE8rVyq5uAAAARBBnwpFESwr/w19g5OhfrnOww1p60AOCCM49jyiaY2Yf+CbRoEjDouo1fK/AzY2NNEVI7hVcv9fV7HfV158bJx7cePvC7QUFCLtRG6sEfTekYviQq/Gq66U8/1rrNDml8JIASDa/psFF/6nTYr0nI3j+KJ4QerGOcAmb+G95OH/1CPRZLIU5/z3OrvPYOzwK5MG9WULP4JA9dllTE8dbOueQJgXrOMAdTpphfzdNQuE5JXiiXi6BWY77QqqE1yvjU0/gP2mbDfsnPyi6EJlbq09/VQ3w2jXcug/VM83P+PCE1/CvzC4rAT8UeZGq6u4ijV9a59wwpivXZksMBQU9RQc1F8TLTGFhB4uLrb4FoQZUQAAAJYBnyl0Qn8PfcPtggqWGlMFHgClgxAcxOpE9YL9yAGoD53WvyiafFR4dIckR7J7w1bIeAtreyf0vTpbB5N8bRR9keOtCcFhhgMvAZ95kp/byrS0uPBEnuOpqLS9XPkwC9rz/tZwKaIohS2c/DNcWwHniMpiB2SmlHh2WiPH0DCd3IU+kb1jApBqC6MXa06Lc5jOHNZWiPAAAADJAZ8rakJ/D5oL7YILpAV8AbT2tD55uB/L58N6/5HpxyaVY8bqfeKpUDyDxNiqBYfkgehORbfBwRv6L+ZHuvJ6NzmaeabYVylVN6jE1OsJsGjDrv3T7Z8EjMpPUCIkVSu0yZtVVczErK8y3Gc4nllR4E4jsAl2adpI2KL3ZFGlGm4kJjqh+W8T3gADs92hMNx3YidrZN28qee+nHi14M9Cjt1cr6SnNRgn81CuSPYClG5W4E6Sk97V0/m+JfKTFqF04iloaJ1dIZZQAAAA6kGbMEmoQWyZTAhv//6nhAAAEW+RtZ670LdOgjkALqtuhp+Ltb3YY8pv/Uz0ZQ30uK4Y/P37R1cPMZSgRqVfjtVLFFX+6tuoT4dLvWISJWQwgMKbhB3l3/hvELQbcX7JB3BIj1GDmDBvfq9wIZEGuYpgqQTlq6T2aHQfp/WwqQ1Wv1p2T8kD/iydO+nal8VsTWgkKJY/LY06MFWSiRwTxXbKnCZ0VtztzblRNOx4HBop5zUVKG/YZ8R/UEQo2JQycetQGWDFlYQ+f8KPq+XbtK4drx7U929X3tpIG5Mcsk6lDMDoisSpKUCtgQAAANlBn05FFSwr/w19g5OhfrnOwws3GvtvNDEAIyIvGfv1J4Fr1aDEiXC7ej9TFM60F83zQb3yTlfKfItQiPdXtsEhMdb7ZmiFzwi/BpuE89g373L1WG+9kDJDh7wyIabqx1NVHg5dOMcLbVUxPwsHes0P5Gb41TTQO1q2R7cCJLdos0hCrY4O2+vehBYltDXWF53qPT9DXsNvvmHoS5MlfRGuhA4BKsSZRfijnCS8S0SdWcR5dGrvGaxtKHtVs4nMf6ieW2DAJXQ8uleZQAswC6XNddPsbSDbpD0hAAAA1gGfbXRCfw99w+2CCpTx0cdLEuJtva2ACO0/JU8yFdgyl2qFbOowoO4BqSDTjRrWF1N1ggdnouOtU6PZtYr3A8wxlYvvj9pzAZH1kF8qutrVqWn6xUFqn0t3LZ6bwxcn90fsrMUYThkAeUgiYzs3GraFK9ngjxYxr2RVlxIG1Sz9mdsLstsD0122/J0ZO81Otpdk+UTYlNrx1ke1wvgiwXi0EaMQUZikzJKXR4mLAVBk703+e0+CvY3goPr+s3ZonwMlcvbDEmuY04ZiQ6yq7mDyNgWbIncAAAC8AZ9vakJ/D5oL7YILpfrPfVADpEJpV1xMYzhpxWyTiR/ybxwEBzBIu/0U3a3t9w/kLLXZIuyDiYEL1NjflPALueOHSvCKVQZ7tDOBaRnhHBkkSBQNVe3TETIIFf6aKdzB8zT/82SytSM/cyHdQ2IYjyOjrj3etRGq2680B5jsRtvA0EwmtGn1VLBM6JslS5BVRUJmLLinBkGBp+O3teijHNBIWdaIAYIiIrQjooEdO3bamKiG2M/GbEucZNgAAAExQZt0SahBbJlMCG///qeEAAAHy9lTFXd1q3oMZmqVnGMIyUlR85Ts/VfdBamPKeksXXE2V0FJhJnE55//sX6svemCIAUOXYm9U9CN2U+Jspyc7Ue/7mclMYtdTPrI80n0p7CFSI0NMIJBRUlEFrT0sX0McZyP1spur0mfsnvWXtBmwDbnpqCYV3VncS00ZftGX/SwU1eF595b1TjDdID5uns8ghNLQM9I3HzquEYnLexwFpLd5ga70MG4dzNN/t96Ux9faqXSgAdWsz/QjcA6qpXPldV2Gop0cba/vDl2+lVfIH6fMeUdOX1WO6nK1cX12AfqZWyRMe9VQUXTRarp1rUrZDjWs8Qp7xg70/VFojCxFYxU2hPLoHfnF0q9659fyvfE1yAq2kkkdBrLNRBGDegAAADOQZ+SRRUsK/8NfYOToX65zsMK2UwYmCeJ+YgBGN9n8mA+0xaiJlzrTE3+9UceayUYO0/LDtm/MNH1ZGA4q//aUvmCCX9DNaZJtl96fvatyML4TiIXHX0gaxSj/ujocGPy1r2tFH46daFyMwOjy5+QvY1ZE5I6b9d+TfsLMb2MPxjeIBqLrLQ7qvlynCjXUYGqFHouMnKvEDCFxizyHi++03uDEG6B/h3+WYZlf+r5HoNqBN1N+ctLqhM78yi/BA0/5SZHyDgs2W95GLmeFlEAAADTAZ+xdEJ/D33D7YIKlLoN3CLN36DRtgAgXjrgCIC2NqiA26zKZEsvA1Sdy6eQ3HnGBkiaA1VBQGg8rsgUuBMezVsX1oWoVC09mkrV0SR/mmkVtf1G0JG4udGV7TvRXef9m/IdGOr0FyCmQ273z9iU7M0x92AsGxsypaQxZNlIG86gpzyu55pg8QaCN7GN6awPpDTgQW9uOvB/LkFJN/b64Rxs6Sngp8sxB9kuJDr1KvqfroQJqo+OGbpEa1XPQ8zFFkOgl2EpgDJiHZcYJhoeP2b3oAAAANoBn7NqQn8PmgvtggumEQVghAAv9j3dNBBmSCsEM/ItNhIbyBB9VUie3ENzh9k8h08fCyfPUmHeUvozwhu6YaxBltNtAvQHl5z1Vmef1cbL+0IHvFU2BkEcIRv5gvB/EvWxRc8k/Ku4bEvFVA+9mktJR3Iq+WF+a8REMKplzqUaocPlFuPpJGT1CtjlLe0a+pa7ZLzRaR/QoIAJlokZ1dkce01DylHooKdcQnaEvU/QB9JJ/BlcjoxwSjiOBxlqmjAfaChdd7gldjeLTJtrnxEV2ABgOhcOVsQZQAAAASRBm7hJqEFsmUwIb//+p4QAAAafhPMliJR5RNHrmu4AS4Z3d7dnjmZbWyCgWvlXgjWNP7IgUDwtIPzzvOTpzOx4sECpT+jqADxtcokoP4fOh8Imn3CotnwLFkZEFka6G6MOF1/Hfvefo6TBXjiDy7ocvLm7vCwAhRRBNxt1DwpC/cZwV4y2UDCqx5R85pSH4TTEp+HkFYmA+U5YrD4FCO/Rh3M2xxWVFcCFu/p+kS9fq3qzQRRl0JlD9jeG4O43RyRnS63iNH3/nVXihgQn40nwP+oplJEezg93Lm9zqvJk3vASnKCHx8YcFBnvKNfQ+KsA264lsM0RckOP1UTgAoIg9yy8oEy5Z0mZln3kZe91hF911mpaDpkS3mDBmp4dYaz9AfIvAAAAuUGf1kUVLCv/DX2Dk6F+uc7DCYQ7kyXeEj4uwAR7uqGqBIIn5nXbtgd8oKbYh37Qx/2xP3Rt+Vdx1qzFe/C7JcYXbZ0n/YoMxspNLr5FPZGT/j0aRuUrDHIxrFZiweOJ+/sX1VVAGkS8UYLhfjHheEI0j/j+BxxDBDZo/NVV9Uvk/TMRSGJKK/QsPHVSwRS6fE/I2rSc16GVm4oWeVgNewERHR/pIeBq0U6dpxxRtx7UvSOtdcTM9gg4AAAAyQGf9XRCfw99w+2CCpP02LwIBRyr+f29HF0rlTKGquHWPMfX7XEtSmVLux8PU0i8gS4+K0ExethNQPDgh/c96vthhFUYdqxU44+6d0NEmm0I+28vkIadPW2RAGksTbSprX7wDmuStg+nUBUvvVk+z1tG9Ei8MZUHk6onikVgjKu1pnL6BBUBmpiocdU5J4g8arNdZNbNcfSrmhPz/FUYn2KIc661hkcUDa7vH47bNnCkMJTVCV8IUoYnOuD1AVecV1/vAh1bspjmTQAAAKwBn/dqQn8PmgvtggumEQaJZxrfSrDo8AQi+96Iv8AneoqAbK0sR0nJLHg+Sun6GmZBvBlTx6swWUOuYD3MU1ULUUW1FS9gEOufJ75LfCXzOFei3hpo5Juden4IcE153NfN4JGdfdBSaPZyOqPkeNfutSG/A1IUbO5OGRPSbJCpOaIoNlgK7DbBa7pQ1CzgX7mtiKg+HbsZdBlTW7wk4AVpPEkasTw9FtOgwNSBAAABOUGb/EmoQWyZTAhv//6nhAAABawULy/I22iHySOo4QAdmf8R6aptDomcvVRJaklMmWI526XVLSLCqRxraEP6E8J0tQEQgYXT/QAHbwloNt0ZP9B8XTPlfnpyzyqCmk3dFfxU9PzRlR7IfE6FgBgt0unASCK3dij3CDV3LO53cLnRHcp5gGwTgIx6MBX/hjcT0mJeaNbNp54zUDyATaVZjxPQCFW92DoSeBmLwRkMuBScdjPbjYKMlTcxYDGarw7W0HL4mXaVPBicumBvXHMolSkHJrE4/eow5jG6xs0xM2wEt0tJuN1rgr6C0Sw29M8+8tVorKqSMLnR/hrebBMzyLidCuo8BIm48HqJIsUHf3ykDrKRjFWcj/4Xrd5JhtykVL6aCw4CortYew9NC35WwPhCsFdsDHxFPpgAAADRQZ4aRRUsK/8NfYOToX65zsMJhDuTJdTBZNWOTnIJQAsE877Q2SJSt30XODFBStEriEOsIcJ3qo6u5ns1OAmzINEZRc8HmlawryQEVxCAk2nayB0VbIWZv//PPH0PkH24SM/BnfDPQE22HH9tip+qhxPjzC4vovoqslxSfJE283gMK1sr2AdSp3+7xhUJSdqgnJ7Q6cqpZSbR+zgLij+UoYaghZPt+Y5aFhuubrF7TRYb8oB2j27h8YXbrWa2/gHsvUhLuCAi4uDTEKo0rnBwH3EAAAC0AZ45dEJ/D33D7YIKk/TeAWjs4buJANAaABYJplZ0iuHq2CmG6PdVqwgAQRbknxMlxJMgnrWLu8NH6NScxzYFa0jfUkZ6PWn8T26TdbzQHghaG13GZH/qB0AhodueCHpi7bUyh0j/Ekz5znq9iE+cmCsH2GT1CZl0jdJYt1mDVWVzHOp6rY3QsTpgHsfTaxpLScMeqjRR918GUMzBrUsLE34lPqKgZniMDsvNjZihYH6ZLIrYAAAAowGeO2pCfw+aC+2CC6YRBolkFQGDAGy2ADdH+fwX35UwoLCVeCbJyhl8x/KRvYe/GfSZ6sDaodj8wdd02+RV4a0KVksWZzHTCuPDSpcxkOerVZ58ZI9QWF7vBJhsFerw9g5RA28Dj7xkvGZ/wOB1trtIZpXHGchsRD8flwtpSOdcekeKHGIwgBJUPa8gjhZjNhWqe+ttnmhiqSzU9WIEhSKSZA0AAAD9QZogSahBbJlMCG///qeEAAADAqPvCL/oDGPcaZkktNoHTdcAxl/UWU6YARMOHFsNmpGYZoMxrNQlTXLLI6YmO9v1/UBaRbeUxbKaW/7pgEPT3dID12wiNe11z+MSRstaOr88fvTYU3uFNIwa2OTTXX26f4YDnvEFCn2xgvfF0lAOdiqsYaHvXo6m6OBxWQUvnMiogC90ZNBJt1jM3GxcOpWejCuVGdXLb3R3hrMfg2VuqR6jTHmZ9WI3exRp3xbbR2feNfgHyc790KTFkfgnugHb4dXoqijb260aeqxYluQcPF0IsmksACEZFUzAdmq3QSqQZ2ZvCX6aHz7PgQAAANxBnl5FFSwr/w19g5OhfrnOwwmEO5Ml1LrNJ8AHQLfR5eJeXa5f2zwJV9BCZQsGF6a72CKYO+uWNi3LvmMVS1tgeoAmLWT0aOilBNOJJRqQU//FBS2oc6Zs4TKpUM8YAbfW+g90UPBqQNfA81oiOAHEvENc/Y1JxxIryCjpcEf6427vpheJjRs03NAsjtXps0A/OidOtuDFVRYEslTGLIRgWjbDK4yOcpBtteUEJh6/Q+pyM1T1y7USyWIjzpH8vHyfEzcYf2HwM2K9VlLud/m7zBkpVjsnrO5PILSAAAAArwGefXRCfw99w+2CCpP03gFo+9WyuJkNoEAR2mGBnN8nP6MTvCe0YqUGKlShFNqJ2WIEAm5FKUCFco+zvDvW8aTFJgcLYeL8IkT+zNzv7CepH1x5Y+zyhLSDsg63fqTltTpJaN2UrN7i+d+kTwYdM3kBp2sXGIW+F6R2aZ3gerbCFpr78GD/rx+E+WAaJHspKUzqseO6LVi3BtASUisD6YPHsz3lbuEyo69WzDvgN6AAAACrAZ5/akJ/D5oL7YILphEGiWQSaYyX00BlES9F4RAz4sl/f4AiK2tZEoX+7wnCBX8mEZvicrsmslXcMur1Xq72sLlwnoDTD/TCkprUYe2kjmRNWaDPNgj+AHLgoen/om0T9e5nPbu8tc0JSqZ8Dez4UpcGR42jTdm6YdOEDMWb3g3zoOkIs2w6Tn1vz9Vqi2zyY7wbnW8Kgg4UAs8R622tgKXcDJuA5jQnvzatAAAA6UGaY0moQWyZTAhv//6nhAAAAwJ/zLtHN7eyVRCoALU0I8VZJ7vrvBedufhKxraAsyN6k8xNi7n/Q5vPDtipZh5ic3Hjcbu3gkmGBAuK7g72Tsf2FztEiSbya+RsOn2VSeofC00hrL1qQwgvhe0CLhhW4am9i6iPE0wWkXBI8bdMMdf16gLVLV5PguswckVIR9dCxW+Z2Im7Uy/qEFMiCmXZpQlNRZpdIbidRb4L+ccRlbHhxNd0EKoDYqCLWCztdwmpfI/acVVVEHGGpD3+2H8x6boMVgEhSht8L4/59jLX1sqEA6HFVVOHAAAAn0GegUUVLCv/DX2Dk6F+uc7DCYQ7kyXUu8/clyJknfIUf2boAcWFxZYiaV8oh2++eptwJ4++VQj5rIcJ+nTM/u77ITbZwvk2+UPvjKQCKlCRj0ACnknovnUu/URsXk6Fle7HpRjlauEFQUYtpPJOle7vx+hxTspG0VWZKfTVIc9mw/Af7SPRa+0DbO12gwzL29RCQTwbF1EIssaJc+AeEQAAAIgBnqJqQn8PmgvtggumEQaJZBMWEGqftdx7HAFRBzX4eErNCXXBsVP1a1Biz+0JyEHixqTVa/5jxrGlX0bnM08eVvXMskh+BRBmSmw/sdPydVq7z0QK8+JPujir4ZGO5gzAvY9vhZMssjvc7POqFLovqRd6hV7J+YYkielmrxj+GSL9SRZG0XrYAAABIUGap0moQWyZTAhv//6nhAAAAwEW+RtjsPbpgCBsnpj8GzvYo1wcYtrzfrtmsyWEqITBSg5KgLN5rYS6eXh/+yRjt9CxCUtmege71g5At8OkkfJbaZZW5pOv7B/MXQfZPtgehHjg+eaLtuo1W7qpDeT/RMCGIPyyUV2nhdWpoqtm3XKVfrZzLRrIwGz21xGVW2t1t8hVZFau5A67D61cL9MSZk+/g5l6BVDVh83gDCm8Hb2Y3jEaRiZJt6DPqDiJALmHEeh/WlZFFNsjzMKfGYNHJMyTUPLR/bg2eGBDpVylFApjMCxti3ve96CcqAa/h6Ec2sLb469Ol4eAtadK4taXzhQYGxf0g2ioUfEJlQZjmGlVKCTbRDxxED3A+DyIHCEAAACgQZ7FRRUsK/8NfYOToX65zsMJhDuTJdS7y3/GUcl8QAnXUUCrjHD/qBVikWhnWgnm1XJ+JeBmqOasUZocN9KfcqFjNhlGuJGIf/OYNatI5ZxoDUEmSob7MZf8FgqEdcteeiy0MvMsS7T+ESdSM/2yzLE0WbnVonuvE4Qbre3QOW/cb/aLXfXXdqnPWpZP7oGlFAjtGp8HNzd81GnGT20CBwAAAJMBnuR0Qn8PfcPtggqT9N4BaPz1w+exHTWRaZQrSnHp9pGclTACSPKTcxMMbr5sfz6q193YEpzYRlz9C37Ae2Ov/aS3sZOs/aSB02n3qHwXDo6bZMt5LaGRWuSmW75gyePvDaNTnxs3YATRsZBFr5It3kcdQig288sO2/AI3lEqiRGhPx942s9ykj2ctTLbQ2bIu4EAAACTAZ7makJ/D5oL7YILphEGiWQStRruvgOgArlOxEwb7bGS12FMq9h20ZEu4JMmil1zVrwA2tRHazeZoOdGRBpE9gDJP2LF3jN14KQDA0YRd/7+sQJQUDAewQfU+v8BkThB2CvpVqlw9gjKlTTfAIlpFaX20Sz2NitNQa8BsNgYMykvFfdNWE1fqKp1/JWRASzjnJPTAAABHEGa6kmoQWyZTAhv//6nhAAAAwENMgrgBNNZ799s2YrTp/yAfYTy8i4NSJfnr5VunTTfDwzlFE8Cf1jwrXqSjh69xqquW6IwER7H0wf6gx5XvWHQWZ0pIR9dO5P6OmpgFu84ZbSrH587JtWDO36MXN/2CC+4Oi817JWore4ULWNZeAeYIpYG/TRdUnYg51O6YeLlzmDPxxK3m8g0nR/OcqxzYBa1yoXyX0sWs4UPeqQMKQJwoBRqYGrUPg2bCRFg/OIpVEDXz887q+1PKqGWSDfjTHnfGh8Im4F8KTGSoUDe7NvCb9/BD6+1huqUTS7RAnxMjLl2Yh7hdsUXfaw/ccZwf7/aEp9Rb47tBxIDPY9X+bLLv3bB1afMzhVgAAAAj0GfCEUVLCv/DX2Dk6F+uc7DCYQ7kyXUu8/cmKHAqW7F3YAFgjoSvSenSqldgopMrOGn4BzlXt1bb0ovXbhrkNes16DsneIwZHOTWPz/CfkCcTAULF4c7djgktaPzpqmjptoSLJECQmToULlGQOPZjmvV3JDJrDH4hbFXB0n7z/W0s4ttDHuD/tZV0HO4jRgAAAAlAGfKWpCfw+aC+2CC6YRBolkExa6DpEZ0bwAjsAmeUrusQA2ns9ZEb4Z2wEpoMEzros54oo0MZxxl4QqLCDcu64/MDtL2edrmGUXYXmRN8dz4PUmHV/JKlnG9tsfPPhFA71srALB5h9KyIVFzPaLRn7B/E393jRnDzg+9wuknD2aQYW5cItVH39lVr7FEz01KjmwJGEAAAEtQZsuSahBbJlMCG///qeEAAADAQ75G1dad5AUNvy/77wkw0mWKzGUgrZ/b9/zd8aakSVgITlKNU2h3SGmmwc0X007saSmSCMIn1PCD2Upqts861hb7aC85sdXJrufgVvRUZfpw2HNcpkiDJ1FDBj4fQhiSN1axbvk8x7T54q57gZKvnV3XgPX+iotGeQ1OuZVAfbzzHKKbx76P88X8SwOmmaZH1OPujZ4hBjxKhVICCkun48+AivEMGLxvDBpTI0hCWbJ3CoVOrygurYu88SicvcVViBb9bYWfVHqrTPp2XF7U6aCK4NU2XHq6BSwMxGDsJKqe+MixtiI2kkC9+kFStw1l+Nj0MGPd7g/YqZV58s+ZFZ3LAJWvAfkwz8y2uPtY5jtZay5qJP2kv4onAAAAK5Bn0xFFSwr/w19g5OhfrnOwwmEO5Ml1LvQhxBIx0HJi4B8Ow+MHw+1jq8gARB6O9YTRMcWGTPUYcF9lyIA2jBtBUQi5aTS7o3mV/PKyr1BOdUj/hUPqNbLdX9eOxK43Zcab/n/iwHh/x2OQ0tzULmdnJTPHeCCOAW1/4DnC0z/DLaF+E/YtyS9r10Ghupud5HoI2witn3nNLSa1QluWNMs3hhA4MqQlB5Zi/tw2YAAAACtAZ9rdEJ/D33D7YIKk/TeAWj+evokPaJoBiiMix2k/lk53WrAzOn/x4c2rJqPTetLhFU91EPvcFyVUel16a1IaujCmrLPikJ7cnxPGSF02xEKeTjvPgOlOIHgrZmv1Vr4a552UeC+NvJa0kOwvE0Qj0rjOjy0W0AJwwo3Vs+yMLpAhrakR6dar7+1wXf72TT3GkmOS89wrvbdHtWisFBkSvF2JNmP8u+10RhAO6EAAACSAZ9takJ/D5oL7YILphEGiWQTFroOP6homPiWtVn8z4MzhRnhWYACwwA4J4Fw1m8cp9MaEFXDnTAVnPP8IJWO5oXJtUhV2bHFGkRMlXSAosovUtgiiCl34+pg4OEk/QZ1vxbB36GdI2QZji3x8+v7z0Ji8G+eF5aNyilNmf1nZ67taMu8aCweabAlHDAQm+BPhx0AAAFNQZtySahBbJlMCG///qeEAAADAP7r3VO2BT03ABO3tM36YB/kra4J2KfIO/4ekkLO81a2JQYzihVun/IANQxBTXyrbx4sPIIUB+IBGw7W3Uah50NoUcAEO7bCwxq8s0i3g7OtUiBVnUkY/3xGtmAvn8Dqz0pAwXBAcYbZuGKoMPsgLs9R8bjhjIm8dvDON+gup55UFSoYKVchWO2giu2Bg8lncdtO89n3/meFH27XpivB9LReOl2sIndIXkDKTLkJh3/SiYroITVGqL/Wpp96Nt5ko8hoDZMRmS4Jloiy9SDN2wYVBmwAIBGc7rNGCdqirSHytG/bHZwQBywoVfV7T/+mnBjddSiLTdqjqnyPgSBAvk2jA526GWqj07iBOq8WxEZnGoKZlHgFUqmy4IBJ7WcQmAHrnsWVwugiOJVxz0mcYsKLcf+n1wAMp5MxAAAApEGfkEUVLCv/DX2Dk6F+uc7DCYQ7kyXUu9CHEEe7amigAuI2M81hpFUPlbBJAL1GetaT7/M9vqAxu4WAXtsXDsdD5GazrNThV10V/ZdAPfHQF1pTVwfn02nUrm3iOeELd2d6kfgkNIYTcKW/p0RmO2Rla1ujCBByPH0bVIBwMJwSWTkeQSsQa4SpsvdXOudfqyCkW/G9v58keNxMfJVXLmOWtoFTAAAAmgGfr3RCfw99w+2CCpP03gFo/nr6ICDJ1IABYJ7zaFf3x9RNSEty812NRUayuuchydEkB3q9exWapflZYbogDFbu1sHZ4i69jZlsgNhmV1VapiernTNTb5nNkjDL8cHSuGY3fx5i6S0ZXS1svQd2k247/tsTkNAEPK2vu1XbJLW6Wg9i0i9z6eyQOpxb2bxQR6QALFhtURsCBNwAAAC+AZ+xakJ/D5oL7YILphEGiWQTFroOZP/3GEDS+6kACMCr7q3sxelLqGY+Sj/aWShX6RiUqv3yNFyaS/4g0JkF7lj1Yl2G48Y+vtCp7uhc/1N4bThEATBZI5C+vYPR3CoRD739nez1TDajP+eOtj8MdYmFLhXXWBtbBVuKULxyfFCB4iue9ILLb1TOT5mP63fJ3VXpuVgbkxV0wIVS+k/mHH5axdYe9vj4cvm/fXYQyF29cjTWQBcNSlI1WYAbMQAAATFBm7ZJqEFsmUwIb//+p4QAAAMA/vre7LeClANKtNVbHzHL+apMZrVsLP7mUdkXgL2WV1D2zTP7En3Kua6OqUKfYmGcp/ABN1QiFaJLZLE+NQpitUjxaWO9/jYh+N1nlR0NOjwT4VQmqlqD95BXmYSBBT3SxsubMKQWvTqNhu/g6hsFfl60/bcSVVvXgHJ6cR0jy2dAf4sHh17Ll5Z+91k/mUamSnxfX9qlYNoYu9Dlyg+qYtpklBVq32bxFrgkBDuHoGbB8zOCNF8SoeIo5EWgeIQ1QbHjhFIrZKMmLtyDT9usUgGP1iZmOPhM/VtsDrJhVB7RUt+2FzeO4oDu6pO1Am3XETMYRBqXLtbvmMVNVKKp+3CJ7KYoRGqo79A3q1Jxmp/gzS8bObt5mIfSDB1CcAAAAOhBn9RFFSwr/w19g5OhfrnOwwmEO5Ml1LvQhxBI35PABf6GMLWvPzCZhbC4S30cREaWaB/hlJ/BIptq5WL2W9mNtjLZKpr2L/2rkbLubK9WOI4Fa3k5mWgZRp85VpbNA48aBmx1GM0LPKJIJY65nuwti35gsHTyYOxtlXK1jK1KVL6ad5y678I9h2KSL0cVTCWIfealjKbuWyVR5/oHjqJbCn5GLIsI4DlnPhPs3vk6tQTq3XFXMWsqCgj5rWcV5PKrI+IrQYwFyPigyidTnKdWT+jTrl85GavFpcZwkW0jBqA9F9T9BSEHAAAApQGf83RCfw99w+2CCpP03gFo/nr6IxXsLLJpUVlgCtRwFllIJ9bwqzv1LILoCECoCGX/NhHIQRwRf5y4JCgOuV0p8R84dMyito9auxhs0kGGz5IGh/CvulLtFizB1qhgL0SJDGdz680w+ragQgW3faTyA93kE3bkzBr2PV1tYn50i8nBbeTjksCUi0few/WhZ1lGue4x6LBOcTlg2DD+B+08Tynv8QAAAMABn/VqQn8PmgvtggumEQaJZBMWug6VEZDXHDDcTBO8CAHGJEhZh33rELEesK2bpzZC8amZaje6Xhvq5WrbHFFC6e4u3sZdbIPBE9cybkw7zlZ/Q0+DAZ3892NNagmJekf8ZbHaUo/idOvqMEr4i9v13iWLP4vT3ms98gdTh7NIYMwmPmS22igibIzdG0MIHVqa7YIx68OSuQHyjfj5eeCuiNhqMQ0ylHIH+LF7I9QICQKLBAPJcSetXeBrCPu3llAAAAFTQZv6SahBbJlMCG///qeEAAADAPOmorkQ62cxrqAEqF7PeXuMe6wOjg8fuE8tvVms/xGCDFlRW0Gj6RZf6G9NujlJAIlyJxmcUaKfPiUnyvF2tE8rG9EOQYwghgmSbilaGdVAO7hfY1DrgAV/NV7Q9CPesPWeiHldYK/WIn4F5Ma02gcFXzWo6ZQZ2zwlHm6v8IJKLxqYwvJnpf+KLnnFeKa8OD+JKb+79z8rwgiZQNCmxARKUQyd9MYvna1zR7m7sKF30jvImRoqndJJctjI0l5rvmgDSEavsOBk8vdE7Hxl4sFpTe2b0p8lQ6CwhM/wOH5txKluzUm7Iy9UzmDqvj51MO6pLgWIrx12lv6T6FWmLur80FwJqzJDLKlul7bBDnrKSEgkP3o5FbOzmpM//o8PcUBnAbAKytGmk5fTvaDlMrxfTpg0m+72rHXf5KpEnraBAAAAyUGeGEUVLCv/DX2Dk6F+uc7DCYQ7kyXUu9CHEEbCEw5VEFwWvIGp/3gEb+ARfI3rtNbUJpHgGhuF5Eo5Dy/wW8OlFiwbBWRRs38zJXA7MSfsC/Y+ae1O/kOp5V8dJjU9YXPP7PSobVWcW4LgcxeaoA8CEIVPJz8lsbSvG9MShk908BNv/vt9wHfmnCX38egGR2NdKRbRSvmBG3Bau2tvEIaWmXdxR4YpagNx52QYgHcnqa+D6NBS0S3jdsmZYs0mMh+Wkvv0Js8HdQAAAKYBnjd0Qn8PfcPtggqT9N4BaP56+h9Ww85j6Bj68IAAEWeTJ2cmdCzyguKYYXT8IMKmhqpuFcVI4Z3JBA66/TcyEjvpoRyx1sX5LMNz+Tgbi5nChxcjmOX40D8ua37mwl81kB6EelpD8g9e4no334ZdraRHGYBMK3eLRraxt8+ZPb5YXkk8HEi7J0y5e559yflsn+0VVsObmF6aLS7F8Q1QFuVq7GScAAAArQGeOWpCfw+aC+2CC6YRBolkExa6Djw40Hk3It9gE0nTxGf6rvKffnt4YR5OWtuvv7qZf2m/iGf9tZ3NpJVQ7oF3Dax/W2PBYK7zAloL4+9H9kaG6ELR6ceV3s7pXu6lBdfzVnsSON7WHIqPie6EHFuS88rEOxzXU26UTMMjOEXzztg05GA2Tj/3o/BMJIo5qcUgfa+vjNXV//FoZQ5mGFYaX65U4GBlss6YYMWBAAABFUGaPkmoQWyZTAhv//6nhAAAAwDyhhiPsgE19lMlJsRhS36i9fFo9aewQ+4uvaWI68EhQOeyzQjpDcqv0ECoePsuzjRpPn2rXsFum6ElgU1IWympM/dr//L0LOvGRSIKBtnJASJGWC7CaIasToyMIl/UviepRhpFFy5Pok/tGjXyehIlxQt6BE+0A6SnEo7gzhx9XVHyshDtNxq6oTGWp8W+WoEWJghPVbrIdg943qlnNij6SUPd0/JHAOpLeInU+LA4xH/EAIVXnAmu4T3m6d2TFjbYJpSpV3123sxdsrYNmfahdCheWJe/28Nwnym6z6kJCenLNZdvGRf0a95hbATCZleIwHhVCi3X4uFmfsei0mdZScAAAACJQZ5cRRUsK/8NfYOToX65zsMJhDuTJdS70IcQRrUeVlr1KpDpVa/eJeABPYWWLBCFdK4T8vZC4le3aXWrlD1YHnqPNivWSjYNmAF0/bF8bNNly+UmcKHerQA5yf9S9JpMuMCCOej4lY7OYGbyMffEQoMMimFej7DjchfQwb4QowYkyv184N1uETEAAACwAZ57dEJ/D33D7YIKk/TeAWj+evoJtWLXWcAUuOHqeAKL+D01tqHSyCnu+vA/nANp9xVLhGyqStyFVFNT+OVbv7wXvXOjz+S9tc33DOVKd/4CMv9iB2q9gdht/RPf52KU6tio32DMIQ52ULBfGe0OcF2xTZgM7HnmhGLJRmgqlbduV5lNtf6ZQGTIhi6+ISteqhH++itJvcEXdEk+4qbfTkDvZLdS0u/96OnkOT0A2YEAAACiAZ59akJ/D5oL7YILphEGiWQTFroOP6UoYC6QKJjGEhzmrQSZ32sb6AFWjRuczhHZRa2JwP+maig9bW//whOsDNjGYGSWKDxMGkAnH60xBwXKr39UJ2S+bK9aihtmYyxKeLdjz1YQCbpg78xTqOG0+n1oadEuXyIA0aRwtkn5ZC+WGMs16A0SW0tDw5p1BC/inDXLRfDXi6+amwE4nt3QrWJgAAAA60GaYkmoQWyZTAhv//6nhAAAAwDypLMFyABOZFeGW08CbDJGGIy5Da72uXZDbW4Sajr9m3JyyBKd4WFienrXUH07Ghg7andFvAGNkQgJSfASi6daa6sHbiRXXOYukp/E7IbmdCr6KDp9fGvnaOrmVVjWnExyJKzbfN6vEcik8nN68sqB4JcH1jzDW9P0y/4iAwXjyyuQJ1GpGD/jqm7wmU2B1s31s0r92yyAG79nOav/M1T3rKbvNy5JHMiTsCA/HlFe99+o2WDgXcAK4dLxLSH/8mDuuiH5AN1nGqaeUksmvV/7MGY70CaGk4AAAACPQZ6ARRUsK/8NfYOToX65zsMJhDuTJdS70IcQRsiAU0X/d+N0LuCe5x5Irgj64k5JMbk9cG2AIkLfuoRxUBwa7odMOUNWxTVOUTzChhz/K7jD5xxRJ+zei+URZWp1F1hq/eFcZtGZNKlkk6WuGD3C/GVGYhiYywbS/pNfXw6h6y1IGCNiA5VGp04bw2h2K2EAAACYAZ6/dEJ/D33D7YIKk/TeAWj+evofbE9N6R1bR7movI8WoK9SXowANn1qQAOLBHQ/jlJomhT/S3K1RtKjogQVKr8IOORfZaqOzPABJHNtrcLbYbt3buMhBGGnD5D+MRdkvYR7VXLGeiad5y0CVmllwmGwEM9+3SMaHW+5fkQfetntZxyBtEjTS/uLJpgvX7GpxuFWCRfJ9IAAAABuAZ6hakJ/D5oL7YILphEGiWQTFroOQPchmTTvIrS67G2PP6mXgIDxpECJZwPcbSSHTT63Bc5FlLcn0UBLuxCWEMZ6B548a3HmSqv/+yCr4guWnp8/EsNNjSTZzrZZ744Hr2aaQajNtUH/20ngIOEAAAEGQZqmSahBbJlMCG///qeEAAADAPPwm7PLnDGwCyxesCm5mACun1IDjf/fUes5D6gb5yuCzYVSc2+PfNBOM6IiQtavEWIhKVQIutHgSLFiGKU8+FjaOGgUurfPtbUQWJzCohASNz0iJk5NebW58pmgllMEImRCmTQILjQjTMxwKN8xIyMcnLb1LN6XIHtw2G+vryPBFYqj3L+aPjDfJGfMFmIrxIj5sNCb/yUDSJePomcuLoIA/LEWYMympAhdxX9zBuUY+6FJ+z7/UFPPgxcoeKN97JSahUoeqjFXEnZGUJtd3ZMg1PFnAOVCxvCk8JlOrJ1viUOlGcVv2FBKhpDIEjxTzd/QgAAAAGxBnsRFFSwr/w19g5OhfrnOwwmEO5Ml1LvQhxBGzoe0jxgPPxHIwMolttEPg9P8A6pNxWBEnO6peujqlOBN/CCUM4scTHTjMSsVXqoUSbAFcrCEICsTNyXETwicUaOHERK72PzZwsUS75RGP8EAAABdAZ7jdEJ/D33D7YIKk/TeAWj+evofVzFoQ+gBYSw0eGUx2jDxGTRKTEtxxYG/iTZz2ZqeAx+OjwBVkYXRUCO+7nEMuC6JeJ1PDE8MzrasWt+3MY2bz4dP7IG2UhgRAAAATQGe5WpCfw+aC+2CC6YRBolkExa6C808ucbICraeXhBSCsWIxMaESStG67bwAWzhwv81iRZ7rNDW2hONSqMWNHt4Vqqj8DTnRSo/2zEnAAAA1UGa6kmoQWyZTAhv//6nhAAAAwBc/OKu0AHStZJ1Fw/VadLbtuTdldi+j9MglwPazZmmwB6VFwRibNlW+VTcattMddnGmVsH9EhLQ2rVw1tZ381F8gfO1nDsZ0LGzc4rR7S/d/7NdsIZxJ7wWxB70N1lMCOmLxIyqqy9+eVlvH6vYd+WPiJlqL/DV7e8nolgcC5iOyS+YmVBzwTiF/TaIHMW3ArbJuPaSJKC+eeaOshw65cwAzAjDnl/tMiyor+zeyr9FmeSO/sSi3UHM57JejAiRwPPSwAAAHZBnwhFFSwr/w19g5OhfrnOwwmEO5Ml1LvQhxBCadwFog+FY/OEPQDYPoAQNcGL7/5c6YkigBo/x2J80Vc7h2Wc1SglmBuj0tsP60jgiagbqGeFp7q5r0NvVLj0oSSki+lXZMuPQXuW9RYMjFYUgvcT8ix5AB3QAAAAWgGfJ3RCfw99w+2CCpP03gFo/nr6Cbea3C0M1VrOFDmvpbHq/FDKJg0ALTrg/G+js4sWZVAw5PIoEh1DohRtf3JGHe0TdfR4piQCL5TT2o7jM1LGwKgY/dBlQAAAAGgBnylqQn8PmgvtggumEQaJZBMWugvNPLnGyNLhO34mVeQV7/wdV0xv4+4aKtezKBbtQYqQAJUXno/pJ4xsKC7XGBn/6/aoIV4mfcuSNPNbrMwl/wDtlO3FeoFKixMSyxWRdFAezIDpgQAAAMhBmy5JqEFsmUwIb//+p4QAAAMAXVaPlKrsgBNgoiLnvaSLyCemvuoL6iZQwc+pwzQj04QwxejAHlJN7A9rN3vY6cI/Iz793n3otF7OKpBYDGPId7IOSLp0NZ3JYsv94shNdrT69R9Q8p/epbadaGVlTVwUlt6zAqbOr5xXjMpD3ljX2odnR6lxm4aHMFPfMUcpaSsJr5lx1dho/KoRQ5r4x519Gn4sbzXO9BEJZQIH34ujMPwEI0MbFODBfFewVwKhxAJydTq4gAAAAHhBn0xFFSwr/w19g5OhfrnOwwmEO5Ml1LvQhxBGc4uNBwjUxzreNvUQmnPbcACCEmZ733noFHcZvsoyZYsBIzkyDGvF2ijoix/58odnDeMFTYgqnjUZp+eCnA5shfC2JssgNM3UoUPBaiDUL/rtcCIGl6PoO5T8MCAAAABcAZ9rdEJ/D33D7YIKk/TeAWj+evoemxGGUxh5Eq94V5RkBNGBTlZwH+EHlB5MACcIVLNj+DjTOj2DciCI2stKLjFwEeUnswhUOM6o+Y5iPEdsvbEbh/TzvMAAxYEAAABzAZ9takJ/D5oL7YILphEGiWQTFroLzTy5xsgKuGUELwHg646/SAOKT4Z8dimAwH/rv9okAFgnMspi4mDS8ynXRqNm/+p986Q2ZE8V/3VRFZ37MESX618RKK1p8cefhF1Z+g6CtZktCn22RVRLtrC/ibgDKwAAAPpBm3JJqEFsmUwIb//+p4QAAAMAZPhPP7gA9/wQzTuz7uak/nvthSGpj7P9d7Uc/TPIogZANzrFXxm8EKISpNoWWwLKMpSgkvcDs0f+mFOpaZyFXkCduDrcN9agjTGMW5sB06qB1g/laPEWfEkD5G93c1et3M4GFtJDI+iG8NQIrs8eaChEIQc+eHQQk5aC7zEHlbqF2869D76ZV3v8amp2cTRUD9cEc2DLrf/Pr6HCywTFkShc0ceIxdsEIXsuSfDrmm7ks6V2EYfcylBnLeaKSVMDmfYDt4SqK1eS2ildlcNuaHDOUXWGDeLpTB7RCScZXlSxMEdi2a2hAAAAnkGfkEUVLCv/DX2Dk6F+uc7DCYQ7kyXUu9CHEEJp3AWiEo7BsfyOYAR0VO9j14jk/NebnoM6+II1gN+4ry5AhD83/n+lrDRdT3iezqLxdP+5ksu2Hi5qvd35r8sMGZHsrLeqVlAcrV+hRooIuawTBHapfhkOgFBVGEuwFaaD6lHi+KaN3kPyP2C+nOd5mcBg2lldrY/6Wtl9fAepWY1IAAAAWAGfr3RCfw99w+2CCpP03gFo/nr6Cbea3C1Q5HJqI4y0e1ezRv4su9YgSMYeslFMQYiIAOLFps2tTy5Hi/R6a2XZcpZD/jFC6VCxQH97NlY/mqtWeND8ZWwAAAB3AZ+xakJ/D5oL7YILphEGiWQTFroLzTy5xtHwOvByfD2rgBYCKshHCceO1iXgC8tSbmR96deFpU5zLB/b45DfHN1kbLF0hoToQYZ0/jZVlkFDdub9jIgCI3u3bgRKRkTMF5PTFVN2TVWN98uXPE0QV8g28I/QA9sAAAFXQZu2SahBbJlMCG///qeEAAADAGT9lPwYNIID8gFBOFJswC8Wd9IncnsAQKuHSwuFfw9KLfuTROIdgqnpjKZR+RkILksL0mh4lZSVdsaPnmgAC4dwwc4qmg1Zh2ocHNy6fDXFWEABH4hkJ5MMZVlhYLrJebLLzeyACjuUaV1cres6NqM6ad/q1BD0BhkbpJUa/cnWuqcyY2QACYV7wnD7U+XOmT2Gm58bF5ErXx2EbPb9KVymsozY/F4OrqRSOmFI/+QdNvdy6abzwIIf33ucHnIbky/Vo6plCafYMTSVxKGMiX05kyL08PC8BlWSonK14D/dUzcPHc5iNMxvFjQ6jfHSn4NxQSFDr8KqiLa2CEBZF0L9QEq9uO8XE/VEuUKCaL2YrPXCaEfIy9+O1i1QIYH1lPQlbqMPslJyXDsS0sarqCKZyeyRB05ZuI6+EQnD5prLtDyVsAAAAK9Bn9RFFSwr/w19g5OhfrnOwwmEO5Ml1LvQhxBCadwFpPpdACG59Xjlv3AevEP6Xy1Hm4WPcdgVb4Cbs2GXvkZ3xYUBKkq6pWZMg4Ev26CHXZ/IvWrKOGmuEB0VjnpFty5/4g+VsWwg31OhxeR8vkak5yy1Ec4MuAnQvcmiGKT6m2UKUS/fkDfmMKBn4J99xrmHCu7uHMldFnPVuipL/fUOMj09L+zYSVnAu+LwVg2YAAAAhgGf83RCfw99w+2CCpP03gFo/nr6HaZRLy9bLUgAiKTuQwjK1ZlZz4vyvp1xL+++6yBs8RuBgzwd+IDcjtfH1r7DsvrGVdpznEQA2zvIt8WeRZDoUI8ROsHSK0mYrFwtGeWC5lMnQUKcOllC38XLbBwgXskfAtin8kJlOpFfLgoGRpQX7YIvAAAAkwGf9WpCfw+aC+2CC6YRBolkExa6DgxAavzoAButH44+CcLeVATfAy0qUKsFuirHZJNUw7N3deF4j4+vDKHfeav4bZRvlhBAvDRLZ0WbUXCh4TJR/KQDEi9HuVlWyAiuAJqFf8cVDXNl9kNg3gVZUUz3/ini5Rajpab3K9wGk9ME7a4G19FvivoWCHD5ZISLZ4CbgAAAASFBm/pJqEFsmUwIb//+p4QAAAMAXQPRYP7IBNdMdwUjtNXL0UJ5me+d1JqjZYNCe98axVf7JM15OzExmVPaOBqQYMGWt+TlSc3I3cMxTjKtr61zQPbKWBwq5PwVqamJPHulW7KP37wVUkZ6eF8+sjc5jJKkwHtRwaF/zsvUcvXiv3Hg2TgFa8qSdC0uNhSFRRX+H738Uosx943I8QMDQEOIoX1tzrNUKnpqyMStHnjvMsl1rQ3kS/fu9aOglSUYXgXVVE71gk8m/9n7+6RlyjGPxQy5FurLZlgmlOhkqElqISiCWhozclCvmdZDXpPUYJyrT6gZJ0LTj3N3OSPeugENUk4DjYsKYexbpWEti6qJF1AlETznzXekeZMJajCPeGmpAAAAokGeGEUVLCv/DX2Dk6F+uc7DCYQ7kyXUu9CHEDsGt9+KhX/r8h29GABRRoVXC33YNvDzCrUmt7U5pjIY7dFSs5IpdurWDSNmun3/2/csO2o2RjslPJtarSHFV5i4Ts0Yd8mTlACVpv4xALdBOW+gC7AUF0w8ljQvM1gKc9fG05f6Y+Tk2zELKY/GOYzuVh0jukzbW0gemP1zl8SBUy7HfYBFwQAAAJ8Bnjd0Qn8PfcPtggqT9N4BaP56+h2mURAxncsuXKIDkHiACIN6zpB2PkxbjzZ1Ps9MbU8w+mw4ui2D1CKawcyrLBTEdln1EalBZ2tGubQejp8MCYZjNhe5wPBCk/2T3GNPiSaHt03b6KxN9qCJQ9ZZ43qXf6CvZCNrmwLC8d5Erk0w0XlLqdJWqAH8PFxHt2bp4hDch3dlJhuL0EqGAWUAAACgAZ45akJ/D5oL7YILphEGiWQTFroODEBmvO+1vsmQ4Av9n50oVZK7DS0kQgyyvJzRCrMz8N2HnduZIptoKiLofZPIdSmASdeGiCq1q/e85f9205XkTjxzWRkQqRxVfMY7aU9bL3n+VTV3zh9ArnJ3/p3DoVPqxu4G36TuJbxZJ6fzmVpkAVGrFOGK4wIFccKG+gzLkiOC2cODtnM949MW0QAAAPtBmj5JqEFsmUwIb//+p4QAAAMAXQTezFcFfryyuVGiiT4eNPNVhiLVxO47ApLpA0e7OyFtSmNGNIL6I0tGgPk1/LeurGRg3rbL7g5S5eqAWRKcfQ4TeKH6AIc3FB84I5QvzUOe5H3u5LyeEQ5pg/RCPMK/s2oSKx1LeWmnT+lXts5IpiRkJBMsXksl4nzBnM2CsNVwLwePCUXghT1YLH0gI5eDmh8Xru6eb4SjVoMdMcGz4qwJKK81fbkbhumHUmQv0XdmO8MUXb98/fGSiffPfN8HDU9A8mhiHp6sDj0XkN5W948l4FslwR79MTgjvRE7HejAPb7zVs2f4AAAAKhBnlxFFSwr/w19g5OhfrnOwwmEO5Ml1LvQhxA7BrfeDmsr+8QAoNfF+txp9UUUY3z7m/qmNH0r+9Xd5RfB8gOQnk45Jwx3vaDWDcsxJMaReKGN+qiHPyzEdre/lVgHlhg9hDSzgg3fVhj6lyL2uzhMog+3aleS8dQFxJEyijfQHa+PCAukTo1mQeoERX8j0WBxWtRKuqkqfTWajt7T1ATlNAs9kFVfw1MAAAByAZ57dEJ/D33D7YIKk/TeAWj+evodplEQLdqa4o4tCACIO4AZWwpiEzjfKwenM06lvV/y4XPb6Ozx20zlg6vhMg6Oxn5CB6CLbny9UWA97gLsEdWWlKBa8jtp2aZFm9Lk8gqfy8Mj1TCZy2pYXfzPgAIPAAAAeQGefWpCfw+aC+2CC6YRBolkExa6DgxAZrzvoXbQr+Zes4ARi2L5S3a/dyxwnDDc490F1N8hRk8Ng87u1JyEpGCsnJZ8RJZhQmbGX2M5SfUy/czoVncie14m1Vjt310ZzhMxQQ24uIN+rX30Q25ts28r8U5GIXugDFgAAADtQZpiSahBbJlMCG///qeEAAADAF1/o+jLtaOLpYDRAX63FhvaB+hNXmByJiYM+3KVDxfcRFoQS6i/7XdQ9z3neTs53xzmx69Q73YWckEHFcWQO3xnzIaPJl2Q22qJfx0Ac71gBURRjsZ2XV4o3iKLT3C1BcC7ehY2p6gqUxkBEKr9n31wKiXn5vc9NpHR3YoETTT/S1pv3s0i0kUE5wHYh7UHn6I8OxPSbuegK2Q4R1oh1tfo8+5yy7gw7Sgso59IS8TTdXcfiKbaWgzHJaAQdKZBizLsWb1AP76hZy+mnrkdDARvSo8YgUP9PtxwAAAArEGegEUVLCv/DX2Dk6F+uc7DCYQ7kyXUu9CHEDsGt94OasWOoUraaKWYAODr7YeFPOAE0gYzqHJ0hZGTUdUvJJXivuJIjKPvtgujZfFYhzPKXhyMUkheuvGxmWYBGGAVE3xIVPvhX2c7C1a5z1qW6EPZ1Q1HyoF47wJFb+M41XX87NesxNrz8daZIXkxounQCPvuTcYMvweRrhqDxF4jtOsZ+luLo9tz1itiGUEAAACFAZ6/dEJ/D33D7YIKk/TeAWj+evodplEQMYWfNrSIGP1bnu/XgAmXfLUd2B+USdDdz78FBcEBgtp4hjh+9XeKpn59v2pk1PmRHu/Xzzsi8Vw3iflX3nECnoSYyFsAw6WYFVAAvPVGYugm72s1Q4fa6n2hj+wx3rIcqaxaMGjRvOsQISQR8AAAAIMBnqFqQn8PmgvtggumEQaJZBMWug4MQGa8raSHN4sAAlmXQ+yeQ6lMAk68NEFVrVoEZ4Q6G9t3OlYIS8BcN3fQD+1VOrIXP3eOHcr9mK79ntlJPvjXpe+3hak+jv8/F/tE8W1rfLpMiKUs4/YyoAaxOHnKFPpOyXk43E35H0DXgThlQQAAAR9BmqZJqEFsmUwIb//+p4QAAAMAXPVABpdSrp8oDvaidb/qEPYNscBRB5LuTnvx1VytL5+APEoxL+FSpxDbT7sk1mcYAJtEuXxBy1kIRzJkxtvHmbj6ndwnp0vOYXwoGjSqyR0m1bR0txAr6fwrm3pK8/sjSliw05ZC6nK9I8iHJTtyNZ6+4ZNJ/PtZeVVMQanIdeCJWmH5GnA0yT02wj7WsJmG5ZbEi607qr8zTXvQNUu+ebAVgU0UkoRBU0UfKSNywLQJdnbs2ZrZf3X/9HUgDOuOIQi3TqsQS8DyHnEPpomaTUJ6Tw2vVN9dYU2EN5xX4zVs0bUE2X+qD/Pr2yuvLB+lnRTgbrUNWNzonBji+xmZRmeE2xkMIX2W8X1WwAAAAKpBnsRFFSwr/w19g5OhfrnOwwmEO5Ml1LvQhxA7BrfeDgnWcGeQAC6Y6w6S7Fsf84d7RpnZUG+D5Wn+jb09GWJ0DS4qDLXjreAZfwoROrYv1UCshS72k1Jov0u/hc8tuUvmUmr6BlWFoVLEYeC/XjZtQK4C9KUHds8KkGZZZ8BFBHNbpaNJLU3I9SaYLQk9R6gU0DIawhOuteXV3I+eVl/QqrqWvJLVuH0hqQAAAI4BnuN0Qn8PfcPtggqT9N4BaP56+h2mUQze4v+XUV3XkAIbqAMrcsYhM43w0HplgtI6dCqMtPheB6EdnauzMV8vBulpILpQ5jmoWTV6ZlgIs5JDvsA8IRG3W02egBefnvSW+LgV13WP9zPF8+Ic/0+3nFdDCMBAh9cT71NrAGhRv57cphb+JUQBroSDAAKnAAAAggGe5WpCfw+aC+2CC6YRBolkExa6DgxAZpCviJKhcGCUAKpFM8pbtiLzqk8zwgcoS8sOWX+Feuyo0Q8KCqENJ0dQ9cNcWGfX/4MgDLyBNVQq/M7losy0tq+0ORvvaTSh2PSdQJtMlWTkjOvungQexiEQkH4tLtXxETeYVG9STIMgB80AAAD+QZrqSahBbJlMCG///qeEAAADACf+8IgeHIaQhACcj6fUJQgUTWDxu8BvvRnphd5cFZa5mpVSvAgv8maOD6IcookAcOozOBiW63QvX9MnlbtkTsLyvrSuzdtPteHHFeCnfjgf1q6WfDuKrgv8OqcywBq+M4vxs61CFRg/cQ5SO8PUfXm+2NMOznJrXws6kP6BPaTtzMzWGhZo3qkQ7Eo5R+KA+c5jVoDNMCOPRFUGNOVhmXO0fQo3SCLbdTJExEsQY7L89FsukY5sWvGKygGlpMxiAbWF8HjXGDZD1Nh97xjm05YKqx0Q0VD3vZkiBM8GJf8WDfuCaYTnl25CpIEAAADEQZ8IRRUsK/8NfYOToX65zsMJhDuTJdS70IcQOwa3340th48aR+xEAHKf4hcj2hZNgo2VF1wTL+V8flEsgmpbIb6koK+D0GMmDafZq9lEdtzxHn0jgrUalNPMlimhzXsj8UOIaBr+sAzSDX0wGkxsnPFi0BFUCEbyD2EE9BehH6FANlWvd6gz2L17qtA7IlxD4rEq4lFYaTK7Ussdr6BcrEI/X3MxuOkobMGhGHXYSeH9txbzDtyB38F7OS2RyF8ngBAmYAAAAJIBnyd0Qn8PfcPtggqT9N4BaP56+h2mUQ+JX6m+/KVYAHG4bvCpMXVuYfugrl0OCs6pcdIdJaYEH85OPvzL8w5bUV/kk9h5G9TqWxN44v4vCVSn4aBuoSnxjCES85up4PlDG9fwWr/L3NgrpNv668ev40vKHZWYTraGLUPgWYV9LjwdhJ4Q+PgZuhpeBl0ykqw3oAAAAIUBnylqQn8PmgvtggumEQaJZBMWug4MQGayIsSuFwANhGJTI3T4K/0gSMo4JfCYCC9lVGn1xo61PcGT8K+1nsgc3Xx39MUAi/+9IDvW3R9oi6j1dNyC49eZC5iZee2jverYcBGCWLP93ynkGZm6AqoJp0bt+iP/NA8epLLCEH4CJD9P1A6ZAAABB0GbLkmoQWyZTAhv//6nhAAAAwAm3yLbIBPksRXTFoAceVUr2NDfm1W2F7pSZVuz21u7EDvqBv/+2dwvR6n3RAZ577BqRB5sVo7lCWdauCRRUWgGuJGeiXALchapBBjYu4hui7lnqyQ8dIjS8eOIJvdOcc+fCUn7IeMm1H5o/usEEvJfGHBAPjTYXO7f8+XLgLNQ9v6v8ArfyblnyMH4vG/uiVup8pJ5YsuoT0hwx+ex92zjjXvzUB5qVWisSkp78qRblWFUs+LuHPMzupuY77ksdOn1Pr45707lirn4PyqbKME5nGvlGyHuexTHAH+5buCQMkhkaGFD0wgWwzZYo+sXEWD+pzAwAAAAqUGfTEUVLCv/DX2Dk6F+uc7DCYQ7kyXUu9CHEDsGt94XYKJSnQEADU1WP+GOsE4K7GSepeznIQPfQxzrC3FUKSL/tKlIJKSC3CmfTqO6yXR4qG12ohvGrXJdFXuQa+f80aBHfyHDU4eVFbc0sZdWrJ2RghZC8TioF0Vol8VPmjVNeUHIBYHUpzzRN2+vLbvAIJR4yuMYUpRHAACrE3qZbypujcoZQb8KDjgAAACdAZ9rdEJ/D33D7YIKk/TeAWj+evodplFJJQp1PiciY8AHK9zYoViGmDS0kIFwJDye1nMz8N2IUeVkNkq3UeLdWk4vZ+sgpb6UzKFvnKVn5ai2HS3tdQjHDUmEntXm2kh2q96w8Vm6qX8tnZw1D1H+DXgSQheM7vnmoVggpJEHYYIf3S2IV/kIEtcEEuPhBcwfUqImzwUo6EMz2QB/gQAAAJ8Bn21qQn8PmgvtggumEQaJZBMWug4MQGrCUkhJlUWwuuKfT+AB+J5eO9ir2QJ9yTgUDT6deWkqAJ8BtkMZPbbbvDL8wuT358L+6crbDU/f3qDw1UAjHaLz0ShLAKBkMdSrZnHdayLr20V9TKdXNp1JxUZ4Az7h16JOQD4zjhTbWzJi9wcE99rqMo1E6Q8xkJPwbwo2f2yUWEfu1RhgQcEAAAD/QZtySahBbJlMCG///qeEAAADACKqu8WSAI13U0myD50TffdyRcXEc7EJaOS7sE0EeDybNGn/b0MyZZaIAB+6AkWu4mQCmO8rYqbG8WM0MeeUoFyqZuWJo61Z1wSGZojeoXQCdxh6eCHJ4QzMpkMxOSoZF6gDF8271WMWV3yYkjc0KDpHyG3HdCxmZT5dRzVG1Xfw+xiJ856vlxVuU3Jw0oryFKs/6lhT/zxg0WDVhl4G+JNY90qmAJrpzQZpGcE+4kvp6ut+7oD7IHixv4l2DHr6CPjU8J7rny8+ukxcA9rgbwdIIBnpXP1sbQQ9cM7xJvM9LX01gTeTvAuGY2TdAAAAiEGfkEUVLCv/DX2Dk6F+uc7DCYQ7kyXUu9CHEDsGt94OA9FIhvV5okv3yeMEbTgLgANYWtdgpbqR5xVJhpI/y/9v16wBClwREVEATQMLFPBXx5jaGN4oTfqTHqpf662eyDaDXsnMRCgqcU15M8jXFeKXFyy3/ODFFGI5q3jLRuu5oFfmPU34IeAAAAB/AZ+vdEJ/D33D7YIKk/TeAWj+evodplEQLZzO6pkM0a9fQAd7J9BgtnXDiZTnxObiSuopOC+v07UdXYHMi9ohBK1WHne38+l7hWsjI2e6QlbwYLETeAI+1DQfy16C2d3e2CVaEK1UmwesOV5cAXDLCogr/FDav6PK/VrI3RfDAgAAAFUBn7FqQn8PmgvtggumEQaJZBMWug4MQGa8rZNIGqty8G8UDeYSL85pWCltOPVj9cPHJAA7Q4A3EkUrKq981eF4ao4YeuUaQbLj1zcSWlgOSlAIgDFhAAABPEGbtkmoQWyZTAhv//6nhAAAAwAj3IPgahEALeuS7qO+P3w+xKFRIRFH2XXOWDHjuf5j15xJT1t0ICUfEZI0dM/q/6dt6zFi06GyCSfKTolrToHWHG5ZWJA9Rv5tViF2wuWU/FigM0cF1tQN1hF7afzgiLlPy0yt+aA6aVgPimHsonp4YFhwGzJiDIpLvYCeeRZvoi4oYOP2JKjbU2hEwfXur3V0Yb7B32cQCxTmRFFpliF7r6VImlmgSGCvlrpoO0MBv3iH34yxbMNyOvq3M4Rvs05dURA+puBel2JRm/dzkJkxVC15Do4FO5xKfeTG5BGgUj+5AaEiiKXmBRyVF+vDuq6nNFDwp8YzHwczv6Ifrb21sAd6ASgzyw0oj2iPM5RXrfwTZYVDjgKqdKQjecLAot9qQMwkc/0BeoAAAACdQZ/URRUsK/8NfYOToX65zsMJhDuTJdS70IcQOwa33g4D6loYpXTMAR1HSk5iZuvoeXb6A4M1DOKBkzw+8EFv9sjyINRqjdz5exhizWk75W75gBJuIadchcjgGri5mgiDdqOQUFcyQR/qFVzPRA2Q6eKNg4zlTgaqVos03TmaIeQtS+oR+3KFYIzjtsIXtNuePtLR4r/6e3HhbMAh4AAAAHYBn/N0Qn8PfcPtggqT9N4BaP56+h2mURAtnX7Y3om0zA0XCoMdvz3q6MN766aXFqKUzHgA/mhRs6vMuYkCP/yK8I5TUY1RWPnMssWcHU3oSl554diehUJet7iUu44mgPQfaoez5mSXN1w5XUezE8pAG7SjAPSBAAAAmQGf9WpCfw+aC+2CC6YRBolkExa6DgxAZrytphdsWIASIyXJr/Ok3O0u3kq4Yc3F3n7dg7MRluzuGz37IHjX9VeOu08kDfjYd5ToenElRK27P3E74DY6/KH8DYcfS+eIaNOFCg39wqJIIGVqXcwFtZFV7fDpr1/OdMs/lEPv50kg8O2YLf9FE/HfH6g/c3xwUr7C+coOYyBhQAAAAT9Bm/pJqEFsmUwIb//+p4QAAAMAI9+hjMZZzxLjQHBVxQqQk8futMs5bZTVZhfSf7Erxa5riX9w7Nbm3nyaO18hV+DaSqfPMaWLpLTQzVZPEM+JN3EaUkJIReq4BqMhGR2NRuFkSnErnwt7CNIqWJZvHDATwn6SZIiLct/cHzLjd1JJcqYvTXqQjFW370GsRnR2ds6nrwdBh7y6ccrL84lIbGGhphodpHkSFNH7/5jjwEYJxa7WqlCM7NqpSLK+arlTStVL/Crn6feksuxmpPDs4XxwjT8aRTT5yBoR1RoSwTDOfwoRpnim4/woZgUGf9xHQcctzCsdAp+AJpnUHPgFr7dy73NBsZW7dmEAN29eHohErVP8gknzPhXzbgY4a0xVXjmRPV55r64Iz9BLv8Tqo5xnBrDlflluOP2rBjlxAAAAxEGeGEUVLCv/DX2Dk6F+uc7DCYQ7kyXUu9CHEDsGt94OA+UT4xoWIrEMdHzT92ABbPNcVSpqR1HOn6idSk7Rp6yQW0hzx7Z7iCppNjBCyBuY7NXMRLW+U5bIk4gDms0ha9ixIeNfdpE82bnw42Xl0ufk8jmmwAr9XjbuGS8Y4pcd0ynrO4Z+jV8XBxcX98hcxY9opgIxNhB/6lARjj9iSFxXNgVaV7isv2zpMIvtZ1tK08x7O95ONrVbMM5/LPlJRgv4h4EAAACQAZ43dEJ/D33D7YIKk/TeAWj+evodplEQLZ1chnnr4MAH84xFDXOO0GpiSlSCdcytb8MLi1uwxrjGT10XvDDLzkEZNiU8mP0j69PxvBhcaktVg8AiZO89kR27q4+pyBlQxGNFqSlm/j9lylNUTepC/z+JZ/x01l0QFDUHgqQAF/3yu0Wp7Wx9lgVkWYHCwPmAAAAAegGeOWpCfw+aC+2CC6YRBolkExa6DgxAZrytpHQkwADTytTb+LmWjTMiRpKEoXVDbQWTx0A5ybwUOY1GAA/lrx/8KqjOcHTIE/4zIdScncvNJUJ0fMhfunop7WPdhY9IIXxF50/TSje1E5cqWI2sG1SucIqH7/4c1CFbAAABBkGaPkmoQWyZTAhv//6nhAAAAwAiqaAprsgDmDuh6Wj/p8hdtbzGpnMMLaJs67dMab9zIt0nN+psy5X2cV84ZZFI4r82CsBf6FzALSJt+XJthe3F4ZS1sDRL/NAPReG7aPucl9GJXdBvfQT77zBSVy8MO57WfT/9ZVqyoVfGVGPOKjmSIQSjlOJm7eqXybmlOyJEAshGOKKHl/o4sfUyL/G1W/v2FSEduRJmsvOoyXXFs5eYvgLP0bOAHXw2VIU85qwN+DfvJAtmHn7gAw6SCmx7qBZItsAg0XoQqwnCvbTHfy4L3CNZx2hVSSHWyut5qCYIkxGzynBJ4vTkzTxifCQrjptDW0AAAACvQZ5cRRUsK/8NfYOToX65zsMJhDuTJdS70IcQOwa33g4JlK2tgcHWM/I7SM9mCBSgAvru2HqbN810asUe0K/zQJks+7GvxMaxeFT/+zWbPQ03raEEbwUFtJvrtU3N9r5LzBrIfcdPAXlEmeozhDDb8GJMMbLGbCbJfozmH2DIUJIjShLcsw9JJi4xgm9WxNtna/eYWHJkeCcpwyLD5epQUKuHCdcbNlGrtBUi0uBgQQAAAIgBnnt0Qn8PfcPtggqT9N4BaP56+h2mURAtnVs0/NvsTzrgDYiFtKaHbPy9v2S+MQvAyD+PZyita/P+Um3UW0omDSeMzI6qz6nsoJoucrgc1Iq4nDCLoNdlOzKNh9c4huKSYAITCpFd+IP5oNRhP+tfqu2Pjm2mrBpWuKuLUyvSesVMgfNMFgbdAAAAfwGefWpCfw+aC+2CC6YRBolkExa6DgxAZryw+jCS0w6Gh5lADcwJ3HHErE/bpXaoLS1KqausxGFm3A9ww87rClcuoCbJKIIIMYjeZwAdm+947s8b3/cr1dJaQRN4a6qLaYMyaNUAcUshBY8MUucEE3bLYa8jeREGxx+c6PVug3oAAAEBQZpiSahBbJlMCG///qeEAAADACKrQiN85qr9NISQQA4uvyDjpQZdrpJscdZt7Qhjj69OP6gyLMuuBWqar/QYu44pHL9JLfb5BbWHzSa6tqLmGFOk7Qzp/QvgNPNkQ/ZwPwz1F90PIXbWe46oFFpdSyxj0sH/oz+jgCNYJd2NyAMJPkWDqFCgZynz6kd4kMuKWN0A+9yqS/tbtUs+aKcF2G6pPbfoYHPa0ScXjMxKvTNZyB7TvyCOXYVZ5uwJ6jc+kthk+n0YrBnfygtCY1n/PUr8niLAOzjM6Da8oSqijDdkFOyCgUm9ZB4XqOUX04PEYJXelW/D+t5WpfnU5Rs1LOAAAAC2QZ6ARRUsK/8NfYOToX65zsMJhDuTJdS70IcQOwa33g4Jm+WwHny70otLYxC6dfgBB+n1ybgebyPP5kxkz1xyD/fU1TVQ7wepixxzvljoJpx9smAZ21Am6pf6/zPtnd4i+QmE7zIXdeywJJOzXOySungPLQQl5SzqC7lgExm9afP6O3tuE+yyYh1bqdMbfDWcXQRfVR0M+kjxeQXyQLbVEdjS3uJKZqWC6nVMOLa5daOm82QwXEEAAACFAZ6/dEJ/D33D7YIKk/TeAWj+evodplEQLdYrT9Is8brA7MgAg6EbnFmVFqAGulhg4eGRhOkgu3LEnmyMAULeKK/31h4ibgawh9y/iNVAbAjs40Po+3rSSzh8kLlzlFs3/d7OwNAk+r2OskoMNT5HnSOBH+Hnkl9J4/S9qSRPoLNwlVEBdwAAAIwBnqFqQn8PmgvtggumEQaJZBMWug4MQGa8raR/rCCseQ4Py8J0ID3wdwOvJgYoC/JMMtD87HrhcW7OacQ9xNcR2bXFfOSFY7+tYI6rOVhjjsFQV5b6lJz3R5GHExneXM6vQj72aWSay9I70M0JKYe5dfyaQmfCnoAeRLbHfk1s6M2gmqN4s32lAwBqwQAAAMdBmqZJqEFsmUwIb//+p4QAAAMAIt03sDFqGXAAVtMbXmb9cX+i15Uav5/K2ndTlxqASVVSczvUzH3KBvEkH8KAStYH4wSJUATyisDK5GpSIhYsDz5qXK3c0Dm/4K7HWhBvu0N3WmrNEduCMAmhT5MyhdFEjPDnCnjFFB6y8hy/rPdLfdF17TwTAy62JQ+GPOHuSMRJXiy6oFyO774SyO/7HRl2tgPec2/XlwaJMeasoh5hSocUovVlsajbrefUzeZ1uAQdS0nAAAAArUGexEUVLCv/DX2Dk6F+uc7DCYQ7kyXUu9CHEDsGt94OA+jsjAXw3SAoo2+t86sjgAOLLV7BPDwTSd0dfcNucC+5ZkMNzLAyxf8X+roKLTSy3SFWZ5GocBDJ6bbEmXgiSlOBhXOqVHRe029FpEzhdDcPFANl0iMHX0PpCsjmjuD0nCznBP1PvF35Jm/6ki2VjFcHHVfaz7F4ddBW2eIguhhDBNiQ6Qk1imjrJCHhAAAAggGe43RCfw99w+2CCpP03gFo/nr6HaZREC2dWHpGq9puMH/Y8ALW4E4FKd8VYBE2v2TqxOHo0FHWkkSv+IHuZeSm9v9iGLvMs/GrBdfi2Lx06wxfDyyOsYAeYJxJuAj5tfou3PyerpAXvrQYuT/iBc30nxTA8H77Uh/PhjOL9xmsJuEAAACMAZ7lakJ/D5oL7YILphEGiWQTFroODEBmvK2cnjXeFGbT0FEUAIk3cxBBKMBtkBJ1JvyPvPXHaPJnhgyVCjaAPVDbXeay6NBUqRCJzHFv99wR6CXX0RH4HFzE1UccvfDmIW403AW6yjIko/E7y5kzk4+W1v55+0iaYiymC8DeycOaQ6iQqlelBnFoNmEAAADIQZrqSahBbJlMCG///qeEAAADACHf3TAYqgZ1x0bEkADLCe0BWT6qN1lhJd2GfbqyJHyLzliMI9QG6YdJLEYdMRq8lohVpgOFYfSbnEO1grKFGKJVl+4OfADw4dONwFNQ+0tMoWol3O/Mmu6nNH1Dd7vyrt84MZixuUwBCZ3Nhv1JY7smOmhDDJ434dGPKTNStg08yMFuvl/LuL7ZmFjjRREjdBfc+iGpavSjCmwqA6FUUpoRNOReE5ijNnzKXxrABT7NYwBOXEEAAAC2QZ8IRRUsK/8NfYOToX65zsMJhDuTJdS70IcQOwa33g4Dvll5UzAPLGOr9ABeqfrEgXfNptojC06RvO+rjayOoEjn+QCgNK81KPXIoQ9QgAdUs6jVzLNV5YE8ZgbKQmKSyxS59EbkWY8awIuf+c5Nm+aGAohT8AoXIgWzohSmk2brNmyfPBaZSeZ2JSzTrrMsOXoGkrVADhNVvAGYflBhT1bJMFw5fvTayEFUQUFGnkHeY4BiIVMAAACMAZ8ndEJ/D33D7YIKk/TeAWj+evodplEQLZxOaSgWbKjtON6UACWSa6YHB5iIimqxawPiYxInFHz/+u0RWZIX2V6etu1iiAFxbF84ALdzGGSGVUQ1IPBTlxgUUBjU5msuf26CPq3UJLjSdI0LKHEpPorWybsXG/IPYuCzC/RBjFjxWNaZgxhO6BTAtoAAAACZAZ8pakJ/D5oL7YILphEGiWQTFroODEBmvK2X8CwAv9idUWp6ipmo//wwagmYQX1X8vhTJzD/DwZG5FjZNVQsKMd/SVCgHTGvw93xxd+h/GQUUM0wjb8LVcFGrcNapPWZoiv/hox2r1wwZYavNNMO7yd6hWyE/u43VpiH6W3xmk6U0gcimWlykOmut/8HosvkiJB9tU6dgB6RAAABIEGbLkmoQWyZTAhv//6nhAAAAwAg39yOhuHd3koA5Z1XJ9ERhafHAXo99vUqYKIZAb7/HIFAF0DKzlQ6lLj86SRJQqJwvYRtp4Z3Tuwh19FOHRuxNTLMcb5nxIfJ5qIi2oBqsjjP7wgm3T9V40yf3GYcOXiue3OE88TJqpzRTEk8FscsfEDwNbx6Xg6hcpasYdnV/w+p7bCqdsKjthiOvZnhMHfwA6Dp8Q/MU7pcI31S8vROy0GcfOdATOI9FmaJ93M0F9Xf+iy4EKZicWPXlZkBtaNewJKo+A+SzpAICkEcFytpBrEkgJVoUYD6E2ss5Uqii4SHgIUH/QWgZqLdWg57nvZWIOldKhV5XvSxlzXbKyrasyAIeopgfECG+lYloAAAAJZBn0xFFSwr/w19g5OhfrnOwwmEO5Ml1LvQhxA7BrfeDgPEhTHs84gGbHWm+z+TUOSt8Z7+rp1uHBt6/9TPUuvW6daKV6X/llbYqpwbOnXAK6oKvNpfeVM3Pm0+9q3iaeQFasugujqk1o9N73WKpRizXPb7LyVofVpfeUpNLPleNKb2SF59zaFVMdu5hSfVyV/n3v84EHAAAACHAZ9rdEJ/D33D7YIKk/TeAWj+evodplEQLZv8a9k9YSRAA/nkQ8beBFW94bk6Ep3xrhHkaWjX3sbtl0wbMCTSeLJ1gbVDHDX5Qdtn/wC0ZlkVj9QWmo3F6h3kb9s3IdyADMj/ixsHzj/nVcHxtAseX45J1kHYdhj0ZOnr53rT5oH10tn/BMGfAAAAnAGfbWpCfw+aC+2CC6YRBolkExa6DgxAZrytkKrtIjSYG88RABdR0ns+NfhbzOK7OmQ1gvsCloGqzhN9GGA062h3vczQyoGKWUwgbcK1eU0mXZ0p7kS3xwoYNHCDJDGAcbVROkQ3mGSU5PMwH8O1XZaF/UabQbn1vBOiNc3RAaHzUG2xwFgbeh8RfSush4hJmr5ZltKn6PTj4kCC7wAAAMpBm3FJqEFsmUwIb//+p4QAAAMAId03sEPzyXj9wOotvACMNCm7Kzf+xbVwvlS39F2fa2hOufKkX0kTYKmzOnHfXMcdEsp3rB8PzlbYdIZ8iS8b5MZXXgUmjg9K/fKACbbpR/BgSeWBITVPd+O7dD+jVN8YyYMjuzjKNGgGwXaTTmsAuokA70akhwGfVtZXdjIfZE5hfJP4BKCcFsQRjeSUKFTl8FLAjCfVVUn9Eo9uF1yu7LPJaVkeU2M5plbfl2tLGyAMqZx0dGoNAAAAqEGfj0UVLCv/DX2Dk6F+uc7DCYQ7kyXUu9CHEDsGt94OA7zkhUW9K27AAXpFxVh34+uP6OyJPE4wHz8i2Ntc0ozywBM8vEfHBXlGoWukPpv5BERx6W3k6d1ITSnETa2JnlZz/e2NpkcjMoyxZQ9PjmJjsjJVwRdqvvloG8J3oIcaulM2favn3p8XHr3a0u/tGq6TgmPWSRYk4lFzw8QFvTC3TFoKaECbgAAAAJABn7BqQn8PmgvtggumEQaJZBMWug4MQGa8rLDDE3EyK/CABYJxSUNO6sK6Fs1dDgGqTSmdrnpFk6SG2sYtTedS1LNHwCca0ZbGdinVed94A5k2EPHq9nG5WEWiCKHojg74J2qw6dNN+UBjp+4vjg1p8iB7jh2aPwlOBt5N13sjzFuI9FspLyv0hWGGm1rQbcAAAADwQZu1SahBbJlMCG///qeEAAADACHdN7UWPUjQ+Tibfid1tOhHBhgBqyuxXEBTQIBqI5S+6RXFU9RPH8FUUGN42rvgqEBdBJ3ecivM9rHexr3RIr8rw98FU8Kut8jc/7KGMeZ5Y8Mo+tk1mLXRvVrJdOSf+Z+JpcOeUjPgiK3rwi2w1HtmNumeBFaYQ4AC+TtszN0dw5cRo1o+UBvF3n7Cb/iknUWcN/zqjM7rbBgtLuVduDVg+EHKN1hj1hMC2M0YH7hsAOKOsgjeGGvSxGClcKc5ypNEObJf9NAk7deUDcs24tkWDjnpN38SE/QmTRTRAAAAwUGf00UVLCv/DX2Dk6F+uc7DCYQ7kyXUu9CHEDsGt94OAahM22cAF8jWqCeHbMcDuaPIPniUty91xl6K8UoojT1BWQuVBD6cdmwAQkQGplQDpIN74iLgTl/jl0ci/j9b1W8JizfgCN78Ayz8XpJ2Tn8p2Tljmd7xRRDvG1W8I7AC6MWieVavO+X7MZr8LN824IvA3WLI/QF39gHb1qffTpU3cKPjNLnWdlTzmHPhfYcrvE7vV1jXFgiXJA/zoGgiA6oAAACBAZ/ydEJ/D33D7YIKk/TeAWj+evodplEQLYxbbE4XEAF1DeSkYv12lWfVgojstPdf9kEm9oqpOjLxQWDCN0igdkxagjM3ag670MVvgrGzM/hIagmDiclJh37T7kS3K949vmi0C+cHwFB3sbC70Z4sNuFKllWiY9f8Pk8u3A11iCZgAAAAkgGf9GpCfw+aC+2CC6YRBolkExa6DgxAZrytg/YLAC+8sdvkiuYP5V/0GsV1s3cV3UnlwS/uVankdXtD4qkfGheIRoCaToFU7t/zv+LHkQXLT2RknU9rFowNKqCqBv2axDuPiMlRh+n3k9v4XsVCKHMfXbB6B51cxhp10Tv1OApRRktmQaSrhXpvvQO89V3OIIWBAAABAEGb+UmoQWyZTAhv//6nhAAAAwANLSzMUADQdHuY9/QGzechW16auTZyyBiJwtr2r95I+tO3vPrXGj4NWMJdtrD62d77P0sXfDiFk7WNEy+8jjyw+nPtNPjEsZbSXez1iXTBmJAuCVede3Ffx9q5pIWygdXR/ELcDHj4HCr2E33AsMncrisSPrFS37so+EKlDy2W3z6/wb3SlyPJkKGeElaviFsulLQXbmmkgqReYTw8saqcGRlFvmjksH3X4TE4oDD8KvDBxfs9OeoDPT5UINqGbEUsg+GVtgbkUbSqi4bSaEwlguwRKHTI8b8CZ8rLW6S4iwNV5mTs7fXWb7/UUaAAAACgQZ4XRRUsK/8NfYOToX65zsMJhDuTJdS70IcQOwa33g4BqGqz8uYgAnbj4D0EVypUEIrL0JIJ9U+wi2lmEsy8hn8e6sfFfzGaDCh0mGW745LfsqsOY0AVDewHPbI6/D9Ry5iMGq4YMmWe9BpE/AlpDgvrLMwzqbzeSOeBXEOO9AT0Af5EN4opygHRm9odc50FUMJCzjPUPN28MIlnCZ0EXQAAAJYBnjZ0Qn8PfcPtggqT9N4BaP56+h2mURAti4wzzcDj0QIAjVU8SLABKGdLVqBE+F+9niGQxybTPGMigvs8lw6OvOfAk8hXJBd1IYhGQuO1EXkAFqmgzZQFEYxmSL/dM0x7FD+qqk2e2V1T6jqBvJ1N49rsCxh6mebozjC175ueZ8xv6wXtGa3TpTlr85CBYLFGz3EMEfEAAAB2AZ44akJ/D5oL7YILphEGiWQTFroODEBmvKykPJnABdBRULrJLcIJ6XgM6RwblRc//fO17Gk12BTIkKEDUb1251DbVT86nd7sqOCkEqOqc9rkRHSimrtfCa/U+oZaOBgJeamXNP8iJr5IE+FWDejYxZEA+VIBdwAAAVxBmj1JqEFsmUwIb//+p4QAAAMADiEIuAFdQ8Q2J0FfZGJwOuzdHbyncQf6PARRfl1D3mYi5v8HJPCGB2OP+nlZya4ynYOafE14GicTEZEbiASYmbpld/jZ1DiYVp+JXuUJ+57jUQ6apAXdNk6DKbRPuch+ztpXVIUQYFASlsDgCnu3zt55zGKR96WeoOasKinQzwfr8VtMtEdT5YusvOGk6uBVeN7f/PLMFHkNEoKY8PkLU0zS/D177t3Ih6x5K7Dy7Dznm1f1UlPmA2vRlMLbT9w6pUd+tNQe1pgX7yNJ3GdEVwF+AHXGQADTxC3wEeHGeJTu74QUl/udNpIplDSkDF5dpdfxbUBQ3XGHzNdmewmtS0xi+ab/4lgzWVVGNEHDFXG/FMBJFF6uwYXgb9tlOwx1UoheMWn7uwjSZMbxzYJbCg3HF0rGY/XhNMcPf4t+Rb1JBn7hOXOLS8EAAADZQZ5bRRUsK/8NfYOToX65zsMJhDuTJdS70IcQOwa33g4BqEv9ZToAScPO983WGN7nD+VAzLWl20QFMJZs7Ssy+CMKYG6UCyVcJEy1yGkuS/sl/ZejxD9fOAWFbkHbE1h85gQcCXZKT8zcIzWjwU6hpfc2fti2QEUgpnDY8iBl5/ZBXSe87JFT2rSFdZbPAhbHCm6Jt3sLv3v1WlXH/CoKEEhAjI7x5weUTiBtPgCcr2BGrjMmnGkN6mP30KAZIjMvx8Grrfrt9tEMa3i5hT+NAXR69ws5pXCkgAAAAJQBnnp0Qn8PfcPtggqT9N4BaP56+h2mURAti4wzzcHJ8PauAFgJgg7eoutCUXlbIIADKAUm0/0Af6HGPkBQVDupjxYW6aDjVKaeOJ06+RY1KKnrejN0NIZ0oNtF15/5rVH+1aeLN/iL1KmHaog+i/DehwXR6x8Gqx2LY5520RoabqdkMbLNj32yi+AhTlb13fZAZg6pAAAAjAGefGpCfw+aC+2CC6YRBolkExa6DgxAZrysp7hV/4ABYJ7Z3NFNuu/L0bxdYNPFgvT7AR4jtkka8U0FElJLJ/WCrxGdYKffovRS4F4llcfpdonOvrrnF0gG5fYlwYoDuRe1unCPBwCtoz3IUsEIwyk8vQU9YRRLMAhsjEfW/1TQ+f4dwhS/C6v1DwGfAAABREGaYUmoQWyZTAhv//6nhAAAAwAh3yNgm/ENusAghQ9ojCAEGc2O5OLk1Nu4OrGuLqDqepZPvSf7rGJKAbJek0Mrk9vjo0faq8KqOMHmdu/LpBYVyRMLMQSYJFlanJ9la3xTkdFbQlaBHkpyvc05+ID8f6/c+EeU9OlS/+USGPGle28b80MERaDLTQciIOEt5W1+2VSJCZqGp1Tw+Eiid9I/wVqeqlDb4y9cjL6nWqtqv5vX8beUl7CZXoG1CDVBUpz37IY0RVvAAneMZkZwoqylMb0WGBGDCXYxz6O0DYgRtGv4buVKr7qqQhIRtEqYnQfpQe4i0xg7xlP4ZCgfHLhK9e3SF2HLB75r4EDWXHY2BC35o0Rxnr/E9tUGoMRioNh73b2SWgI201W1vmA0q0KnsTQRZYXTPXniEBTSB0i2HDaxsAAAAMBBnp9FFSwr/w19g5OhfrnOwwmEO5Ml1LvQhxA7BrfeDgGoStTRAjLrt2AA/E+NVvYJVOJfGcwhaEXrjLpc7ExdnjOi0QGG/ZmXKRsSytTdhIJlXArnqqmpSTGUGXqxWN2/U3iXUFxoptXwbM0n8HM/JW7WPbzmC1nEZ9cEKCbcYh2AEtXxBtl9vdoy1g1K5DVD+E5M5x7Vkk4WvpPdWeTqdLi+soanoBsUr8q9COBuKDEOfOez3WARpduiLVfQfMAAAACeAZ6+dEJ/D33D7YIKk/TeAWj+evodplEQLYwPwBAHJ7EUNdJID+XzXlagjFFAvfpWQWKsQrmu9CxW8HoY3gtW+eQUC8y4Wy7+jUX/H49gt7zniKFo7N1rlRUjx9ntQCtFcp96/6pqGizuxRKJbPbT/aNmRLb+yKO0qASLtMheDdvfqgwTND1kkQ8o9GXops5kvo+AHsDIXauFiBIWAk8AAAChAZ6gakJ/D5oL7YILphEGiWQTFroODEBmvK2CBrgAM1SizIdg5wHCK8/ZfOGdCmKal1yrYkAXjeQOK2vw7V9W9C6XwDdO0If068+etcvRqHn/3+majir0+l8EV2kn5o/lNvypW1r1vOMgE5haDe9jaCZ4Y0P/D6acEkekyNDl8HRbQEQBidAkp305Pa42D/ee01zFuUbqVUWdioLEHCXMEzAAAAEOQZqlSahBbJlMCG///qeEAAADACPfoYUI43upm+JD2JnTzflhBiEsV1IL2ywq7+J2e31JPS6hgF28kgX8rgWl2/6RcRD7dJGxU/hQhxz68t1yv4j3VTMjMSKtNiV1n2cg4fjLZoIF35AzIFXCDNhI3OAwMeg5gmt69GohzFrte5RTMASPypvu2ccfRamb9jmxPax/kOIF13q8ZeJqUPcuM9/piIrqTaH42t401XGKcv9OXAX0p8/QTxOM+a1TD9UKS37AyY0OuIZMhuI6AIZH53A2CASjxBLKCD0xeHJ84giU99RhMC2dxQhiGAD/har73JG9zJQfcWDNajJEBnJ15uhy0SzaVN5Bnw9WUAhhAAAAy0Gew0UVLCv/DX2Dk6F+uc7DCYQ7kyXUu9CHEDsGt94OA7q4gUAA05Y5V1Cpvst51q5u4nssAf1wiwXzInXb87Ep7tM19ydB9CsVwjK4dOnih3kOavJ+GWcqNUTXnY5B8QBKwEc85i+IDnLmPUTTiYIQf1S2ThKdlQdcvGSkaqnZ1rRq83qraOA4e9jdMP+xCJjQd7klm0k2Od7n3kMLOG0EIO1q9vpZNVM6BXOMGKpOP7OjuL1lNLE7Vh/FhhWONm2r5MinSSE94D5gAAAArgGe4nRCfw99w+2CCpP03gFo/nr6HaZREC2bf9OQC1nTa2IeFo4P4W4sqwcrIo+YhmfHF/7DUIKd41cQ3EpmuMuIBCt/bqRmiper9wIztfTEg3WREzrwaVRnd8TihpFSFxOKTwLEvg0mgLvjshTBXc6KuF+G+1fW97rydVxvOdh6iCPlRsP7ru2BaP57JXgpBYDKmApUo9ybJYhuaHYuzQwe4ZMzZ292gdD/swB6QQAAAG8BnuRqQn8PmgvtggumEQaJZBMWug4MQGa8rZCFIiu9oGPAGn8hpjTf1iOa5dKMaMHc7jZnNuNOCoVWyqAPYek5+o/yUv/UdQpyZPzxdDAPFcjAnkYv7594OSVqT+cTUI6R4weIlabeqfA/fSSmAl8AAAEYQZrpSahBbJlMCG///qeEAAADACW0wZIAHM+w15eLoB8xHh8UZGkTDLcIpHRZ6vPdJxC4N68dZZ17CTI39Zl63IntLR4Mse324S3Rb9hqZBbNaj+rb0H4RKJL8yNHrw47cUFfix6hBvsgSzGvjDzxNiHFdLlYT8BK/oXYo/ljBavBY0YLZdYxL0Ezj1I2gcs/gsMV4m+PTNCQvYgT/epAKtIbPTelU0M84fFp3Cfdnn2MaVS9psoXTbrhxhjVJij+JJwciam1t+hVTTRz4rWK5jcc0rtD/Z4uyZEFqofZIONWK3EtEqkpm5GEmgd3oCx1l9WFVp4gqfOS78isLtkoh0YJjXWOpvscw7N76J4nI5HAvQ58wpSRUQAAAF1BnwdFFSwr/w19g5OhfrnOwwmEO5Ml1LvQhxA7BrfeDgO8LKf5PqKO7GUNnITPJrRimpu3qcg3bzgBYe6xXmshSfDY29rpnVULDppcoX/FXVqMzXC3kt4yQYsBAZUAAABmAZ8mdEJ/D33D7YIKk/TeAWj+evodplEQLZxXFcZ0Gd4AOV2xv2g8xtw83vheT2HnstkkfiTp/kiWuSxEp0rcQ9W8tlrotU4hwvOa8QgG0qQIZG9v4BboTBb6EXU7+9vAu0i90IuAAAAANgGfKGpCfw+aC+2CC6YRBolkExa6DgxAZryskvhNvAAlKwGcTK3E7wgnRSMza30tfCTNj4AooAAAALhBmy1JqEFsmUwIb//+p4QAAAMADS2KgdQDSuOS4an6wb45VK7F08/ZtGljDtZsuA6G4Al0ikxcnKAoVq7cvMrpGS8SJRAAYmqo2wH85YHiK7VK4GUxFIWZubwMtOBFh42KN7gKzsVi/rpo2aYhfwA22Bv8EYyJgZt3EMgTWgYjlYJQdWxT2EKsbHOolv4jzytiSDjRDYbtjyWpR7Mv5uv86UuXLfPzOebWoifbsGk9o/Y56PGfURoRAAAAQkGfS0UVLCv/DX2Dk6F+uc7DCYQ7kyXUu9CHEDsGt94OAag9thRpXKPiJrThgMFzc5Ov7L6fL2E05AZ+V1lNERoGBAAAACkBn2p0Qn8PfcPtggqT9N4BaP56+h2mURAtivt+Ope4LSBSSXYOTGBswAAAACUBn2xqQn8PmgvtggumEQaJZBMWug4MQGa8rBZ0RJUJtaLHCAKDAAAAXUGbcUmoQWyZTAhv//6nhAAAAwANOd/0swF46SQAaGRTvKDgjv29XoCLMgZNx0zHQjMwTBDNzLMysEfX6+Qp6YMedlw7R82hsHmbanTBcQHwvVTIVOweC51XG5mJUQAAADVBn49FFSwr/w19g5OhfrnOwwmEO5Ml1LvQhxA7BrfeDgGoMmR9NmoSpMVaYJxA2QbwBSgBqQAAACYBn650Qn8PfcPtggqT9N4BaP56+h2mURAtgZIYMO3yS9lkIgDFgAAAACQBn7BqQn8PmgvtggumEQaJZBMWug4MQGa8rDt1Ecir0it4CpgAAAA0QZu1SahBbJlMCG///qeEAAADAAT3fDoAOlHyoOTgNe/Ko92J4NX3tfXs0MWk3gJVZbaB4QAAADVBn9NFFSwr/w19g5OhfrnOwwmEO5Ml1LvQhxA7BrfeDgGoMmRbC20fGFMrEy02prfEAIAesAAAACIBn/J0Qn8PfcPtggqT9N4BaP56+h2mURAtgVQeiskI1AHHAAAAIwGf9GpCfw+aC+2CC6YRBolkExa6DgxAZrysEtFmdZZ9kA45AAAAGEGb+UmoQWyZTAhv//6nhAAAAwAAAwDUgAAAADFBnhdFFSwr/w19g5OhfrnOwwmEO5Ml1LvQhxA7BrfeDgGoMmQwNAWacRXGIMCWADjhAAAAIgGeNnRCfw99w+2CCpP03gFo/nr6HaZREC2BVB6KyQjUAccAAAAjAZ44akJ/D5oL7YILphEGiWQTFroODEBmvKwS0WZ1ln2QDjgAAAiBZYiCAAQ//veBvzLLZD+qyXH5530srM885DxyXYmuuNAAAAMAAAMAAUeHteuN3YNbSdAAABrAA6QfwXkYMdAj4+RwjoHARIvALcV9g4FbSAAfgmzVxBsxAoi9Zlo0nrmVK02161KXy0koRiEwitdr1slPug3VDvJG8EpeLzzdJfBhoox9F704wqWgv2k52Wjmv6G0l1/StUKF7MWoh2jGq9hC/HkJp/1Br05ETQaBGjmeKwVTFr8ohK1ofbEt8tx1sDAaIK8YQTqCQSxlX5KyxeNeLZmf5gRCmymkqErlLQhMFTKSg1cSs+pO2QWARor9HfrnYgGCs9J9+yt3z9PPRk7TJYvVxQ4rvasPtOZzwC9kdHgN6GTa6Lz9fRSbti7Ji9RCXj7ESUNGQg9pDPE+Vntw22Kzjif30oOzqZaPjiWn2VHVBbe44F/cjPPQ1VvSMBDX6WAgeAESpYS4RK2cQxQH5F8UTPw+G5Qh4BfI18TO9W/myCiqv+TrPFF+a0GcoUh/04zFtfaNI1YleSo/1Xwsm7wooJGc9/lFu+FpAQRESi4TWM1nRqWoP5AF9bdh432pdX/Nz95A5D8AcZAUV8I/AuMDAbO4MHUQWN3T6CINbmtCHCbWcmVgx2aWMMTCQc/Bwag8zNBKoUvYWgTDLh2ehAI/06M4Qm2rGMuNqNjiuwCprAvMjIubas28OgG+yLtErnpekmu51zkMcjD7U/drajRdMtJYgrDo4IAdLmOsQjg6d+2SXV3Hsm0jfn5mcOwZO4WrTiFGhFHnT+joPv5+pIKdK6XFundMvC3XtV4Se1Vp5n/Jeb3xLuVSpm1xrWx+nxgDKuAUji/1LvL87g5ewCoFsqwuaYitQvVtD98+5W6MuQeVJajjrhesGT9wE0xqlsnZFuNaRukY9ZZEeP5p2aDSY8f1Sh95vzqNIDsmzidOO17SeyXgp2j/ZQ88q9DKFb7ImeJR69dsq68sCaGOByvyCvlP9GJ1qv0YbJMXQ1khnjb5bDZ5nmWUYVBqwoox5Tn1Uzwg3LxPSvTt5Tivj7iI7a4W1oZl7m8+cC2F1tzFTHH9U6JUx3QVdf1GX+Bc4VWuyrStXrRL9AZ8jhawFPscKpSvVqV757+T/EiXL81TzLnAPpVtL72ixVk+KkhIbfE5IkUVGQ30aeVtqmLNymxdDByMo0hXaXXBleBRJWqUo74ZOL68lio7/mR0bGrTC2V+tNLMJ55LxaR37bq3Uf+OuggaLnTqi0fEVNhDqlNAk8GiJfCYabUyGRTHqNNp5Ie+kPhoC1aW8mbjPv0dyHuskur1HwkU9cmtIi4vL4YbuVNddsiFGq7Eb1Plvs4vvZW9vK7d/V+50mcpGvBx3ukcxRoTA8RnBUzBRepjvqk/TelhOMPI65gjTHpOypEpeqKnHX8CwUBo7aYZG3+iSh7OuE/+xiagWfeFZdKYlOgbA4659iNcyLFBug/B6SyWVT5bygYH6gDVtrFY+uiHN3r4FXFjB/wfG+yVP5wFcOWBeF6olmVA70TwuiR/QD66EsS8TmT6xXB98sM2IYgGvxcwpnyyTgiYjXO0R2og1EL5DbUKnpYO5Cns8SXTELU5spD/2Ps8LOqc5AKDJkcs/3g7SV0zEl4WFczuS208S8cjkv03g9temgPwsiFj2JEvTVLUvU32aha3howytmwZuy0W97byH95QlJeBDUqQnPi3OSOToKK4oPbPsNTgBBC57wzvtsuU0H5DHGDWRw2QlayX0OIY5rWTWGiXpaGC0PDoHOH2A+Hp40BQjU+L8E+bQGhXtWdNVz/thkLb62qHkLjwOH47asDgRHE5SaU3QlUsRsnwsru8MglFk9P4mCQl9Vl+uF69uN8zejytYHH80FH+cIigDIm6/uBsoDgIIBDzuelGb9y8ivpV0su/AZ6gknYwzVggAqrn2dAmIpojvYOBLVH0cAFiPqmA3p4RfP0FP8JG9y8jhOpO0s5YMncU8QPwlFEsHmDtIyYCRYmxc2m7/wXFlnBFpmzLPrOM3/+2iHdstapHlm3D+0PI+29JfB0toz2elBA8mc8B9zoCu7wt2XtCIv0h/TVO0aLnxihJ+NGULUHdEM45+mPpPwbb255E7LQctHYKRw+xvh8D77kWuhH0YmpWdZOxJhPwpObSaGNZ19fs49hPFOtx9Jm9cxIq1+ZXayEcZJWLbyGq0RhoCzFbBFxVMTUUMeuixm2hNasrhFOc8RPJ7dBuNQLwYC69Sd8W628YlYCh9dKPNNVHIo4R62m0Asy2BKH5p9bSNXECc75TXyYw8AGVeDHOdFfXaEKZfjzxqOKM4TnTLBtaB3vn8ZPRu/YAPvMjNUT0qAAtb/UKh5SGhxnZtWnnZuw+scy4UrnwMbhPzYvlu1f4G6X0fXCDa7cSR6JzCyiu7FIQZi1TwNIuBSKFBwCGj97J65/x/7ZZz6B6WUaHPqLJbwzZMuCBGHps6OfzRQYg0Nq94ooyHND07YM7maTw/1q/lw2hSmQ+XB4buKYFmha0go0k/QEL8z+Ykq+9W185UYBHxxYFFM1MBHtoEa4GX6uvNd4PRs++sTrLjLLg7L6/YcGQ5npDWUEdlTaeu1vFj3tU3rzAU+8RlIYiYWAPrNKM/gr4o7BNb31FRxOrEvX6kJgG4AYA8RTLTq6ttoMjt0dLjnxq/uFAxqdB/tcPskLIrBBvxKkZq8IGij8sRHoqCl0Lmkvxvs3+97fFhmLcMyKVKJpIfeh7hybo4e8KSkbZhD89KuKhTA9IXhOpwzTRqzpxaHDsrUuRfDxEWjrpI6McxHAzUYAAAD3SUJ+0X0sDiGvMtpDC7YbMUXJsMRgIyyO2ZV0NmrWMFK9Cryowi+WVR2/Lcx1UYlPLCEH3Nd0/dtkMAAAIRgF4gYsAAAA2QZokbEN//qeEAAADAAuhBbYAKg5lo/HJaKjdyywA9AU938jTvIvJW8zo39ig2U0wOUWKJkW4AAAAFkGeQniE/wAAAwABXpWptj4BCJTwKYEAAAATAZ5hdEJ/AAADAAEtdvnQa3u4qQAAABABnmNqQn8AAAMAAWK37yHgAAAAGEGaaEmoQWiZTAhv//6nhAAAAwAAAwDUgAAAABJBnoZFESwr/wAAAwABDgzHyHkAAAAQAZ6ldEJ/AAADAAFiRjQqYAAAABABnqdqQn8AAAMAAWK37yHhAAAAF0GarEmoQWyZTAhn//6eEAAAAwAAAwM+AAAAEkGeykUVLCv/AAADAAEODMfIeQAAABABnul0Qn8AAAMAAWJGNCphAAAAEAGe62pCfwAAAwABYrfvIeEAAAAXQZrwSahBbJlMCF///oywAAADAAADA0MAAAASQZ8ORRUsK/8AAAMAAQ4Mx8h4AAAAEAGfLXRCfwAAAwABYkY0KmAAAAAQAZ8vakJ/AAADAAFit+8h4QAAABhBmzJJqEFsmUwUTCf//fEAAAMAAAMAHpAAAAAQAZ9RakJ/AAADAAFi836MqAAAD4Jtb292AAAAbG12aGQAAAAAAAAAAAAAAAAAAAPoAAAjBwABAAABAAAAAAAAAAAAAAAAAQAAAAAAAAAAAAAAAAAAAAEAAAAAAAAAAAAAAAAAAEAAAAAAAAAAAAAAAAAAAAAAAAAAAAAAAAAAAAAAAAACAAAOrHRyYWsAAABcdGtoZAAAAAMAAAAAAAAAAAAAAAEAAAAAAAAjBwAAAAAAAAAAAAAAAAAAAAAAAQAAAAAAAAAAAAAAAAAAAAEAAAAAAAAAAAAAAAAAAEAAAAACYAAAAZAAAAAAACRlZHRzAAAAHGVsc3QAAAAAAAAAAQAAIwcAAAQAAAEAAAAADiRtZGlhAAAAIG1kaGQAAAAAAAAAAAAAAAAAADwAAAIaAFXEAAAAAAAtaGRscgAAAAAAAAAAdmlkZQAAAAAAAAAAAAAAAFZpZGVvSGFuZGxlcgAAAA3PbWluZgAAABR2bWhkAAAAAQAAAAAAAAAAAAAAJGRpbmYAAAAcZHJlZgAAAAAAAAABAAAADHVybCAAAAABAAANj3N0YmwAAACXc3RzZAAAAAAAAAABAAAAh2F2YzEAAAAAAAAAAQAAAAAAAAAAAAAAAAAAAAACYAGQAEgAAABIAAAAAAAAAAEAAAAAAAAAAAAAAAAAAAAAAAAAAAAAAAAAAAAAAAAAAAAY//8AAAAxYXZjQwFkAB7/4QAYZ2QAHqzZQJgzoQAAAwABAAADADwPFi2WAQAGaOvjyyLAAAAAGHN0dHMAAAAAAAAAAQAAAQ0AAAIAAAAAGHN0c3MAAAAAAAAAAgAAAAEAAAD7AAAISGN0dHMAAAAAAAABBwAAAAEAAAQAAAAAAQAACgAAAAABAAAEAAAAAAEAAAAAAAAAAQAAAgAAAAABAAAKAAAAAAEAAAQAAAAAAQAAAAAAAAABAAACAAAAAAEAAAoAAAAAAQAABAAAAAABAAAAAAAAAAEAAAIAAAAAAQAACAAAAAACAAACAAAAAAEAAAgAAAAAAgAAAgAAAAABAAAKAAAAAAEAAAQAAAAAAQAAAAAAAAABAAACAAAAAAEAAAYAAAAAAQAAAgAAAAABAAAIAAAAAAIAAAIAAAAAAQAACgAAAAABAAAEAAAAAAEAAAAAAAAAAQAAAgAAAAABAAAKAAAAAAEAAAQAAAAAAQAAAAAAAAABAAACAAAAAAEAAAoAAAAAAQAABAAAAAABAAAAAAAAAAEAAAIAAAAAAQAACgAAAAABAAAEAAAAAAEAAAAAAAAAAQAAAgAAAAABAAAKAAAAAAEAAAQAAAAAAQAAAAAAAAABAAACAAAAAAEAAAoAAAAAAQAABAAAAAABAAAAAAAAAAEAAAIAAAAAAQAACgAAAAABAAAEAAAAAAEAAAAAAAAAAQAAAgAAAAABAAAKAAAAAAEAAAQAAAAAAQAAAAAAAAABAAACAAAAAAEAAAoAAAAAAQAABAAAAAABAAAAAAAAAAEAAAIAAAAAAQAACgAAAAABAAAEAAAAAAEAAAAAAAAAAQAAAgAAAAABAAAEAAAAAAEAAAoAAAAAAQAABAAAAAABAAAAAAAAAAEAAAIAAAAAAQAACgAAAAABAAAEAAAAAAEAAAAAAAAAAQAAAgAAAAABAAAKAAAAAAEAAAQAAAAAAQAAAAAAAAABAAACAAAAAAEAAAoAAAAAAQAABAAAAAABAAAAAAAAAAEAAAIAAAAAAQAACgAAAAABAAAEAAAAAAEAAAAAAAAAAQAAAgAAAAABAAAKAAAAAAEAAAQAAAAAAQAAAAAAAAABAAACAAAAAAEAAAoAAAAAAQAABAAAAAABAAAAAAAAAAEAAAIAAAAAAQAACAAAAAACAAACAAAAAAEAAAoAAAAAAQAABAAAAAABAAAAAAAAAAEAAAIAAAAAAQAACAAAAAACAAACAAAAAAEAAAoAAAAAAQAABAAAAAABAAAAAAAAAAEAAAIAAAAAAQAACgAAAAABAAAEAAAAAAEAAAAAAAAAAQAAAgAAAAABAAAKAAAAAAEAAAQAAAAAAQAAAAAAAAABAAACAAAAAAEAAAoAAAAAAQAABAAAAAABAAAAAAAAAAEAAAIAAAAAAQAACgAAAAABAAAEAAAAAAEAAAAAAAAAAQAAAgAAAAABAAAKAAAAAAEAAAQAAAAAAQAAAAAAAAABAAACAAAAAAEAAAoAAAAAAQAABAAAAAABAAAAAAAAAAEAAAIAAAAAAQAACgAAAAABAAAEAAAAAAEAAAAAAAAAAQAAAgAAAAABAAAKAAAAAAEAAAQAAAAAAQAAAAAAAAABAAACAAAAAAEAAAoAAAAAAQAABAAAAAABAAAAAAAAAAEAAAIAAAAAAQAACgAAAAABAAAEAAAAAAEAAAAAAAAAAQAAAgAAAAABAAAKAAAAAAEAAAQAAAAAAQAAAAAAAAABAAACAAAAAAEAAAoAAAAAAQAABAAAAAABAAAAAAAAAAEAAAIAAAAAAQAACgAAAAABAAAEAAAAAAEAAAAAAAAAAQAAAgAAAAABAAAKAAAAAAEAAAQAAAAAAQAAAAAAAAABAAACAAAAAAEAAAoAAAAAAQAABAAAAAABAAAAAAAAAAEAAAIAAAAAAQAACgAAAAABAAAEAAAAAAEAAAAAAAAAAQAAAgAAAAABAAAKAAAAAAEAAAQAAAAAAQAAAAAAAAABAAACAAAAAAEAAAoAAAAAAQAABAAAAAABAAAAAAAAAAEAAAIAAAAAAQAACgAAAAABAAAEAAAAAAEAAAAAAAAAAQAAAgAAAAABAAAKAAAAAAEAAAQAAAAAAQAAAAAAAAABAAACAAAAAAEAAAoAAAAAAQAABAAAAAABAAAAAAAAAAEAAAIAAAAAAQAACgAAAAABAAAEAAAAAAEAAAAAAAAAAQAAAgAAAAABAAAKAAAAAAEAAAQAAAAAAQAAAAAAAAABAAACAAAAAAEAAAoAAAAAAQAABAAAAAABAAAAAAAAAAEAAAIAAAAAAQAACAAAAAACAAACAAAAAAEAAAoAAAAAAQAABAAAAAABAAAAAAAAAAEAAAIAAAAAAQAACgAAAAABAAAEAAAAAAEAAAAAAAAAAQAAAgAAAAABAAAKAAAAAAEAAAQAAAAAAQAAAAAAAAABAAACAAAAAAEAAAoAAAAAAQAABAAAAAABAAAAAAAAAAEAAAIAAAAAAQAACgAAAAABAAAEAAAAAAEAAAAAAAAAAQAAAgAAAAABAAAKAAAAAAEAAAQAAAAAAQAAAAAAAAABAAACAAAAAAEAAAoAAAAAAQAABAAAAAABAAAAAAAAAAEAAAIAAAAAAQAACgAAAAABAAAEAAAAAAEAAAAAAAAAAQAAAgAAAAABAAAKAAAAAAEAAAQAAAAAAQAAAAAAAAABAAACAAAAAAEAAAoAAAAAAQAABAAAAAABAAAAAAAAAAEAAAIAAAAAAQAABAAAAAABAAAKAAAAAAEAAAQAAAAAAQAAAAAAAAABAAACAAAAAAEAAAoAAAAAAQAABAAAAAABAAAAAAAAAAEAAAIAAAAAAQAACgAAAAABAAAEAAAAAAEAAAAAAAAAAQAAAgAAAAABAAAKAAAAAAEAAAQAAAAAAQAAAAAAAAABAAACAAAAAAEAAAYAAAAAAQAAAgAAAAAcc3RzYwAAAAAAAAABAAAAAQAAAQ0AAAABAAAESHN0c3oAAAAAAAAAAAAAAQ0AAAnZAAABZgAAAGMAAABPAAAAOAAAANQAAABzAAAANwAAAFkAAAEEAAAAjQAAAEgAAABmAAABGAAAAGoAAAB8AAAA1wAAAHYAAABgAAAAnwAAAGcAAABRAAAASwAAASYAAAB0AAABXwAAAKwAAADAAAABGwAAAJEAAAC2AAAAyQAAAVsAAADFAAAAjAAAAJkAAAEFAAAAwgAAALgAAACTAAABBgAAAKwAAACSAAAAcgAAANQAAACnAAAAowAAAKcAAAD3AAAApAAAAKcAAACfAAAA2AAAALkAAACWAAAAnQAAARUAAAC5AAAAkAAAAI8AAAEpAAAA0gAAAKgAAACyAAAA5AAAAJ4AAAB7AAAAfAAAAOUAAAD/AAAAxwAAAJAAAACdAAABMgAAARQAAACaAAAAzQAAAO4AAADdAAAA2gAAAMAAAAE1AAAA0gAAANcAAADeAAABKAAAAL0AAADNAAAAsAAAAT0AAADVAAAAuAAAAKcAAAEBAAAA4AAAALMAAACvAAAA7QAAAKMAAACMAAABJQAAAKQAAACXAAAAlwAAASAAAACTAAAAmAAAATEAAACyAAAAsQAAAJYAAAFRAAAAqAAAAJ4AAADCAAABNQAAAOwAAACpAAAAxAAAAVcAAADNAAAAqgAAALEAAAEZAAAAjQAAALQAAACmAAAA7wAAAJMAAACcAAAAcgAAAQoAAABwAAAAYQAAAFEAAADZAAAAegAAAF4AAABsAAAAzAAAAHwAAABgAAAAdwAAAP4AAACiAAAAXAAAAHsAAAFbAAAAswAAAIoAAACXAAABJQAAAKYAAACjAAAApAAAAP8AAACsAAAAdgAAAH0AAADxAAAAsAAAAIkAAACHAAABIwAAAK4AAACSAAAAhgAAAQIAAADIAAAAlgAAAIkAAAELAAAArQAAAKEAAACjAAABAwAAAIwAAACDAAAAWQAAAUAAAAChAAAAegAAAJ0AAAFDAAAAyAAAAJQAAAB+AAABCgAAALMAAACMAAAAgwAAAQUAAAC6AAAAiQAAAJAAAADLAAAAsQAAAIYAAACQAAAAzAAAALoAAACQAAAAnQAAASQAAACaAAAAiwAAAKAAAADOAAAArAAAAJQAAAD0AAAAxQAAAIUAAACWAAABBAAAAKQAAACaAAAAegAAAWAAAADdAAAAmAAAAJAAAAFIAAAAxAAAAKIAAAClAAABEgAAAM8AAACyAAAAcwAAARwAAABhAAAAagAAADoAAAC8AAAARgAAAC0AAAApAAAAYQAAADkAAAAqAAAAKAAAADgAAAA5AAAAJgAAACcAAAAcAAAANQAAACYAAAAnAAAIhQAAADoAAAAaAAAAFwAAABQAAAAcAAAAFgAAABQAAAAUAAAAGwAAABYAAAAUAAAAFAAAABsAAAAWAAAAFAAAABQAAAAcAAAAFAAAABRzdGNvAAAAAAAAAAEAAAAwAAAAYnVkdGEAAABabWV0YQAAAAAAAAAhaGRscgAAAAAAAAAAbWRpcmFwcGwAAAAAAAAAAAAAAAAtaWxzdAAAACWpdG9vAAAAHWRhdGEAAAABAAAAAExhdmY1OC4yOS4xMDA=\" type=\"video/mp4\" />\n",
              "             </video>"
            ]
          },
          "metadata": {}
        }
      ],
      "source": [
        "import glob\n",
        "import io\n",
        "import base64\n",
        "import imageio\n",
        "from IPython.display import HTML, display\n",
        "from gym.wrappers.monitoring.video_recorder import VideoRecorder\n",
        "\n",
        "def show_video_of_model(agent, env_name):\n",
        "    env = gym.make(env_name, render_mode='rgb_array')\n",
        "    state, _ = env.reset()\n",
        "    done = False\n",
        "    frames = []\n",
        "    while not done:\n",
        "        frame = env.render()\n",
        "        frames.append(frame)\n",
        "        action = agent.act(state)\n",
        "        state, reward, done, _, _ = env.step(action.item())\n",
        "    env.close()\n",
        "    imageio.mimsave('video.mp4', frames, fps=30)\n",
        "\n",
        "show_video_of_model(agent, 'LunarLander-v2')\n",
        "\n",
        "def show_video():\n",
        "    mp4list = glob.glob('*.mp4')\n",
        "    if len(mp4list) > 0:\n",
        "        mp4 = mp4list[0]\n",
        "        video = io.open(mp4, 'r+b').read()\n",
        "        encoded = base64.b64encode(video)\n",
        "        display(HTML(data='''<video alt=\"test\" autoplay\n",
        "                loop controls style=\"height: 400px;\">\n",
        "                <source src=\"data:video/mp4;base64,{0}\" type=\"video/mp4\" />\n",
        "             </video>'''.format(encoded.decode('ascii'))))\n",
        "    else:\n",
        "        print(\"Could not find video\")\n",
        "\n",
        "show_video()"
      ]
    }
  ],
  "metadata": {
    "colab": {
      "provenance": [],
      "include_colab_link": true
    },
    "kernelspec": {
      "display_name": "Python 3",
      "name": "python3"
    },
    "language_info": {
      "name": "python"
    }
  },
  "nbformat": 4,
  "nbformat_minor": 0
}