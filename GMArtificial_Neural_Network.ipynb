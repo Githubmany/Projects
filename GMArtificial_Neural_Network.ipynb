{
  "nbformat": 4,
  "nbformat_minor": 0,
  "metadata": {
    "colab": {
      "provenance": [],
      "include_colab_link": true
    },
    "kernelspec": {
      "name": "python3",
      "display_name": "Python 3"
    }
  },
  "cells": [
    {
      "cell_type": "markdown",
      "metadata": {
        "id": "view-in-github",
        "colab_type": "text"
      },
      "source": [
        "<a href=\"https://colab.research.google.com/github/Githubmany/Projects/blob/master/GMArtificial_Neural_Network.ipynb\" target=\"_parent\"><img src=\"https://colab.research.google.com/assets/colab-badge.svg\" alt=\"Open In Colab\"/></a>"
      ]
    },
    {
      "cell_type": "markdown",
      "metadata": {
        "id": "3cbb7fRy-eyr"
      },
      "source": [
        "# Artificial Neural Network"
      ]
    },
    {
      "cell_type": "markdown",
      "metadata": {
        "id": "8sNDnxE2-pwE"
      },
      "source": [
        "### Importing the libraries"
      ]
    },
    {
      "cell_type": "code",
      "source": [
        "import numpy as np\n",
        "import pandas as pd\n",
        "import tensorflow as tf\n",
        "\n"
      ],
      "metadata": {
        "id": "JXkmvVqyqbM2"
      },
      "execution_count": null,
      "outputs": []
    },
    {
      "cell_type": "code",
      "metadata": {
        "id": "lxChR1Rk-umf"
      },
      "source": [
        "import numpy as np\n",
        "import pandas as pd\n",
        "import tensorflow as tf"
      ],
      "execution_count": 11,
      "outputs": []
    },
    {
      "cell_type": "code",
      "metadata": {
        "id": "uBTqR3nacj0e",
        "colab": {
          "base_uri": "https://localhost:8080/",
          "height": 35
        },
        "outputId": "381b1185-1e59-4973-f5b4-20820384de0e"
      },
      "source": [
        "tf.__version__"
      ],
      "execution_count": 12,
      "outputs": [
        {
          "output_type": "execute_result",
          "data": {
            "text/plain": [
              "'2.15.0'"
            ],
            "application/vnd.google.colaboratory.intrinsic+json": {
              "type": "string"
            }
          },
          "metadata": {},
          "execution_count": 12
        }
      ]
    },
    {
      "cell_type": "markdown",
      "metadata": {
        "id": "AG3FQEch-yuA"
      },
      "source": [
        "## Part 1 - Data Preprocessing"
      ]
    },
    {
      "cell_type": "markdown",
      "metadata": {
        "id": "-4zq8Mza_D9O"
      },
      "source": [
        "### Importing the dataset"
      ]
    },
    {
      "cell_type": "code",
      "source": [
        "dataset = pd.read_excel('Folds5x2_pp.xlsx')\n",
        "X = dataset.iloc[:,:-1].values\n",
        "y = dataset.iloc[:, -1].values\n",
        "print(X)\n",
        "print(y)"
      ],
      "metadata": {
        "colab": {
          "base_uri": "https://localhost:8080/"
        },
        "id": "Yjx4Wmgau2G_",
        "outputId": "32053bee-356e-4158-f739-75a8ed971dc4"
      },
      "execution_count": 13,
      "outputs": [
        {
          "output_type": "stream",
          "name": "stdout",
          "text": [
            "[[  14.96   41.76 1024.07   73.17]\n",
            " [  25.18   62.96 1020.04   59.08]\n",
            " [   5.11   39.4  1012.16   92.14]\n",
            " ...\n",
            " [  31.32   74.33 1012.92   36.48]\n",
            " [  24.48   69.45 1013.86   62.39]\n",
            " [  21.6    62.52 1017.23   67.87]]\n",
            "[463.26 444.37 488.56 ... 429.57 435.74 453.28]\n"
          ]
        }
      ]
    },
    {
      "cell_type": "markdown",
      "metadata": {
        "id": "VC6omXel_Up0"
      },
      "source": [
        "### Splitting the dataset into the Training set and Test set"
      ]
    },
    {
      "cell_type": "markdown",
      "metadata": {
        "id": "_mSLlAT9_eyI"
      },
      "source": [
        "## Part 2 - Building the ANN"
      ]
    },
    {
      "cell_type": "markdown",
      "metadata": {
        "id": "CsBULd_f_wLY"
      },
      "source": [
        "### Initializing the ANN"
      ]
    },
    {
      "cell_type": "code",
      "metadata": {
        "id": "J6Hd97Ls__Nz"
      },
      "source": [
        "ann = tf.keras.models.Sequential()"
      ],
      "execution_count": 15,
      "outputs": []
    },
    {
      "cell_type": "markdown",
      "metadata": {
        "id": "iitAFJS_ABUn"
      },
      "source": [
        "### Adding the input layer and the first hidden layer"
      ]
    },
    {
      "cell_type": "code",
      "metadata": {
        "id": "ksO_Vv40AHix"
      },
      "source": [
        "ann.add(tf.keras.layers.Dense(units=6, activation='relu'))"
      ],
      "execution_count": 16,
      "outputs": []
    },
    {
      "cell_type": "markdown",
      "metadata": {
        "id": "-lb4kK_wAKbs"
      },
      "source": [
        "### Adding the second hidden layer"
      ]
    },
    {
      "cell_type": "code",
      "metadata": {
        "id": "c2357OqEAQOQ"
      },
      "source": [
        "ann.add(tf.keras.layers.Dense(units=6, activation='relu'))"
      ],
      "execution_count": 17,
      "outputs": []
    },
    {
      "cell_type": "markdown",
      "metadata": {
        "id": "jwMOmKb3AdBY"
      },
      "source": [
        "### Adding the output layer"
      ]
    },
    {
      "cell_type": "code",
      "metadata": {
        "id": "YFATpzsUAkLL"
      },
      "source": [
        "ann.add(tf.keras.layers.Dense(units=1))"
      ],
      "execution_count": 19,
      "outputs": []
    },
    {
      "cell_type": "markdown",
      "metadata": {
        "id": "fq7e4fF6A1yy"
      },
      "source": [
        "## Part 3 - Training the ANN"
      ]
    },
    {
      "cell_type": "markdown",
      "metadata": {
        "id": "qDeylAs2An25"
      },
      "source": [
        "### Compiling the ANN"
      ]
    },
    {
      "cell_type": "code",
      "metadata": {
        "id": "pesgbWlCAtB4"
      },
      "source": [
        "ann.compile(optimizer = 'adam', loss = 'mean_squared_error')"
      ],
      "execution_count": 20,
      "outputs": []
    },
    {
      "cell_type": "markdown",
      "metadata": {
        "id": "YjVuiybYOo7r"
      },
      "source": [
        "### Training the ANN model on the Training set"
      ]
    },
    {
      "cell_type": "code",
      "metadata": {
        "id": "c_vV-tiiA5zn",
        "colab": {
          "base_uri": "https://localhost:8080/"
        },
        "outputId": "794b82f0-bcef-4ed3-8688-e9b18ae5bcc2"
      },
      "source": [
        "ann.fit(X_train, y_train, batch_size = 32, epochs = 100)"
      ],
      "execution_count": 21,
      "outputs": [
        {
          "output_type": "stream",
          "name": "stdout",
          "text": [
            "Epoch 1/100\n",
            "240/240 [==============================] - 2s 4ms/step - loss: 222134.6719\n",
            "Epoch 2/100\n",
            "240/240 [==============================] - 1s 4ms/step - loss: 12554.6377\n",
            "Epoch 3/100\n",
            "240/240 [==============================] - 1s 4ms/step - loss: 374.3930\n",
            "Epoch 4/100\n",
            "240/240 [==============================] - 1s 4ms/step - loss: 369.1346\n",
            "Epoch 5/100\n",
            "240/240 [==============================] - 1s 3ms/step - loss: 325.7171\n",
            "Epoch 6/100\n",
            "240/240 [==============================] - 1s 2ms/step - loss: 268.2850\n",
            "Epoch 7/100\n",
            "240/240 [==============================] - 1s 2ms/step - loss: 258.4122\n",
            "Epoch 8/100\n",
            "240/240 [==============================] - 1s 2ms/step - loss: 248.0964\n",
            "Epoch 9/100\n",
            "240/240 [==============================] - 1s 2ms/step - loss: 233.7659\n",
            "Epoch 10/100\n",
            "240/240 [==============================] - 1s 2ms/step - loss: 216.4900\n",
            "Epoch 11/100\n",
            "240/240 [==============================] - 0s 2ms/step - loss: 191.0487\n",
            "Epoch 12/100\n",
            "240/240 [==============================] - 0s 2ms/step - loss: 157.3011\n",
            "Epoch 13/100\n",
            "240/240 [==============================] - 0s 2ms/step - loss: 114.8629\n",
            "Epoch 14/100\n",
            "240/240 [==============================] - 0s 2ms/step - loss: 74.8055\n",
            "Epoch 15/100\n",
            "240/240 [==============================] - 0s 2ms/step - loss: 49.0941\n",
            "Epoch 16/100\n",
            "240/240 [==============================] - 0s 2ms/step - loss: 39.9361\n",
            "Epoch 17/100\n",
            "240/240 [==============================] - 1s 2ms/step - loss: 36.7252\n",
            "Epoch 18/100\n",
            "240/240 [==============================] - 0s 2ms/step - loss: 35.3236\n",
            "Epoch 19/100\n",
            "240/240 [==============================] - 0s 2ms/step - loss: 35.0802\n",
            "Epoch 20/100\n",
            "240/240 [==============================] - 1s 2ms/step - loss: 34.6650\n",
            "Epoch 21/100\n",
            "240/240 [==============================] - 1s 2ms/step - loss: 33.9626\n",
            "Epoch 22/100\n",
            "240/240 [==============================] - 1s 3ms/step - loss: 32.8779\n",
            "Epoch 23/100\n",
            "240/240 [==============================] - 1s 3ms/step - loss: 33.1749\n",
            "Epoch 24/100\n",
            "240/240 [==============================] - 1s 3ms/step - loss: 32.4138\n",
            "Epoch 25/100\n",
            "240/240 [==============================] - 1s 3ms/step - loss: 31.8008\n",
            "Epoch 26/100\n",
            "240/240 [==============================] - 0s 2ms/step - loss: 32.2320\n",
            "Epoch 27/100\n",
            "240/240 [==============================] - 1s 2ms/step - loss: 30.4371\n",
            "Epoch 28/100\n",
            "240/240 [==============================] - 0s 2ms/step - loss: 30.8137\n",
            "Epoch 29/100\n",
            "240/240 [==============================] - 0s 2ms/step - loss: 30.4159\n",
            "Epoch 30/100\n",
            "240/240 [==============================] - 0s 2ms/step - loss: 30.5414\n",
            "Epoch 31/100\n",
            "240/240 [==============================] - 1s 2ms/step - loss: 29.4635\n",
            "Epoch 32/100\n",
            "240/240 [==============================] - 0s 2ms/step - loss: 30.1333\n",
            "Epoch 33/100\n",
            "240/240 [==============================] - 0s 2ms/step - loss: 29.6862\n",
            "Epoch 34/100\n",
            "240/240 [==============================] - 0s 2ms/step - loss: 28.7524\n",
            "Epoch 35/100\n",
            "240/240 [==============================] - 0s 2ms/step - loss: 29.0283\n",
            "Epoch 36/100\n",
            "240/240 [==============================] - 0s 2ms/step - loss: 28.4695\n",
            "Epoch 37/100\n",
            "240/240 [==============================] - 0s 2ms/step - loss: 28.4479\n",
            "Epoch 38/100\n",
            "240/240 [==============================] - 1s 2ms/step - loss: 28.4820\n",
            "Epoch 39/100\n",
            "240/240 [==============================] - 0s 2ms/step - loss: 28.0520\n",
            "Epoch 40/100\n",
            "240/240 [==============================] - 1s 2ms/step - loss: 29.3994\n",
            "Epoch 41/100\n",
            "240/240 [==============================] - 0s 2ms/step - loss: 28.2537\n",
            "Epoch 42/100\n",
            "240/240 [==============================] - 1s 2ms/step - loss: 28.3093\n",
            "Epoch 43/100\n",
            "240/240 [==============================] - 0s 2ms/step - loss: 28.1265\n",
            "Epoch 44/100\n",
            "240/240 [==============================] - 1s 2ms/step - loss: 27.4311\n",
            "Epoch 45/100\n",
            "240/240 [==============================] - 1s 2ms/step - loss: 28.6062\n",
            "Epoch 46/100\n",
            "240/240 [==============================] - 1s 3ms/step - loss: 27.9885\n",
            "Epoch 47/100\n",
            "240/240 [==============================] - 1s 3ms/step - loss: 27.6647\n",
            "Epoch 48/100\n",
            "240/240 [==============================] - 1s 4ms/step - loss: 27.4682\n",
            "Epoch 49/100\n",
            "240/240 [==============================] - 1s 3ms/step - loss: 26.9698\n",
            "Epoch 50/100\n",
            "240/240 [==============================] - 0s 2ms/step - loss: 27.4957\n",
            "Epoch 51/100\n",
            "240/240 [==============================] - 0s 2ms/step - loss: 28.0577\n",
            "Epoch 52/100\n",
            "240/240 [==============================] - 1s 2ms/step - loss: 27.8541\n",
            "Epoch 53/100\n",
            "240/240 [==============================] - 0s 2ms/step - loss: 29.2167\n",
            "Epoch 54/100\n",
            "240/240 [==============================] - 1s 2ms/step - loss: 28.0516\n",
            "Epoch 55/100\n",
            "240/240 [==============================] - 0s 2ms/step - loss: 27.2327\n",
            "Epoch 56/100\n",
            "240/240 [==============================] - 0s 2ms/step - loss: 29.0070\n",
            "Epoch 57/100\n",
            "240/240 [==============================] - 0s 2ms/step - loss: 28.0556\n",
            "Epoch 58/100\n",
            "240/240 [==============================] - 1s 2ms/step - loss: 27.8893\n",
            "Epoch 59/100\n",
            "240/240 [==============================] - 0s 2ms/step - loss: 27.5906\n",
            "Epoch 60/100\n",
            "240/240 [==============================] - 0s 2ms/step - loss: 28.5110\n",
            "Epoch 61/100\n",
            "240/240 [==============================] - 1s 2ms/step - loss: 26.8915\n",
            "Epoch 62/100\n",
            "240/240 [==============================] - 1s 2ms/step - loss: 27.6700\n",
            "Epoch 63/100\n",
            "240/240 [==============================] - 0s 2ms/step - loss: 28.2587\n",
            "Epoch 64/100\n",
            "240/240 [==============================] - 1s 2ms/step - loss: 26.7208\n",
            "Epoch 65/100\n",
            "240/240 [==============================] - 0s 2ms/step - loss: 27.2706\n",
            "Epoch 66/100\n",
            "240/240 [==============================] - 1s 2ms/step - loss: 27.2997\n",
            "Epoch 67/100\n",
            "240/240 [==============================] - 0s 2ms/step - loss: 28.5759\n",
            "Epoch 68/100\n",
            "240/240 [==============================] - 0s 2ms/step - loss: 27.2786\n",
            "Epoch 69/100\n",
            "240/240 [==============================] - 1s 3ms/step - loss: 28.5287\n",
            "Epoch 70/100\n",
            "240/240 [==============================] - 1s 3ms/step - loss: 27.8402\n",
            "Epoch 71/100\n",
            "240/240 [==============================] - 1s 3ms/step - loss: 27.7570\n",
            "Epoch 72/100\n",
            "240/240 [==============================] - 1s 3ms/step - loss: 27.6291\n",
            "Epoch 73/100\n",
            "240/240 [==============================] - 0s 2ms/step - loss: 27.4260\n",
            "Epoch 74/100\n",
            "240/240 [==============================] - 0s 2ms/step - loss: 27.6313\n",
            "Epoch 75/100\n",
            "240/240 [==============================] - 0s 2ms/step - loss: 27.5395\n",
            "Epoch 76/100\n",
            "240/240 [==============================] - 0s 2ms/step - loss: 28.4509\n",
            "Epoch 77/100\n",
            "240/240 [==============================] - 1s 2ms/step - loss: 27.7070\n",
            "Epoch 78/100\n",
            "240/240 [==============================] - 0s 2ms/step - loss: 27.4765\n",
            "Epoch 79/100\n",
            "240/240 [==============================] - 1s 2ms/step - loss: 26.9771\n",
            "Epoch 80/100\n",
            "240/240 [==============================] - 0s 2ms/step - loss: 26.9242\n",
            "Epoch 81/100\n",
            "240/240 [==============================] - 0s 2ms/step - loss: 27.7434\n",
            "Epoch 82/100\n",
            "240/240 [==============================] - 1s 2ms/step - loss: 28.7800\n",
            "Epoch 83/100\n",
            "240/240 [==============================] - 1s 2ms/step - loss: 28.2447\n",
            "Epoch 84/100\n",
            "240/240 [==============================] - 0s 2ms/step - loss: 27.5560\n",
            "Epoch 85/100\n",
            "240/240 [==============================] - 1s 2ms/step - loss: 28.6575\n",
            "Epoch 86/100\n",
            "240/240 [==============================] - 0s 2ms/step - loss: 27.2542\n",
            "Epoch 87/100\n",
            "240/240 [==============================] - 1s 2ms/step - loss: 27.2858\n",
            "Epoch 88/100\n",
            "240/240 [==============================] - 1s 2ms/step - loss: 28.1549\n",
            "Epoch 89/100\n",
            "240/240 [==============================] - 1s 2ms/step - loss: 27.0657\n",
            "Epoch 90/100\n",
            "240/240 [==============================] - 0s 2ms/step - loss: 27.3674\n",
            "Epoch 91/100\n",
            "240/240 [==============================] - 1s 2ms/step - loss: 28.0962\n",
            "Epoch 92/100\n",
            "240/240 [==============================] - 1s 3ms/step - loss: 27.2309\n",
            "Epoch 93/100\n",
            "240/240 [==============================] - 1s 3ms/step - loss: 27.3965\n",
            "Epoch 94/100\n",
            "240/240 [==============================] - 1s 3ms/step - loss: 26.7590\n",
            "Epoch 95/100\n",
            "240/240 [==============================] - 1s 3ms/step - loss: 27.1487\n",
            "Epoch 96/100\n",
            "240/240 [==============================] - 0s 2ms/step - loss: 27.8028\n",
            "Epoch 97/100\n",
            "240/240 [==============================] - 1s 2ms/step - loss: 28.7185\n",
            "Epoch 98/100\n",
            "240/240 [==============================] - 1s 2ms/step - loss: 27.7904\n",
            "Epoch 99/100\n",
            "240/240 [==============================] - 1s 2ms/step - loss: 27.3840\n",
            "Epoch 100/100\n",
            "240/240 [==============================] - 0s 2ms/step - loss: 27.1808\n"
          ]
        },
        {
          "output_type": "execute_result",
          "data": {
            "text/plain": [
              "<keras.src.callbacks.History at 0x7bd75bfe4c40>"
            ]
          },
          "metadata": {},
          "execution_count": 21
        }
      ]
    },
    {
      "cell_type": "markdown",
      "metadata": {
        "id": "0H0zKKNEBLD5"
      },
      "source": [
        "### Predicting the results of the Test set"
      ]
    },
    {
      "cell_type": "code",
      "metadata": {
        "id": "IA0yApEmBG1X",
        "colab": {
          "base_uri": "https://localhost:8080/"
        },
        "outputId": "78e4c0f0-779b-4fd1-ceab-1da5c24ec87e"
      },
      "source": [
        "y_pred = ann.predict(X_test)\n",
        "np.set_printoptions(precision=2)\n",
        "print(np.concatenate((y_pred.reshape(len(y_pred),1), y_test.reshape(len(y_test),1)),1))"
      ],
      "execution_count": 22,
      "outputs": [
        {
          "output_type": "stream",
          "name": "stdout",
          "text": [
            "60/60 [==============================] - 0s 1ms/step\n",
            "[[431.99 431.23]\n",
            " [463.08 460.01]\n",
            " [466.59 461.14]\n",
            " ...\n",
            " [473.81 473.26]\n",
            " [440.62 438.  ]\n",
            " [459.82 463.28]]\n"
          ]
        }
      ]
    }
  ]
}