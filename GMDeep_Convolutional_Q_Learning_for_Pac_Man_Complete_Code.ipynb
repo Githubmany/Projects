{
  "cells": [
    {
      "cell_type": "markdown",
      "metadata": {
        "id": "view-in-github",
        "colab_type": "text"
      },
      "source": [
        "<a href=\"https://colab.research.google.com/github/Githubmany/Projects/blob/master/GMDeep_Convolutional_Q_Learning_for_Pac_Man_Complete_Code.ipynb\" target=\"_parent\"><img src=\"https://colab.research.google.com/assets/colab-badge.svg\" alt=\"Open In Colab\"/></a>"
      ]
    },
    {
      "cell_type": "markdown",
      "source": [
        "# Deep Convolutional Q-Learning for Pac-Man"
      ],
      "metadata": {
        "id": "EAiHVEoWHy_D"
      }
    },
    {
      "cell_type": "markdown",
      "source": [
        "## Part 0 - Installing the required packages and importing the libraries"
      ],
      "metadata": {
        "id": "tjO1aK3Ddjs5"
      }
    },
    {
      "cell_type": "markdown",
      "source": [
        "### Installing Gymnasium"
      ],
      "metadata": {
        "id": "NwdRB-ZLdrAV"
      }
    },
    {
      "cell_type": "code",
      "execution_count": 1,
      "metadata": {
        "id": "dbnq3XpoKa_7",
        "colab": {
          "base_uri": "https://localhost:8080/"
        },
        "outputId": "d4c65daa-51c8-4731-d7a9-db6db5e35eb4"
      },
      "outputs": [
        {
          "output_type": "stream",
          "name": "stdout",
          "text": [
            "Collecting gymnasium\n",
            "  Downloading gymnasium-0.29.1-py3-none-any.whl (953 kB)\n",
            "\u001b[2K     \u001b[90m━━━━━━━━━━━━━━━━━━━━━━━━━━━━━━━━━━━━━━━━\u001b[0m \u001b[32m953.9/953.9 kB\u001b[0m \u001b[31m20.6 MB/s\u001b[0m eta \u001b[36m0:00:00\u001b[0m\n",
            "\u001b[?25hRequirement already satisfied: numpy>=1.21.0 in /usr/local/lib/python3.10/dist-packages (from gymnasium) (1.23.5)\n",
            "Requirement already satisfied: cloudpickle>=1.2.0 in /usr/local/lib/python3.10/dist-packages (from gymnasium) (2.2.1)\n",
            "Requirement already satisfied: typing-extensions>=4.3.0 in /usr/local/lib/python3.10/dist-packages (from gymnasium) (4.5.0)\n",
            "Collecting farama-notifications>=0.0.1 (from gymnasium)\n",
            "  Downloading Farama_Notifications-0.0.4-py3-none-any.whl (2.5 kB)\n",
            "Installing collected packages: farama-notifications, gymnasium\n",
            "Successfully installed farama-notifications-0.0.4 gymnasium-0.29.1\n",
            "Requirement already satisfied: gymnasium[accept-rom-license,atari] in /usr/local/lib/python3.10/dist-packages (0.29.1)\n",
            "Requirement already satisfied: numpy>=1.21.0 in /usr/local/lib/python3.10/dist-packages (from gymnasium[accept-rom-license,atari]) (1.23.5)\n",
            "Requirement already satisfied: cloudpickle>=1.2.0 in /usr/local/lib/python3.10/dist-packages (from gymnasium[accept-rom-license,atari]) (2.2.1)\n",
            "Requirement already satisfied: typing-extensions>=4.3.0 in /usr/local/lib/python3.10/dist-packages (from gymnasium[accept-rom-license,atari]) (4.5.0)\n",
            "Requirement already satisfied: farama-notifications>=0.0.1 in /usr/local/lib/python3.10/dist-packages (from gymnasium[accept-rom-license,atari]) (0.0.4)\n",
            "Collecting shimmy[atari]<1.0,>=0.1.0 (from gymnasium[accept-rom-license,atari])\n",
            "  Downloading Shimmy-0.2.1-py3-none-any.whl (25 kB)\n",
            "Collecting autorom[accept-rom-license]~=0.4.2 (from gymnasium[accept-rom-license,atari])\n",
            "  Downloading AutoROM-0.4.2-py3-none-any.whl (16 kB)\n",
            "Requirement already satisfied: click in /usr/local/lib/python3.10/dist-packages (from autorom[accept-rom-license]~=0.4.2->gymnasium[accept-rom-license,atari]) (8.1.7)\n",
            "Requirement already satisfied: requests in /usr/local/lib/python3.10/dist-packages (from autorom[accept-rom-license]~=0.4.2->gymnasium[accept-rom-license,atari]) (2.31.0)\n",
            "Requirement already satisfied: tqdm in /usr/local/lib/python3.10/dist-packages (from autorom[accept-rom-license]~=0.4.2->gymnasium[accept-rom-license,atari]) (4.66.1)\n",
            "Collecting AutoROM.accept-rom-license (from autorom[accept-rom-license]~=0.4.2->gymnasium[accept-rom-license,atari])\n",
            "  Downloading AutoROM.accept-rom-license-0.6.1.tar.gz (434 kB)\n",
            "\u001b[2K     \u001b[90m━━━━━━━━━━━━━━━━━━━━━━━━━━━━━━━━━━━━━━━━\u001b[0m \u001b[32m434.7/434.7 kB\u001b[0m \u001b[31m8.9 MB/s\u001b[0m eta \u001b[36m0:00:00\u001b[0m\n",
            "\u001b[?25h  Installing build dependencies ... \u001b[?25l\u001b[?25hdone\n",
            "  Getting requirements to build wheel ... \u001b[?25l\u001b[?25hdone\n",
            "  Preparing metadata (pyproject.toml) ... \u001b[?25l\u001b[?25hdone\n",
            "Collecting ale-py~=0.8.1 (from shimmy[atari]<1.0,>=0.1.0->gymnasium[accept-rom-license,atari])\n",
            "  Downloading ale_py-0.8.1-cp310-cp310-manylinux_2_17_x86_64.manylinux2014_x86_64.whl (1.7 MB)\n",
            "\u001b[2K     \u001b[90m━━━━━━━━━━━━━━━━━━━━━━━━━━━━━━━━━━━━━━━━\u001b[0m \u001b[32m1.7/1.7 MB\u001b[0m \u001b[31m62.9 MB/s\u001b[0m eta \u001b[36m0:00:00\u001b[0m\n",
            "\u001b[?25hRequirement already satisfied: importlib-resources in /usr/local/lib/python3.10/dist-packages (from ale-py~=0.8.1->shimmy[atari]<1.0,>=0.1.0->gymnasium[accept-rom-license,atari]) (6.1.1)\n",
            "Requirement already satisfied: charset-normalizer<4,>=2 in /usr/local/lib/python3.10/dist-packages (from requests->autorom[accept-rom-license]~=0.4.2->gymnasium[accept-rom-license,atari]) (3.3.2)\n",
            "Requirement already satisfied: idna<4,>=2.5 in /usr/local/lib/python3.10/dist-packages (from requests->autorom[accept-rom-license]~=0.4.2->gymnasium[accept-rom-license,atari]) (3.6)\n",
            "Requirement already satisfied: urllib3<3,>=1.21.1 in /usr/local/lib/python3.10/dist-packages (from requests->autorom[accept-rom-license]~=0.4.2->gymnasium[accept-rom-license,atari]) (2.0.7)\n",
            "Requirement already satisfied: certifi>=2017.4.17 in /usr/local/lib/python3.10/dist-packages (from requests->autorom[accept-rom-license]~=0.4.2->gymnasium[accept-rom-license,atari]) (2023.11.17)\n",
            "Building wheels for collected packages: AutoROM.accept-rom-license\n",
            "  Building wheel for AutoROM.accept-rom-license (pyproject.toml) ... \u001b[?25l\u001b[?25hdone\n",
            "  Created wheel for AutoROM.accept-rom-license: filename=AutoROM.accept_rom_license-0.6.1-py3-none-any.whl size=446660 sha256=ea823abf2319498abe2c587d754bedfabb9a5cee52ca33687b7eec9551668b65\n",
            "  Stored in directory: /root/.cache/pip/wheels/6b/1b/ef/a43ff1a2f1736d5711faa1ba4c1f61be1131b8899e6a057811\n",
            "Successfully built AutoROM.accept-rom-license\n",
            "Installing collected packages: ale-py, shimmy, AutoROM.accept-rom-license, autorom\n",
            "Successfully installed AutoROM.accept-rom-license-0.6.1 ale-py-0.8.1 autorom-0.4.2 shimmy-0.2.1\n",
            "Reading package lists... Done\n",
            "Building dependency tree... Done\n",
            "Reading state information... Done\n",
            "The following additional packages will be installed:\n",
            "  swig4.0\n",
            "Suggested packages:\n",
            "  swig-doc swig-examples swig4.0-examples swig4.0-doc\n",
            "The following NEW packages will be installed:\n",
            "  swig swig4.0\n",
            "0 upgraded, 2 newly installed, 0 to remove and 15 not upgraded.\n",
            "Need to get 1,116 kB of archives.\n",
            "After this operation, 5,542 kB of additional disk space will be used.\n",
            "Get:1 http://archive.ubuntu.com/ubuntu jammy/universe amd64 swig4.0 amd64 4.0.2-1ubuntu1 [1,110 kB]\n",
            "Get:2 http://archive.ubuntu.com/ubuntu jammy/universe amd64 swig all 4.0.2-1ubuntu1 [5,632 B]\n",
            "Fetched 1,116 kB in 2s (639 kB/s)\n",
            "Selecting previously unselected package swig4.0.\n",
            "(Reading database ... 120899 files and directories currently installed.)\n",
            "Preparing to unpack .../swig4.0_4.0.2-1ubuntu1_amd64.deb ...\n",
            "Unpacking swig4.0 (4.0.2-1ubuntu1) ...\n",
            "Selecting previously unselected package swig.\n",
            "Preparing to unpack .../swig_4.0.2-1ubuntu1_all.deb ...\n",
            "Unpacking swig (4.0.2-1ubuntu1) ...\n",
            "Setting up swig4.0 (4.0.2-1ubuntu1) ...\n",
            "Setting up swig (4.0.2-1ubuntu1) ...\n",
            "Processing triggers for man-db (2.10.2-1) ...\n",
            "Requirement already satisfied: gymnasium[box2d] in /usr/local/lib/python3.10/dist-packages (0.29.1)\n",
            "Requirement already satisfied: numpy>=1.21.0 in /usr/local/lib/python3.10/dist-packages (from gymnasium[box2d]) (1.23.5)\n",
            "Requirement already satisfied: cloudpickle>=1.2.0 in /usr/local/lib/python3.10/dist-packages (from gymnasium[box2d]) (2.2.1)\n",
            "Requirement already satisfied: typing-extensions>=4.3.0 in /usr/local/lib/python3.10/dist-packages (from gymnasium[box2d]) (4.5.0)\n",
            "Requirement already satisfied: farama-notifications>=0.0.1 in /usr/local/lib/python3.10/dist-packages (from gymnasium[box2d]) (0.0.4)\n",
            "Collecting box2d-py==2.3.5 (from gymnasium[box2d])\n",
            "  Downloading box2d-py-2.3.5.tar.gz (374 kB)\n",
            "\u001b[2K     \u001b[90m━━━━━━━━━━━━━━━━━━━━━━━━━━━━━━━━━━━━━━━━\u001b[0m \u001b[32m374.4/374.4 kB\u001b[0m \u001b[31m7.1 MB/s\u001b[0m eta \u001b[36m0:00:00\u001b[0m\n",
            "\u001b[?25h  Preparing metadata (setup.py) ... \u001b[?25l\u001b[?25hdone\n",
            "Requirement already satisfied: pygame>=2.1.3 in /usr/local/lib/python3.10/dist-packages (from gymnasium[box2d]) (2.5.2)\n",
            "Collecting swig==4.* (from gymnasium[box2d])\n",
            "  Downloading swig-4.1.1.post1-py2.py3-none-manylinux_2_5_x86_64.manylinux1_x86_64.whl (1.8 MB)\n",
            "\u001b[2K     \u001b[90m━━━━━━━━━━━━━━━━━━━━━━━━━━━━━━━━━━━━━━━━\u001b[0m \u001b[32m1.8/1.8 MB\u001b[0m \u001b[31m60.3 MB/s\u001b[0m eta \u001b[36m0:00:00\u001b[0m\n",
            "\u001b[?25hBuilding wheels for collected packages: box2d-py\n",
            "  Building wheel for box2d-py (setup.py) ... \u001b[?25l\u001b[?25hdone\n",
            "  Created wheel for box2d-py: filename=box2d_py-2.3.5-cp310-cp310-linux_x86_64.whl size=2349111 sha256=2a8bd73935a5833340aec2db02da9eb3f0f31f3bec88f4c7b49c1d6f46deaa63\n",
            "  Stored in directory: /root/.cache/pip/wheels/db/8f/6a/eaaadf056fba10a98d986f6dce954e6201ba3126926fc5ad9e\n",
            "Successfully built box2d-py\n",
            "Installing collected packages: swig, box2d-py\n",
            "Successfully installed box2d-py-2.3.5 swig-4.1.1.post1\n"
          ]
        }
      ],
      "source": [
        "!pip install gymnasium\n",
        "!pip install \"gymnasium[atari, accept-rom-license]\"\n",
        "!apt-get install -y swig\n",
        "!pip install gymnasium[box2d]"
      ]
    },
    {
      "cell_type": "markdown",
      "source": [
        "### Importing the libraries"
      ],
      "metadata": {
        "id": "H-wes4LZdxdd"
      }
    },
    {
      "cell_type": "code",
      "execution_count": 2,
      "metadata": {
        "id": "Ho_25-9_9qnu"
      },
      "outputs": [],
      "source": [
        "import os\n",
        "import random\n",
        "import numpy as np\n",
        "import torch\n",
        "import torch.nn as nn\n",
        "import torch.optim as optim\n",
        "import torch.nn.functional as F\n",
        "from collections import deque\n",
        "from torch.utils.data import DataLoader, TensorDataset"
      ]
    },
    {
      "cell_type": "markdown",
      "source": [
        "## Part 1 - Building the AI"
      ],
      "metadata": {
        "id": "m7wa0ft8e3M_"
      }
    },
    {
      "cell_type": "markdown",
      "source": [
        "### Creating the architecture of the Neural Network"
      ],
      "metadata": {
        "id": "dlYVpVdHe-i6"
      }
    },
    {
      "cell_type": "code",
      "source": [
        "class Network(nn.Module):\n",
        "\n",
        "  def __init__(self, action_size, seed = 42):\n",
        "    super(Network, self).__init__()\n",
        "    self.seed = torch.manual_seed(seed)\n",
        "    self.conv1 = nn.Conv2d(3, 32, kernel_size = 8, stride = 4)\n",
        "    self.bn1 = nn.BatchNorm2d(32)\n",
        "    self.conv2 = nn.Conv2d(32, 64, kernel_size = 4, stride = 2)\n",
        "    self.bn2 = nn.BatchNorm2d(64)\n",
        "    self.conv3 = nn.Conv2d(64, 64, kernel_size = 3, stride = 1)\n",
        "    self.bn3 = nn.BatchNorm2d(64)\n",
        "    self.conv4 = nn.Conv2d(64, 128, kernel_size = 3, stride = 1)\n",
        "    self.bn4 = nn.BatchNorm2d(128)\n",
        "    self.fc1 = nn.Linear(10 * 10 * 128, 512)\n",
        "    self.fc2 = nn.Linear(512, 256)\n",
        "    self.fc3 = nn.Linear(256, action_size)\n",
        "\n",
        "  def forward(self, state):\n",
        "    x = F.relu(self.bn1(self.conv1(state)))\n",
        "    x = F.relu(self.bn2(self.conv2(x)))\n",
        "    x = F.relu(self.bn3(self.conv3(x)))\n",
        "    x = F.relu(self.bn4(self.conv4(x)))\n",
        "    x = x.view(x.size(0), -1)\n",
        "    x = F.relu(self.fc1(x))\n",
        "    x = F.relu(self.fc2(x))\n",
        "    return self.fc3(x)\n",
        "\n"
      ],
      "metadata": {
        "id": "USO-Qma_Y8pG",
        "colab": {
          "base_uri": "https://localhost:8080/"
        },
        "outputId": "bd5e5c4c-0e52-49fb-bc8e-82bdbaf3c19a"
      },
      "execution_count": 31,
      "outputs": [
        {
          "output_type": "stream",
          "name": "stderr",
          "text": [
            "/usr/local/lib/python3.10/dist-packages/ipykernel/ipkernel.py:283: DeprecationWarning: `should_run_async` will not call `transform_cell` automatically in the future. Please pass the result to `transformed_cell` argument and any exception that happen during thetransform in `preprocessing_exc_tuple` in IPython 7.17 and above.\n",
            "  and should_run_async(code)\n"
          ]
        }
      ]
    },
    {
      "cell_type": "code",
      "source": [],
      "metadata": {
        "id": "MwJanGnRYzmx"
      },
      "execution_count": null,
      "outputs": []
    },
    {
      "cell_type": "markdown",
      "source": [
        "## Part 2 - Training the AI"
      ],
      "metadata": {
        "id": "rUvCfE_mhwo2"
      }
    },
    {
      "cell_type": "markdown",
      "source": [
        "### Setting up the environment"
      ],
      "metadata": {
        "id": "WWCDPF22lkwc"
      }
    },
    {
      "cell_type": "code",
      "source": [],
      "metadata": {
        "id": "x23ofupPqEB3"
      },
      "execution_count": null,
      "outputs": []
    },
    {
      "cell_type": "code",
      "source": [
        "import gymnasium as gym\n",
        "env = gym.make('MsPacmanDeterministic-v4', full_action_space = False)\n",
        "state_shape = env.observation_space.shape\n",
        "state_size = env.observation_space.shape[0]\n",
        "number_actions = env.action_space.n\n",
        "print('State shape: ', state_shape)\n",
        "print('State size: ', state_size)\n",
        "print('Number of actions: ', number_actions)"
      ],
      "metadata": {
        "colab": {
          "base_uri": "https://localhost:8080/"
        },
        "id": "qYLnz2Z6PqeU",
        "outputId": "8ffdb13d-e629-4d3b-9c8e-6101a6c2a094"
      },
      "execution_count": 32,
      "outputs": [
        {
          "output_type": "stream",
          "name": "stdout",
          "text": [
            "State shape:  (210, 160, 3)\n",
            "State size:  210\n",
            "Number of actions:  9\n"
          ]
        }
      ]
    },
    {
      "cell_type": "markdown",
      "source": [
        "### Initializing the hyperparameters"
      ],
      "metadata": {
        "id": "Bx6IdX3ciDqH"
      }
    },
    {
      "cell_type": "code",
      "source": [],
      "metadata": {
        "id": "UqZaMMiqsCP5"
      },
      "execution_count": null,
      "outputs": []
    },
    {
      "cell_type": "code",
      "source": [
        "learning_rate = 5e-4\n",
        "minibatch_size = 64\n",
        "discount_factor = 0.99"
      ],
      "metadata": {
        "id": "pQHWLxOwrb0J"
      },
      "execution_count": 33,
      "outputs": []
    },
    {
      "cell_type": "markdown",
      "source": [
        "### Preprocessing the frames"
      ],
      "metadata": {
        "id": "U2bDShIEkA5V"
      }
    },
    {
      "cell_type": "code",
      "source": [
        "from PIL import Image\n",
        "from torchvision import transforms\n",
        "\n",
        "def preprocess_frame(frame):\n",
        "  frame = Image.fromarray(frame)\n",
        "  preprocess = transforms.Compose([transforms.Resize((128, 128)), transforms.ToTensor()])\n",
        "  return preprocess(frame).unsqueeze(0)"
      ],
      "metadata": {
        "id": "VporQhgMDygL"
      },
      "execution_count": 34,
      "outputs": []
    },
    {
      "cell_type": "code",
      "source": [],
      "metadata": {
        "id": "0EvCXtdvs0MJ"
      },
      "execution_count": null,
      "outputs": []
    },
    {
      "cell_type": "markdown",
      "source": [
        "### Implementing the DCQN class"
      ],
      "metadata": {
        "id": "imMdSO-HAWra"
      }
    },
    {
      "cell_type": "code",
      "source": [
        "class Agent():\n",
        "\n",
        "  def __init__(self, action_size):\n",
        "    self.device = torch.device(\"cuda:0\" if torch.cuda.is_available() else \"cpu\")\n",
        "    self.action_size = action_size\n",
        "    self.local_qnetwork = Network(action_size).to(self.device)\n",
        "    self.target_qnetwork = Network(action_size).to(self.device)\n",
        "    self.optimizer = optim.Adam(self.local_qnetwork.parameters(), lr = learning_rate)\n",
        "    self.memory = deque(maxlen = 10000)\n",
        "\n",
        "  def step(self, state, action, reward, next_state, done):\n",
        "    state = preprocess_frame(state)\n",
        "    next_state = preprocess_frame(next_state)\n",
        "    self.memory.append((state, action, reward, next_state, done))\n",
        "    if len(self.memory) > minibatch_size:\n",
        "      experiences = random.sample(self.memory, k = minibatch_size)\n",
        "      self.learn(experiences, discount_factor)\n",
        "\n",
        "  def act(self, state, epsilon = 0.):\n",
        "    state = preprocess_frame(state).to(self.device)\n",
        "    self.local_qnetwork.eval()\n",
        "    with torch.no_grad():\n",
        "      action_values = self.local_qnetwork(state)\n",
        "    self.local_qnetwork.train()\n",
        "    if random.random() > epsilon:\n",
        "      return np.argmax(action_values.cpu().data.numpy())\n",
        "    else:\n",
        "      return random.choice(np.arange(self.action_size))\n",
        "\n",
        "  def learn(self, experiences, discount_factor):\n",
        "    states, actions, rewards, next_states, dones = zip(*experiences)\n",
        "    states = torch.from_numpy(np.vstack(states)).float().to(self.device)\n",
        "    actions = torch.from_numpy(np.vstack(actions)).long().to(self.device)\n",
        "    rewards = torch.from_numpy(np.vstack(rewards)).float().to(self.device)\n",
        "    next_states = torch.from_numpy(np.vstack(next_states)).float().to(self.device)\n",
        "    dones = torch.from_numpy(np.vstack(dones).astype(np.uint8)).float().to(self.device)\n",
        "    next_q_targets = self.target_qnetwork(next_states).detach().max(1)[0].unsqueeze(1)\n",
        "    q_targets = rewards + discount_factor * next_q_targets * (1 - dones)\n",
        "    q_expected = self.local_qnetwork(states).gather(1, actions)\n",
        "    loss = F.mse_loss(q_expected, q_targets)\n",
        "    self.optimizer.zero_grad()\n",
        "    loss.backward()\n",
        "    self.optimizer.step()"
      ],
      "metadata": {
        "id": "-s8xE3Exv7Oq"
      },
      "execution_count": 40,
      "outputs": []
    },
    {
      "cell_type": "code",
      "source": [
        "class Agent():\n",
        "\n",
        "  def __init__(self, action_size):\n",
        "    self.device = torch.device(\"cuda:0\" if torch.cuda.is_available() else \"cpu\")\n",
        "    self.action_size = action_size\n",
        "    self.local_qnetwork = Network(action_size).to(self.device)\n",
        "    self.target_qnetwork = Network(action_size).to(self.device)\n",
        "    self.optimizer = optim.Adam(self.local_qnetwork.parameters(), lr = learning_rate)\n",
        "    self.memory = deque(maxlen = 10000)\n",
        "\n",
        "  def step(self, state, action, reward, next_state, done):\n",
        "    state = preprocess_frame(state)\n",
        "    next_state = preprocess_frame(next_state)\n",
        "    self.memory.append((state, action, reward, next_state, done))\n",
        "    if len(self.memory) > minibatch_size:\n",
        "      experiences = random.sample(self.memory, k = minibatch_size)\n",
        "      self.learn(experiences, discount_factor)\n",
        "\n",
        "  def act(self, state, epsilon = 0.):\n",
        "    state = preprocess_frame(state).to(self.device)\n",
        "    self.local_qnetwork.eval()\n",
        "    with torch.no_grad():\n",
        "      action_values = self.local_qnetwork(state)\n",
        "    self.local_qnetwork.train()\n",
        "    if random.random() > epsilon:\n",
        "      return np.argmax(action_values.cpu().data.numpy())\n",
        "    else:\n",
        "      return random.choice(np.arange(self.action_size))\n",
        "\n",
        "  def learn(self, experiences, discount_factor):\n",
        "    states, actions, rewards, next_states, dones = zip(*experiences)\n",
        "    states = torch.from_numpy(np.vstack(states)).float().to(self.device)\n",
        "    actions = torch.from_numpy(np.vstack(actions)).long().to(self.device)\n",
        "    rewards = torch.from_numpy(np.vstack(rewards)).float().to(self.device)\n",
        "    next_states = torch.from_numpy(np.vstack(next_states)).float().to(self.device)\n",
        "    dones = torch.from_numpy(np.vstack(dones).astype(np.uint8)).float().to(self.device)\n",
        "    next_q_targets = self.target_qnetwork(next_states).detach().max(1)[0].unsqueeze(1)\n",
        "    q_targets = rewards + discount_factor * next_q_targets * (1 - dones)\n",
        "    q_expected = self.local_qnetwork(states).gather(1, actions)\n",
        "    loss = F.mse_loss(q_expected, q_targets)\n",
        "    self.optimizer.zero_grad()\n",
        "    loss.backward()\n",
        "    self.optimizer.step()"
      ],
      "metadata": {
        "id": "N7dwS2q2wupJ"
      },
      "execution_count": 28,
      "outputs": []
    },
    {
      "cell_type": "markdown",
      "source": [
        "### Initializing the DCQN agent"
      ],
      "metadata": {
        "id": "yUg95iBpAwII"
      }
    },
    {
      "cell_type": "code",
      "source": [
        "agent = Agent(number_actions)"
      ],
      "metadata": {
        "id": "eJJB1Gr6IKnC"
      },
      "execution_count": 44,
      "outputs": []
    },
    {
      "cell_type": "markdown",
      "source": [
        "### Training the DCQN agent"
      ],
      "metadata": {
        "id": "CK6Zt_gNmHvm"
      }
    },
    {
      "cell_type": "code",
      "source": [
        "\n",
        "number_episodes = 2000\n",
        "maximum_number_timesteps_per_episode = 1000\n",
        "epsilon_starting_value = 1.0\n",
        "epsilon_ending_value = 0.01\n",
        "epsilon_decay_value = 0.995\n",
        "epsilon = epsilon_starting_value\n",
        "scores_on_100_episodes = deque(maxlen=100)\n",
        "\n",
        "# Loop through episodes\n",
        "for episode in range(1, number_episodes + 1):\n",
        "    # Reset environment for a new episode\n",
        "    state, _ = env.reset()\n",
        "\n",
        "    # Initialize episode score\n",
        "    score = 0\n",
        "\n",
        "    # Loop through timesteps in the current episode\n",
        "    for t in range(maximum_number_timesteps_per_episode):\n",
        "        # Choose an action using the agent's policy\n",
        "        action = agent.act(state, epsilon)\n",
        "\n",
        "        # Take a step in the environment\n",
        "        next_state, reward, done, _, _ = env.step(action)\n",
        "\n",
        "        # Update the agent based on the step\n",
        "        agent.step(state, action, reward, next_state, done)\n",
        "\n",
        "        # Update the state for the next timestep\n",
        "        state = next_state\n",
        "\n",
        "        # Update the episode score\n",
        "        score += reward\n",
        "\n",
        "        # Break the loop if the episode is done\n",
        "        if done:\n",
        "            break\n",
        "\n",
        "    # Append the episode score to the list\n",
        "    scores_on_100_episodes.append(score)\n",
        "\n",
        "    # Update epsilon for the next episode\n",
        "    epsilon = max(epsilon_ending_value, epsilon_decay_value * epsilon)\n",
        "\n",
        "    print(\"\\rEpisode {}\\tAverage Score: {:.2f}\".format(episode, np.mean(scores_on_100_episodes)), end=\"\")\n",
        "\n",
        "    if episode % 100 == 0:\n",
        "        print(\"\\rEpisode {}\\tAverage Score: {:.2f}\".format(episode, np.mean(scores_on_100_episodes)))\n",
        "\n",
        "    if np.mean(scores_on_100_episodes) >= 500.0:\n",
        "        print(\"\\nEnvironment solved in {:d} episodes!\\tAverage Score: {:.2f}\".format(episode - 100, np.mean(scores_on_100_episodes)))\n",
        "        torch.save(agent.local_qnetwork.state_dict(), \"checkpoint.pth\")\n",
        "        break\n"
      ],
      "metadata": {
        "id": "XvBh4TLjIfz2",
        "colab": {
          "base_uri": "https://localhost:8080/"
        },
        "outputId": "00d50cef-757b-44a6-9dea-7a888c217859"
      },
      "execution_count": 47,
      "outputs": [
        {
          "output_type": "stream",
          "name": "stdout",
          "text": [
            "Episode 100\tAverage Score: 294.10\n",
            "Episode 200\tAverage Score: 355.70\n",
            "Episode 300\tAverage Score: 429.60\n",
            "Episode 400\tAverage Score: 396.50\n",
            "Episode 446\tAverage Score: 507.20\n",
            "Environment solved in 346 episodes!\tAverage Score: 507.20\n"
          ]
        }
      ]
    },
    {
      "cell_type": "markdown",
      "source": [],
      "metadata": {
        "id": "O0SuiUqiKbEj"
      }
    },
    {
      "cell_type": "markdown",
      "source": [
        "## Part 3 - Visualizing the results"
      ],
      "metadata": {
        "id": "-0WhhBV8nQdf"
      }
    },
    {
      "cell_type": "code",
      "execution_count": 48,
      "metadata": {
        "id": "cb9nVvU2Okhk",
        "colab": {
          "base_uri": "https://localhost:8080/",
          "height": 458
        },
        "outputId": "f572eb48-02ac-40ea-bb1c-365431e55861"
      },
      "outputs": [
        {
          "output_type": "stream",
          "name": "stderr",
          "text": [
            "WARNING:imageio_ffmpeg:IMAGEIO FFMPEG_WRITER WARNING: input image is not divisible by macro_block_size=16, resizing from (160, 210) to (160, 224) to ensure video compatibility with most codecs and players. To prevent resizing, make your input image divisible by the macro_block_size or set the macro_block_size to 1 (risking incompatibility).\n"
          ]
        },
        {
          "output_type": "display_data",
          "data": {
            "text/plain": [
              "<IPython.core.display.HTML object>"
            ],
            "text/html": [
              "<video alt=\"test\" autoplay\n",
              "                loop controls style=\"height: 400px;\">\n",
              "                <source src=\"data:video/mp4;base64,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\" type=\"video/mp4\" />\n",
              "             </video>"
            ]
          },
          "metadata": {}
        }
      ],
      "source": [
        "import glob\n",
        "import io\n",
        "import base64\n",
        "import imageio\n",
        "from IPython.display import HTML, display\n",
        "from gym.wrappers.monitoring.video_recorder import VideoRecorder\n",
        "\n",
        "def show_video_of_model(agent, env_name):\n",
        "    env = gym.make(env_name, render_mode='rgb_array')\n",
        "    state, _ = env.reset()\n",
        "    done = False\n",
        "    frames = []\n",
        "    while not done:\n",
        "        frame = env.render()\n",
        "        frames.append(frame)\n",
        "        action = agent.act(state)\n",
        "        state, reward, done, _, _ = env.step(action)\n",
        "    env.close()\n",
        "    imageio.mimsave('video.mp4', frames, fps=30)\n",
        "\n",
        "show_video_of_model(agent, 'MsPacmanDeterministic-v4')\n",
        "\n",
        "def show_video():\n",
        "    mp4list = glob.glob('*.mp4')\n",
        "    if len(mp4list) > 0:\n",
        "        mp4 = mp4list[0]\n",
        "        video = io.open(mp4, 'r+b').read()\n",
        "        encoded = base64.b64encode(video)\n",
        "        display(HTML(data='''<video alt=\"test\" autoplay\n",
        "                loop controls style=\"height: 400px;\">\n",
        "                <source src=\"data:video/mp4;base64,{0}\" type=\"video/mp4\" />\n",
        "             </video>'''.format(encoded.decode('ascii'))))\n",
        "    else:\n",
        "        print(\"Could not find video\")\n",
        "\n",
        "show_video()"
      ]
    }
  ],
  "metadata": {
    "colab": {
      "provenance": [],
      "machine_shape": "hm",
      "gpuType": "T4",
      "include_colab_link": true
    },
    "kernelspec": {
      "display_name": "Python 3",
      "name": "python3"
    },
    "language_info": {
      "name": "python"
    },
    "accelerator": "GPU"
  },
  "nbformat": 4,
  "nbformat_minor": 0
}